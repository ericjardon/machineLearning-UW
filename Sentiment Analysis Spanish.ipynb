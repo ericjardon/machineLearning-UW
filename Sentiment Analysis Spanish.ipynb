{
 "cells": [
  {
   "cell_type": "markdown",
   "id": "f4327b21",
   "metadata": {},
   "source": [
    "# Sentiment Analysis on Spanish reviews using ntlk's `LogisticClassifier`"
   ]
  },
  {
   "cell_type": "code",
   "execution_count": 1,
   "id": "461d5045",
   "metadata": {},
   "outputs": [],
   "source": [
    "import pandas as pd\n",
    "import numpy as np\n",
    "from sklearn.metrics import roc_auc_score, precision_score\n",
    "from sklearn.linear_model import LogisticRegression"
   ]
  },
  {
   "cell_type": "markdown",
   "id": "2b2b74f3",
   "metadata": {},
   "source": [
    "## Prepare the Data"
   ]
  },
  {
   "cell_type": "code",
   "execution_count": 2,
   "id": "66bf7293",
   "metadata": {},
   "outputs": [],
   "source": [
    "train_data = pd.read_json('./data/amazon-reviews-ml/dataset_es_train.json', lines=True)"
   ]
  },
  {
   "cell_type": "code",
   "execution_count": 3,
   "id": "c7679faa",
   "metadata": {},
   "outputs": [],
   "source": [
    "test_data = pd.read_json('./data/amazon-reviews-ml/dataset_es_test.json', lines=True)"
   ]
  },
  {
   "cell_type": "code",
   "execution_count": 5,
   "id": "5523c8ea",
   "metadata": {},
   "outputs": [
    {
     "data": {
      "text/plain": [
       "5000"
      ]
     },
     "execution_count": 5,
     "metadata": {},
     "output_type": "execute_result"
    }
   ],
   "source": [
    "len(test_data)"
   ]
  },
  {
   "cell_type": "code",
   "execution_count": 7,
   "id": "ed78e359",
   "metadata": {},
   "outputs": [
    {
     "data": {
      "text/html": [
       "<div>\n",
       "<style scoped>\n",
       "    .dataframe tbody tr th:only-of-type {\n",
       "        vertical-align: middle;\n",
       "    }\n",
       "\n",
       "    .dataframe tbody tr th {\n",
       "        vertical-align: top;\n",
       "    }\n",
       "\n",
       "    .dataframe thead th {\n",
       "        text-align: right;\n",
       "    }\n",
       "</style>\n",
       "<table border=\"1\" class=\"dataframe\">\n",
       "  <thead>\n",
       "    <tr style=\"text-align: right;\">\n",
       "      <th></th>\n",
       "      <th>review_id</th>\n",
       "      <th>product_id</th>\n",
       "      <th>reviewer_id</th>\n",
       "      <th>stars</th>\n",
       "      <th>review_body</th>\n",
       "      <th>review_title</th>\n",
       "      <th>language</th>\n",
       "      <th>product_category</th>\n",
       "    </tr>\n",
       "  </thead>\n",
       "  <tbody>\n",
       "    <tr>\n",
       "      <th>0</th>\n",
       "      <td>es_0491108</td>\n",
       "      <td>product_es_0296024</td>\n",
       "      <td>reviewer_es_0999081</td>\n",
       "      <td>1</td>\n",
       "      <td>Nada bueno se me fue ka pantalla en menos de 8...</td>\n",
       "      <td>television Nevir</td>\n",
       "      <td>es</td>\n",
       "      <td>electronics</td>\n",
       "    </tr>\n",
       "    <tr>\n",
       "      <th>1</th>\n",
       "      <td>es_0869872</td>\n",
       "      <td>product_es_0922286</td>\n",
       "      <td>reviewer_es_0216771</td>\n",
       "      <td>1</td>\n",
       "      <td>Horrible, nos tuvimos que comprar otro porque ...</td>\n",
       "      <td>Dinero tirado a la basura con esta compra</td>\n",
       "      <td>es</td>\n",
       "      <td>electronics</td>\n",
       "    </tr>\n",
       "    <tr>\n",
       "      <th>2</th>\n",
       "      <td>es_0811721</td>\n",
       "      <td>product_es_0474543</td>\n",
       "      <td>reviewer_es_0929213</td>\n",
       "      <td>1</td>\n",
       "      <td>Te obligan a comprar dos unidades y te llega s...</td>\n",
       "      <td>solo llega una unidad cuando te obligan a comp...</td>\n",
       "      <td>es</td>\n",
       "      <td>drugstore</td>\n",
       "    </tr>\n",
       "    <tr>\n",
       "      <th>3</th>\n",
       "      <td>es_0359921</td>\n",
       "      <td>product_es_0656090</td>\n",
       "      <td>reviewer_es_0224702</td>\n",
       "      <td>1</td>\n",
       "      <td>No entro en descalificar al vendedor, solo pue...</td>\n",
       "      <td>PRODUCTO NO RECIBIDO.</td>\n",
       "      <td>es</td>\n",
       "      <td>wireless</td>\n",
       "    </tr>\n",
       "    <tr>\n",
       "      <th>4</th>\n",
       "      <td>es_0068940</td>\n",
       "      <td>product_es_0662544</td>\n",
       "      <td>reviewer_es_0224827</td>\n",
       "      <td>1</td>\n",
       "      <td>Llega tarde y co la talla equivocada</td>\n",
       "      <td>Devuelto</td>\n",
       "      <td>es</td>\n",
       "      <td>shoes</td>\n",
       "    </tr>\n",
       "    <tr>\n",
       "      <th>...</th>\n",
       "      <td>...</td>\n",
       "      <td>...</td>\n",
       "      <td>...</td>\n",
       "      <td>...</td>\n",
       "      <td>...</td>\n",
       "      <td>...</td>\n",
       "      <td>...</td>\n",
       "      <td>...</td>\n",
       "    </tr>\n",
       "    <tr>\n",
       "      <th>199995</th>\n",
       "      <td>es_0715276</td>\n",
       "      <td>product_es_0317036</td>\n",
       "      <td>reviewer_es_0643604</td>\n",
       "      <td>5</td>\n",
       "      <td>Mando funciona perfectamente y cumple con toda...</td>\n",
       "      <td>Tal y como se describe</td>\n",
       "      <td>es</td>\n",
       "      <td>electronics</td>\n",
       "    </tr>\n",
       "    <tr>\n",
       "      <th>199996</th>\n",
       "      <td>es_0085190</td>\n",
       "      <td>product_es_0622919</td>\n",
       "      <td>reviewer_es_0466173</td>\n",
       "      <td>5</td>\n",
       "      <td>Compré la batería con cierta reticencia, pero ...</td>\n",
       "      <td>Funciona perfectamente</td>\n",
       "      <td>es</td>\n",
       "      <td>electronics</td>\n",
       "    </tr>\n",
       "    <tr>\n",
       "      <th>199997</th>\n",
       "      <td>es_0484496</td>\n",
       "      <td>product_es_0358101</td>\n",
       "      <td>reviewer_es_0330744</td>\n",
       "      <td>5</td>\n",
       "      <td>Buena calidad. Satisfecha con la compra.</td>\n",
       "      <td>Buena calidad.</td>\n",
       "      <td>es</td>\n",
       "      <td>apparel</td>\n",
       "    </tr>\n",
       "    <tr>\n",
       "      <th>199998</th>\n",
       "      <td>es_0930141</td>\n",
       "      <td>product_es_0788855</td>\n",
       "      <td>reviewer_es_0694290</td>\n",
       "      <td>5</td>\n",
       "      <td>Perfecto para el cumple de mi hijo</td>\n",
       "      <td>Recomendado</td>\n",
       "      <td>es</td>\n",
       "      <td>toy</td>\n",
       "    </tr>\n",
       "    <tr>\n",
       "      <th>199999</th>\n",
       "      <td>es_0859809</td>\n",
       "      <td>product_es_0378794</td>\n",
       "      <td>reviewer_es_0141717</td>\n",
       "      <td>5</td>\n",
       "      <td>Súper bien! Las brochas son buenas, no sé meno...</td>\n",
       "      <td>Preciosas</td>\n",
       "      <td>es</td>\n",
       "      <td>home</td>\n",
       "    </tr>\n",
       "  </tbody>\n",
       "</table>\n",
       "<p>200000 rows × 8 columns</p>\n",
       "</div>"
      ],
      "text/plain": [
       "         review_id          product_id          reviewer_id  stars  \\\n",
       "0       es_0491108  product_es_0296024  reviewer_es_0999081      1   \n",
       "1       es_0869872  product_es_0922286  reviewer_es_0216771      1   \n",
       "2       es_0811721  product_es_0474543  reviewer_es_0929213      1   \n",
       "3       es_0359921  product_es_0656090  reviewer_es_0224702      1   \n",
       "4       es_0068940  product_es_0662544  reviewer_es_0224827      1   \n",
       "...            ...                 ...                  ...    ...   \n",
       "199995  es_0715276  product_es_0317036  reviewer_es_0643604      5   \n",
       "199996  es_0085190  product_es_0622919  reviewer_es_0466173      5   \n",
       "199997  es_0484496  product_es_0358101  reviewer_es_0330744      5   \n",
       "199998  es_0930141  product_es_0788855  reviewer_es_0694290      5   \n",
       "199999  es_0859809  product_es_0378794  reviewer_es_0141717      5   \n",
       "\n",
       "                                              review_body  \\\n",
       "0       Nada bueno se me fue ka pantalla en menos de 8...   \n",
       "1       Horrible, nos tuvimos que comprar otro porque ...   \n",
       "2       Te obligan a comprar dos unidades y te llega s...   \n",
       "3       No entro en descalificar al vendedor, solo pue...   \n",
       "4                    Llega tarde y co la talla equivocada   \n",
       "...                                                   ...   \n",
       "199995  Mando funciona perfectamente y cumple con toda...   \n",
       "199996  Compré la batería con cierta reticencia, pero ...   \n",
       "199997           Buena calidad. Satisfecha con la compra.   \n",
       "199998                 Perfecto para el cumple de mi hijo   \n",
       "199999  Súper bien! Las brochas son buenas, no sé meno...   \n",
       "\n",
       "                                             review_title language  \\\n",
       "0                                        television Nevir       es   \n",
       "1               Dinero tirado a la basura con esta compra       es   \n",
       "2       solo llega una unidad cuando te obligan a comp...       es   \n",
       "3                                   PRODUCTO NO RECIBIDO.       es   \n",
       "4                                                Devuelto       es   \n",
       "...                                                   ...      ...   \n",
       "199995                             Tal y como se describe       es   \n",
       "199996                             Funciona perfectamente       es   \n",
       "199997                                     Buena calidad.       es   \n",
       "199998                                        Recomendado       es   \n",
       "199999                                          Preciosas       es   \n",
       "\n",
       "       product_category  \n",
       "0           electronics  \n",
       "1           electronics  \n",
       "2             drugstore  \n",
       "3              wireless  \n",
       "4                 shoes  \n",
       "...                 ...  \n",
       "199995      electronics  \n",
       "199996      electronics  \n",
       "199997          apparel  \n",
       "199998              toy  \n",
       "199999             home  \n",
       "\n",
       "[200000 rows x 8 columns]"
      ]
     },
     "execution_count": 7,
     "metadata": {},
     "output_type": "execute_result"
    }
   ],
   "source": [
    "train_data"
   ]
  },
  {
   "cell_type": "code",
   "execution_count": 8,
   "id": "998e6b7c",
   "metadata": {},
   "outputs": [],
   "source": [
    "# Concatenate title and body texts\n",
    "train_data['review'] = train_data['review_title'] + ' ' + train_data['review_body']\n",
    "test_data['review'] = test_data['review_title'] + ' ' + test_data['review_body']"
   ]
  },
  {
   "cell_type": "code",
   "execution_count": 9,
   "id": "a8573e7c",
   "metadata": {},
   "outputs": [
    {
     "name": "stderr",
     "output_type": "stream",
     "text": [
      "/tmp/ipykernel_1026/1972857704.py:3: SettingWithCopyWarning: \n",
      "A value is trying to be set on a copy of a slice from a DataFrame.\n",
      "Try using .loc[row_indexer,col_indexer] = value instead\n",
      "\n",
      "See the caveats in the documentation: https://pandas.pydata.org/pandas-docs/stable/user_guide/indexing.html#returning-a-view-versus-a-copy\n",
      "  train_data['sentiment'] = np.where(train_data['stars']>3, 1, 0)\n",
      "/tmp/ipykernel_1026/1972857704.py:7: SettingWithCopyWarning: \n",
      "A value is trying to be set on a copy of a slice from a DataFrame.\n",
      "Try using .loc[row_indexer,col_indexer] = value instead\n",
      "\n",
      "See the caveats in the documentation: https://pandas.pydata.org/pandas-docs/stable/user_guide/indexing.html#returning-a-view-versus-a-copy\n",
      "  test_data['sentiment'] = np.where(test_data['stars']>3, 1, 0)\n"
     ]
    }
   ],
   "source": [
    "# Create a binary sentiment column based on rating Heuristic\n",
    "train_data = train_data[train_data['stars'] != 3]\n",
    "train_data['sentiment'] = np.where(train_data['stars']>3, 1, 0)\n",
    "\n",
    "\n",
    "test_data = test_data[test_data['stars'] != 3]\n",
    "test_data['sentiment'] = np.where(test_data['stars']>3, 1, 0)"
   ]
  },
  {
   "cell_type": "code",
   "execution_count": 10,
   "id": "2d09928c",
   "metadata": {},
   "outputs": [
    {
     "data": {
      "text/html": [
       "<div>\n",
       "<style scoped>\n",
       "    .dataframe tbody tr th:only-of-type {\n",
       "        vertical-align: middle;\n",
       "    }\n",
       "\n",
       "    .dataframe tbody tr th {\n",
       "        vertical-align: top;\n",
       "    }\n",
       "\n",
       "    .dataframe thead th {\n",
       "        text-align: right;\n",
       "    }\n",
       "</style>\n",
       "<table border=\"1\" class=\"dataframe\">\n",
       "  <thead>\n",
       "    <tr style=\"text-align: right;\">\n",
       "      <th></th>\n",
       "      <th>review</th>\n",
       "      <th>stars</th>\n",
       "      <th>sentiment</th>\n",
       "    </tr>\n",
       "  </thead>\n",
       "  <tbody>\n",
       "    <tr>\n",
       "      <th>0</th>\n",
       "      <td>television Nevir Nada bueno se me fue ka panta...</td>\n",
       "      <td>1</td>\n",
       "      <td>0</td>\n",
       "    </tr>\n",
       "    <tr>\n",
       "      <th>1</th>\n",
       "      <td>Dinero tirado a la basura con esta compra Horr...</td>\n",
       "      <td>1</td>\n",
       "      <td>0</td>\n",
       "    </tr>\n",
       "    <tr>\n",
       "      <th>2</th>\n",
       "      <td>solo llega una unidad cuando te obligan a comp...</td>\n",
       "      <td>1</td>\n",
       "      <td>0</td>\n",
       "    </tr>\n",
       "    <tr>\n",
       "      <th>3</th>\n",
       "      <td>PRODUCTO NO RECIBIDO. No entro en descalificar...</td>\n",
       "      <td>1</td>\n",
       "      <td>0</td>\n",
       "    </tr>\n",
       "    <tr>\n",
       "      <th>4</th>\n",
       "      <td>Devuelto Llega tarde y co la talla equivocada</td>\n",
       "      <td>1</td>\n",
       "      <td>0</td>\n",
       "    </tr>\n",
       "    <tr>\n",
       "      <th>...</th>\n",
       "      <td>...</td>\n",
       "      <td>...</td>\n",
       "      <td>...</td>\n",
       "    </tr>\n",
       "    <tr>\n",
       "      <th>199995</th>\n",
       "      <td>Tal y como se describe Mando funciona perfecta...</td>\n",
       "      <td>5</td>\n",
       "      <td>1</td>\n",
       "    </tr>\n",
       "    <tr>\n",
       "      <th>199996</th>\n",
       "      <td>Funciona perfectamente Compré la batería con c...</td>\n",
       "      <td>5</td>\n",
       "      <td>1</td>\n",
       "    </tr>\n",
       "    <tr>\n",
       "      <th>199997</th>\n",
       "      <td>Buena calidad. Buena calidad. Satisfecha con l...</td>\n",
       "      <td>5</td>\n",
       "      <td>1</td>\n",
       "    </tr>\n",
       "    <tr>\n",
       "      <th>199998</th>\n",
       "      <td>Recomendado Perfecto para el cumple de mi hijo</td>\n",
       "      <td>5</td>\n",
       "      <td>1</td>\n",
       "    </tr>\n",
       "    <tr>\n",
       "      <th>199999</th>\n",
       "      <td>Preciosas Súper bien! Las brochas son buenas, ...</td>\n",
       "      <td>5</td>\n",
       "      <td>1</td>\n",
       "    </tr>\n",
       "  </tbody>\n",
       "</table>\n",
       "<p>160000 rows × 3 columns</p>\n",
       "</div>"
      ],
      "text/plain": [
       "                                                   review  stars  sentiment\n",
       "0       television Nevir Nada bueno se me fue ka panta...      1          0\n",
       "1       Dinero tirado a la basura con esta compra Horr...      1          0\n",
       "2       solo llega una unidad cuando te obligan a comp...      1          0\n",
       "3       PRODUCTO NO RECIBIDO. No entro en descalificar...      1          0\n",
       "4           Devuelto Llega tarde y co la talla equivocada      1          0\n",
       "...                                                   ...    ...        ...\n",
       "199995  Tal y como se describe Mando funciona perfecta...      5          1\n",
       "199996  Funciona perfectamente Compré la batería con c...      5          1\n",
       "199997  Buena calidad. Buena calidad. Satisfecha con l...      5          1\n",
       "199998     Recomendado Perfecto para el cumple de mi hijo      5          1\n",
       "199999  Preciosas Súper bien! Las brochas son buenas, ...      5          1\n",
       "\n",
       "[160000 rows x 3 columns]"
      ]
     },
     "execution_count": 10,
     "metadata": {},
     "output_type": "execute_result"
    }
   ],
   "source": [
    "train_data[['review', 'stars', 'sentiment']]"
   ]
  },
  {
   "cell_type": "code",
   "execution_count": 7,
   "id": "621815bc",
   "metadata": {},
   "outputs": [],
   "source": [
    "x_train = train_data['review']\n",
    "x_test = test_data['review']\n",
    "y_train = train_data['sentiment']\n",
    "y_test = test_data['sentiment']"
   ]
  },
  {
   "cell_type": "markdown",
   "id": "f43f1a94",
   "metadata": {},
   "source": [
    "# Word Counts with Countvectorizer"
   ]
  },
  {
   "cell_type": "code",
   "execution_count": 38,
   "id": "5aced342",
   "metadata": {},
   "outputs": [
    {
     "data": {
      "text/plain": [
       "CountVectorizer()"
      ]
     },
     "execution_count": 38,
     "metadata": {},
     "output_type": "execute_result"
    }
   ],
   "source": [
    "from sklearn.feature_extraction.text import CountVectorizer\n",
    "counts = CountVectorizer().fit(x_train)\n",
    "counts"
   ]
  },
  {
   "cell_type": "code",
   "execution_count": 39,
   "id": "2e944e0c",
   "metadata": {},
   "outputs": [
    {
     "data": {
      "text/plain": [
       "54716"
      ]
     },
     "execution_count": 39,
     "metadata": {},
     "output_type": "execute_result"
    }
   ],
   "source": [
    "len(counts.get_feature_names_out()) # 54716"
   ]
  },
  {
   "cell_type": "code",
   "execution_count": 40,
   "id": "57ce7664",
   "metadata": {},
   "outputs": [],
   "source": [
    "x_train_counts = counts.transform(x_train)"
   ]
  },
  {
   "cell_type": "markdown",
   "id": "c8422199",
   "metadata": {},
   "source": [
    "#### Train a Logistic Regression Model"
   ]
  },
  {
   "cell_type": "code",
   "execution_count": 41,
   "id": "0e426186",
   "metadata": {},
   "outputs": [
    {
     "name": "stderr",
     "output_type": "stream",
     "text": [
      "/home/echao/projects/machineLearning-UW/.venv/lib/python3.8/site-packages/sklearn/linear_model/_logistic.py:814: ConvergenceWarning: lbfgs failed to converge (status=1):\n",
      "STOP: TOTAL NO. of ITERATIONS REACHED LIMIT.\n",
      "\n",
      "Increase the number of iterations (max_iter) or scale the data as shown in:\n",
      "    https://scikit-learn.org/stable/modules/preprocessing.html\n",
      "Please also refer to the documentation for alternative solver options:\n",
      "    https://scikit-learn.org/stable/modules/linear_model.html#logistic-regression\n",
      "  n_iter_i = _check_optimize_result(\n"
     ]
    },
    {
     "data": {
      "text/plain": [
       "LogisticRegression()"
      ]
     },
     "execution_count": 41,
     "metadata": {},
     "output_type": "execute_result"
    }
   ],
   "source": [
    "from sklearn.linear_model import LogisticRegression\n",
    "\n",
    "# Train the model with training set and training labels\n",
    "model = LogisticRegression()\n",
    "model.fit(x_train_counts, y_train)"
   ]
  },
  {
   "cell_type": "code",
   "execution_count": 42,
   "id": "5be71cb6",
   "metadata": {},
   "outputs": [],
   "source": [
    "# Predict the transformed test documents\n",
    "x_test_counts = counts.transform(x_test)\n",
    "\n",
    "predictions = model.predict(x_test_counts)"
   ]
  },
  {
   "cell_type": "markdown",
   "id": "a7fd12b2",
   "metadata": {},
   "source": [
    "### Performance with Word Counts Vector"
   ]
  },
  {
   "cell_type": "code",
   "execution_count": 44,
   "id": "97de92f1",
   "metadata": {},
   "outputs": [
    {
     "name": "stdout",
     "output_type": "stream",
     "text": [
      "AUC:  0.9185\n",
      "Precision:  0.9172482552342971\n"
     ]
    }
   ],
   "source": [
    "from sklearn.metrics import roc_auc_score, precision_score\n",
    "\n",
    "\n",
    "print('AUC: ', roc_auc_score(y_test, predictions))\n",
    "\n",
    "print('Precision: ', precision_score(y_test, predictions))"
   ]
  },
  {
   "cell_type": "code",
   "execution_count": 45,
   "id": "fd9da97f",
   "metadata": {},
   "outputs": [
    {
     "name": "stdout",
     "output_type": "stream",
     "text": [
      "Smallest Coefs:\n",
      "['decepcionada' 'decepcionante' 'decepcion' 'decepción' 'engaño' 'timo'\n",
      " 'malísima' 'pésima' 'incompleto' 'desilusión']\n",
      "\n",
      "Largest Coefs: \n",
      "['encantada' 'geniales' 'acierto' 'impresionante' 'lujo' 'chulas'\n",
      " 'estupenda' 'fantastico' 'ideales' 'encanta']\n"
     ]
    }
   ],
   "source": [
    "feature_names = np.array(counts.get_feature_names_out())\n",
    "\n",
    "sorted_coef_index = model.coef_[0].argsort()\n",
    "\n",
    "print('Smallest Coefs:\\n{}\\n'.format(feature_names[sorted_coef_index[:10]]))\n",
    "print('Largest Coefs: \\n{}'.format(feature_names[sorted_coef_index[:-11:-1]]))"
   ]
  },
  {
   "cell_type": "markdown",
   "id": "fc21d982",
   "metadata": {},
   "source": [
    "# Tf-idf vector with TfidfVectorizer"
   ]
  },
  {
   "cell_type": "code",
   "execution_count": 46,
   "id": "dc9df778",
   "metadata": {},
   "outputs": [
    {
     "data": {
      "text/plain": [
       "19959"
      ]
     },
     "execution_count": 46,
     "metadata": {},
     "output_type": "execute_result"
    }
   ],
   "source": [
    "from sklearn.feature_extraction.text import TfidfVectorizer\n",
    "\n",
    "# Minimum document frequency 5\n",
    "vect = TfidfVectorizer(min_df=5).fit(x_train)\n"
   ]
  },
  {
   "cell_type": "code",
   "execution_count": 47,
   "id": "1d72f2b9",
   "metadata": {},
   "outputs": [
    {
     "data": {
      "text/plain": [
       "19959"
      ]
     },
     "execution_count": 47,
     "metadata": {},
     "output_type": "execute_result"
    }
   ],
   "source": [
    "len(vect.get_feature_names_out()) # 19,959 features"
   ]
  },
  {
   "cell_type": "code",
   "execution_count": 48,
   "id": "e827953a",
   "metadata": {},
   "outputs": [
    {
     "name": "stderr",
     "output_type": "stream",
     "text": [
      "/home/echao/projects/machineLearning-UW/.venv/lib/python3.8/site-packages/sklearn/linear_model/_logistic.py:814: ConvergenceWarning: lbfgs failed to converge (status=1):\n",
      "STOP: TOTAL NO. of ITERATIONS REACHED LIMIT.\n",
      "\n",
      "Increase the number of iterations (max_iter) or scale the data as shown in:\n",
      "    https://scikit-learn.org/stable/modules/preprocessing.html\n",
      "Please also refer to the documentation for alternative solver options:\n",
      "    https://scikit-learn.org/stable/modules/linear_model.html#logistic-regression\n",
      "  n_iter_i = _check_optimize_result(\n"
     ]
    },
    {
     "data": {
      "text/plain": [
       "LogisticRegression()"
      ]
     },
     "execution_count": 48,
     "metadata": {},
     "output_type": "execute_result"
    }
   ],
   "source": [
    "#Xtrain_vectorized = vect.transform(x_train)\n",
    "x_train_counts = vect.transform(x_train)\n",
    "\n",
    "model = LogisticRegression()\n",
    "model.fit(x_train_counts, y_train)"
   ]
  },
  {
   "cell_type": "code",
   "execution_count": 49,
   "id": "0567aca2",
   "metadata": {},
   "outputs": [],
   "source": [
    "x_test_counts = vect.transform(x_test)\n",
    "predictions = model.predict(x_test_counts)"
   ]
  },
  {
   "cell_type": "markdown",
   "id": "3b530da4",
   "metadata": {},
   "source": [
    "#### Performance of Tf-idf vector"
   ]
  },
  {
   "cell_type": "code",
   "execution_count": 51,
   "id": "71b4f8cf",
   "metadata": {},
   "outputs": [
    {
     "name": "stdout",
     "output_type": "stream",
     "text": [
      "AUC:  0.9200000000000002\n",
      "Precision:  0.9251012145748988\n"
     ]
    }
   ],
   "source": [
    "print('AUC: ', roc_auc_score(y_test, predictions))\n",
    "print('Precision: ', precision_score(y_test, predictions))"
   ]
  },
  {
   "cell_type": "code",
   "execution_count": 53,
   "id": "13a13372",
   "metadata": {},
   "outputs": [
    {
     "name": "stdout",
     "output_type": "stream",
     "text": [
      "Smallest tfidf:\n",
      "['siri' 'olvidaba' 'asegúrese' 'enviarle' 'virtudes' 'obviando' 'nuclear'\n",
      " 'desactivarla' 'asegurarte' 'bastaría']\n",
      "\n",
      "Largest tfidf: \n",
      "['incomodas' 'árboles' 'comodisimos' 'xx' 'demasiado' 'descascarillado'\n",
      " 'impresionante' 'ok' 'cómodos' 'comodisimo']\n"
     ]
    }
   ],
   "source": [
    "feature_names = np.array(vect.get_feature_names_out())\n",
    "\n",
    "sorted_tfidf_index = x_train_counts.max(0).toarray()[0].argsort()\n",
    "\n",
    "print('Smallest tfidf:\\n{}\\n'.format(feature_names[sorted_tfidf_index[:10]]))\n",
    "print('Largest tfidf: \\n{}'.format(feature_names[sorted_tfidf_index[:-11:-1]]))"
   ]
  },
  {
   "cell_type": "markdown",
   "id": "ac110e27",
   "metadata": {},
   "source": [
    "# N-gram counts with CountVectorizer"
   ]
  },
  {
   "cell_type": "code",
   "execution_count": 54,
   "id": "b9670fc5",
   "metadata": {},
   "outputs": [
    {
     "data": {
      "text/plain": [
       "114215"
      ]
     },
     "execution_count": 54,
     "metadata": {},
     "output_type": "execute_result"
    }
   ],
   "source": [
    "vect = CountVectorizer(min_df=5, ngram_range=(1,2)).fit(x_train)\n",
    "\n",
    "x_train_counts = vect.transform(x_train)"
   ]
  },
  {
   "cell_type": "code",
   "execution_count": 55,
   "id": "aed66f00",
   "metadata": {},
   "outputs": [
    {
     "data": {
      "text/plain": [
       "114215"
      ]
     },
     "execution_count": 55,
     "metadata": {},
     "output_type": "execute_result"
    }
   ],
   "source": [
    "len(vect.get_feature_names_out()) # 114,215"
   ]
  },
  {
   "cell_type": "code",
   "execution_count": 56,
   "id": "f546370c",
   "metadata": {},
   "outputs": [
    {
     "name": "stderr",
     "output_type": "stream",
     "text": [
      "/home/echao/projects/machineLearning-UW/.venv/lib/python3.8/site-packages/sklearn/linear_model/_logistic.py:814: ConvergenceWarning: lbfgs failed to converge (status=1):\n",
      "STOP: TOTAL NO. of ITERATIONS REACHED LIMIT.\n",
      "\n",
      "Increase the number of iterations (max_iter) or scale the data as shown in:\n",
      "    https://scikit-learn.org/stable/modules/preprocessing.html\n",
      "Please also refer to the documentation for alternative solver options:\n",
      "    https://scikit-learn.org/stable/modules/linear_model.html#logistic-regression\n",
      "  n_iter_i = _check_optimize_result(\n"
     ]
    },
    {
     "data": {
      "text/plain": [
       "LogisticRegression()"
      ]
     },
     "execution_count": 56,
     "metadata": {},
     "output_type": "execute_result"
    }
   ],
   "source": [
    "model = LogisticRegression()\n",
    "model.fit(x_train_counts, y_train)"
   ]
  },
  {
   "cell_type": "markdown",
   "id": "32c851fc",
   "metadata": {},
   "source": [
    "#### Performance of N gram counts"
   ]
  },
  {
   "cell_type": "code",
   "execution_count": 61,
   "id": "862a90fb",
   "metadata": {},
   "outputs": [],
   "source": [
    "x_test_counts = vect.transform(x_test)\n",
    "\n",
    "predictions = model.predict(x_test_counts)"
   ]
  },
  {
   "cell_type": "code",
   "execution_count": 62,
   "id": "52a9bbd9",
   "metadata": {},
   "outputs": [
    {
     "name": "stdout",
     "output_type": "stream",
     "text": [
      "AUC:  0.9347500000000001\n",
      "Precision:  0.9362769693928751\n"
     ]
    }
   ],
   "source": [
    "print('AUC: ', roc_auc_score(y_test, predictions))\n",
    "print('Precision: ', precision_score(y_test, predictions))"
   ]
  },
  {
   "cell_type": "code",
   "execution_count": 63,
   "id": "e7c0f8e3",
   "metadata": {},
   "outputs": [
    {
     "name": "stdout",
     "output_type": "stream",
     "text": [
      "Smallest Coefs:\n",
      "['dos estrellas' 'no cumple' 'no recomendable' 'decepcion' 'decepcionante'\n",
      " 'decepcionada' 'decepción' 'nada recomendable' 'engaño' 'desilusión']\n",
      "\n",
      "Largest Coefs: \n",
      "['nada mal' 'las mejores' 'genial' 'perfecto' 'está mal' 'encantada'\n",
      " 'los mejores' 'geniales' 'fenomenal' 'estupendo']\n"
     ]
    }
   ],
   "source": [
    "feature_names = np.array(vect.get_feature_names_out())\n",
    "\n",
    "sorted_coef_index = model.coef_[0].argsort()\n",
    "\n",
    "print('Smallest Coefs:\\n{}\\n'.format(feature_names[sorted_coef_index[:10]]))\n",
    "print('Largest Coefs: \\n{}'.format(feature_names[sorted_coef_index[:-11:-1]]))"
   ]
  },
  {
   "cell_type": "markdown",
   "id": "c390fbad",
   "metadata": {},
   "source": [
    "# Turi Create"
   ]
  },
  {
   "cell_type": "code",
   "execution_count": 76,
   "id": "981c034e",
   "metadata": {},
   "outputs": [],
   "source": [
    "import turicreate\n",
    "import math\n",
    "import string"
   ]
  },
  {
   "cell_type": "code",
   "execution_count": 71,
   "id": "a0dee626",
   "metadata": {
    "scrolled": true
   },
   "outputs": [
    {
     "data": {
      "text/html": [
       "<pre>Finished parsing file /home/echao/projects/machineLearning-UW/data/amazon-reviews-ml/dataset_es_train.json</pre>"
      ],
      "text/plain": [
       "Finished parsing file /home/echao/projects/machineLearning-UW/data/amazon-reviews-ml/dataset_es_train.json"
      ]
     },
     "metadata": {},
     "output_type": "display_data"
    },
    {
     "data": {
      "text/html": [
       "<pre>Parsing completed. Parsed 100 lines in 0.501983 secs.</pre>"
      ],
      "text/plain": [
       "Parsing completed. Parsed 100 lines in 0.501983 secs."
      ]
     },
     "metadata": {},
     "output_type": "display_data"
    },
    {
     "name": "stdout",
     "output_type": "stream",
     "text": [
      "------------------------------------------------------\n",
      "Inferred types from first 100 line(s) of file as \n",
      "column_type_hints=[dict]\n",
      "If parsing fails due to incorrect types, you can correct\n",
      "the inferred type list above and pass it to read_csv in\n",
      "the column_type_hints argument\n",
      "------------------------------------------------------\n"
     ]
    },
    {
     "data": {
      "text/html": [
       "<pre>Read 132924 lines. Lines per second: 178034</pre>"
      ],
      "text/plain": [
       "Read 132924 lines. Lines per second: 178034"
      ]
     },
     "metadata": {},
     "output_type": "display_data"
    },
    {
     "data": {
      "text/html": [
       "<pre>Finished parsing file /home/echao/projects/machineLearning-UW/data/amazon-reviews-ml/dataset_es_train.json</pre>"
      ],
      "text/plain": [
       "Finished parsing file /home/echao/projects/machineLearning-UW/data/amazon-reviews-ml/dataset_es_train.json"
      ]
     },
     "metadata": {},
     "output_type": "display_data"
    },
    {
     "data": {
      "text/html": [
       "<pre>Parsing completed. Parsed 200000 lines in 0.852627 secs.</pre>"
      ],
      "text/plain": [
       "Parsing completed. Parsed 200000 lines in 0.852627 secs."
      ]
     },
     "metadata": {},
     "output_type": "display_data"
    },
    {
     "data": {
      "text/html": [
       "<pre>Finished parsing file /home/echao/projects/machineLearning-UW/data/amazon-reviews-ml/dataset_es_test.json</pre>"
      ],
      "text/plain": [
       "Finished parsing file /home/echao/projects/machineLearning-UW/data/amazon-reviews-ml/dataset_es_test.json"
      ]
     },
     "metadata": {},
     "output_type": "display_data"
    },
    {
     "data": {
      "text/html": [
       "<pre>Parsing completed. Parsed 100 lines in 0.024332 secs.</pre>"
      ],
      "text/plain": [
       "Parsing completed. Parsed 100 lines in 0.024332 secs."
      ]
     },
     "metadata": {},
     "output_type": "display_data"
    },
    {
     "name": "stdout",
     "output_type": "stream",
     "text": [
      "------------------------------------------------------\n",
      "Inferred types from first 100 line(s) of file as \n",
      "column_type_hints=[dict]\n",
      "If parsing fails due to incorrect types, you can correct\n",
      "the inferred type list above and pass it to read_csv in\n",
      "the column_type_hints argument\n",
      "------------------------------------------------------\n"
     ]
    },
    {
     "data": {
      "text/html": [
       "<pre>Finished parsing file /home/echao/projects/machineLearning-UW/data/amazon-reviews-ml/dataset_es_test.json</pre>"
      ],
      "text/plain": [
       "Finished parsing file /home/echao/projects/machineLearning-UW/data/amazon-reviews-ml/dataset_es_test.json"
      ]
     },
     "metadata": {},
     "output_type": "display_data"
    },
    {
     "data": {
      "text/html": [
       "<pre>Parsing completed. Parsed 5000 lines in 0.034031 secs.</pre>"
      ],
      "text/plain": [
       "Parsing completed. Parsed 5000 lines in 0.034031 secs."
      ]
     },
     "metadata": {},
     "output_type": "display_data"
    }
   ],
   "source": [
    "train_data = turicreate.SFrame.read_json('./data/amazon-reviews-ml/dataset_es_train.json', orient='lines')\n",
    "\n",
    "test_data = turicreate.SFrame.read_json('./data/amazon-reviews-ml/dataset_es_test.json', orient='lines')"
   ]
  },
  {
   "cell_type": "code",
   "execution_count": 72,
   "id": "3a7a6ac2",
   "metadata": {},
   "outputs": [
    {
     "data": {
      "text/html": [
       "<div style=\"max-height:1000px;max-width:1500px;overflow:auto;\"><table frame=\"box\" rules=\"cols\">\n",
       "    <tr>\n",
       "        <th style=\"padding-left: 1em; padding-right: 1em; text-align: center\">language</th>\n",
       "        <th style=\"padding-left: 1em; padding-right: 1em; text-align: center\">product_category</th>\n",
       "        <th style=\"padding-left: 1em; padding-right: 1em; text-align: center\">product_id</th>\n",
       "        <th style=\"padding-left: 1em; padding-right: 1em; text-align: center\">review_body</th>\n",
       "        <th style=\"padding-left: 1em; padding-right: 1em; text-align: center\">review_id</th>\n",
       "    </tr>\n",
       "    <tr>\n",
       "        <td style=\"padding-left: 1em; padding-right: 1em; text-align: center; vertical-align: top\">es</td>\n",
       "        <td style=\"padding-left: 1em; padding-right: 1em; text-align: center; vertical-align: top\">wireless</td>\n",
       "        <td style=\"padding-left: 1em; padding-right: 1em; text-align: center; vertical-align: top\">product_es_0113523</td>\n",
       "        <td style=\"padding-left: 1em; padding-right: 1em; text-align: center; vertical-align: top\">no me llego el articulo<br>me lo mando por correos ...</td>\n",
       "        <td style=\"padding-left: 1em; padding-right: 1em; text-align: center; vertical-align: top\">es_0038754</td>\n",
       "    </tr>\n",
       "    <tr>\n",
       "        <td style=\"padding-left: 1em; padding-right: 1em; text-align: center; vertical-align: top\">es</td>\n",
       "        <td style=\"padding-left: 1em; padding-right: 1em; text-align: center; vertical-align: top\">home</td>\n",
       "        <td style=\"padding-left: 1em; padding-right: 1em; text-align: center; vertical-align: top\">product_es_0017036</td>\n",
       "        <td style=\"padding-left: 1em; padding-right: 1em; text-align: center; vertical-align: top\">la mensajería horrible,<br>no compro mas ...</td>\n",
       "        <td style=\"padding-left: 1em; padding-right: 1em; text-align: center; vertical-align: top\">es_0748979</td>\n",
       "    </tr>\n",
       "    <tr>\n",
       "        <td style=\"padding-left: 1em; padding-right: 1em; text-align: center; vertical-align: top\">es</td>\n",
       "        <td style=\"padding-left: 1em; padding-right: 1em; text-align: center; vertical-align: top\">toy</td>\n",
       "        <td style=\"padding-left: 1em; padding-right: 1em; text-align: center; vertical-align: top\">product_es_0138642</td>\n",
       "        <td style=\"padding-left: 1em; padding-right: 1em; text-align: center; vertical-align: top\">Estoy muy decepcionado<br>con el vendedor ya qu ...</td>\n",
       "        <td style=\"padding-left: 1em; padding-right: 1em; text-align: center; vertical-align: top\">es_0411746</td>\n",
       "    </tr>\n",
       "    <tr>\n",
       "        <td style=\"padding-left: 1em; padding-right: 1em; text-align: center; vertical-align: top\">es</td>\n",
       "        <td style=\"padding-left: 1em; padding-right: 1em; text-align: center; vertical-align: top\">home</td>\n",
       "        <td style=\"padding-left: 1em; padding-right: 1em; text-align: center; vertical-align: top\">product_es_0170887</td>\n",
       "        <td style=\"padding-left: 1em; padding-right: 1em; text-align: center; vertical-align: top\">Mi valoración no es sobre<br>el producto sino sobre ...</td>\n",
       "        <td style=\"padding-left: 1em; padding-right: 1em; text-align: center; vertical-align: top\">es_0786686</td>\n",
       "    </tr>\n",
       "    <tr>\n",
       "        <td style=\"padding-left: 1em; padding-right: 1em; text-align: center; vertical-align: top\">es</td>\n",
       "        <td style=\"padding-left: 1em; padding-right: 1em; text-align: center; vertical-align: top\">digital_ebook_purchase</td>\n",
       "        <td style=\"padding-left: 1em; padding-right: 1em; text-align: center; vertical-align: top\">product_es_0710642</td>\n",
       "        <td style=\"padding-left: 1em; padding-right: 1em; text-align: center; vertical-align: top\">Pues tenía interés en<br>este libro y probé la ...</td>\n",
       "        <td style=\"padding-left: 1em; padding-right: 1em; text-align: center; vertical-align: top\">es_0429700</td>\n",
       "    </tr>\n",
       "    <tr>\n",
       "        <td style=\"padding-left: 1em; padding-right: 1em; text-align: center; vertical-align: top\">es</td>\n",
       "        <td style=\"padding-left: 1em; padding-right: 1em; text-align: center; vertical-align: top\">pc</td>\n",
       "        <td style=\"padding-left: 1em; padding-right: 1em; text-align: center; vertical-align: top\">product_es_0813312</td>\n",
       "        <td style=\"padding-left: 1em; padding-right: 1em; text-align: center; vertical-align: top\">Compre este teclado al<br>ver sus buenos ...</td>\n",
       "        <td style=\"padding-left: 1em; padding-right: 1em; text-align: center; vertical-align: top\">es_0370652</td>\n",
       "    </tr>\n",
       "    <tr>\n",
       "        <td style=\"padding-left: 1em; padding-right: 1em; text-align: center; vertical-align: top\">es</td>\n",
       "        <td style=\"padding-left: 1em; padding-right: 1em; text-align: center; vertical-align: top\">lawn_and_garden</td>\n",
       "        <td style=\"padding-left: 1em; padding-right: 1em; text-align: center; vertical-align: top\">product_es_0260888</td>\n",
       "        <td style=\"padding-left: 1em; padding-right: 1em; text-align: center; vertical-align: top\">Sigue sin llegar después<br>de meses ...</td>\n",
       "        <td style=\"padding-left: 1em; padding-right: 1em; text-align: center; vertical-align: top\">es_0838239</td>\n",
       "    </tr>\n",
       "    <tr>\n",
       "        <td style=\"padding-left: 1em; padding-right: 1em; text-align: center; vertical-align: top\">es</td>\n",
       "        <td style=\"padding-left: 1em; padding-right: 1em; text-align: center; vertical-align: top\">wireless</td>\n",
       "        <td style=\"padding-left: 1em; padding-right: 1em; text-align: center; vertical-align: top\">product_es_0234796</td>\n",
       "        <td style=\"padding-left: 1em; padding-right: 1em; text-align: center; vertical-align: top\">No sirve para nada, es<br>malo y se rompe y se ...</td>\n",
       "        <td style=\"padding-left: 1em; padding-right: 1em; text-align: center; vertical-align: top\">es_0233338</td>\n",
       "    </tr>\n",
       "    <tr>\n",
       "        <td style=\"padding-left: 1em; padding-right: 1em; text-align: center; vertical-align: top\">es</td>\n",
       "        <td style=\"padding-left: 1em; padding-right: 1em; text-align: center; vertical-align: top\">sports</td>\n",
       "        <td style=\"padding-left: 1em; padding-right: 1em; text-align: center; vertical-align: top\">product_es_0690174</td>\n",
       "        <td style=\"padding-left: 1em; padding-right: 1em; text-align: center; vertical-align: top\">Todavía espero que me<br>llegue despues dw una ...</td>\n",
       "        <td style=\"padding-left: 1em; padding-right: 1em; text-align: center; vertical-align: top\">es_0470247</td>\n",
       "    </tr>\n",
       "    <tr>\n",
       "        <td style=\"padding-left: 1em; padding-right: 1em; text-align: center; vertical-align: top\">es</td>\n",
       "        <td style=\"padding-left: 1em; padding-right: 1em; text-align: center; vertical-align: top\">camera</td>\n",
       "        <td style=\"padding-left: 1em; padding-right: 1em; text-align: center; vertical-align: top\">product_es_0624641</td>\n",
       "        <td style=\"padding-left: 1em; padding-right: 1em; text-align: center; vertical-align: top\">La peor cámara que he<br>tenido en mis manos. Dos ...</td>\n",
       "        <td style=\"padding-left: 1em; padding-right: 1em; text-align: center; vertical-align: top\">es_0454942</td>\n",
       "    </tr>\n",
       "</table>\n",
       "<table frame=\"box\" rules=\"cols\">\n",
       "    <tr>\n",
       "        <th style=\"padding-left: 1em; padding-right: 1em; text-align: center\">review_title</th>\n",
       "        <th style=\"padding-left: 1em; padding-right: 1em; text-align: center\">reviewer_id</th>\n",
       "        <th style=\"padding-left: 1em; padding-right: 1em; text-align: center\">stars</th>\n",
       "    </tr>\n",
       "    <tr>\n",
       "        <td style=\"padding-left: 1em; padding-right: 1em; text-align: center; vertical-align: top\">no me llego</td>\n",
       "        <td style=\"padding-left: 1em; padding-right: 1em; text-align: center; vertical-align: top\">reviewer_es_0580071</td>\n",
       "        <td style=\"padding-left: 1em; padding-right: 1em; text-align: center; vertical-align: top\">1</td>\n",
       "    </tr>\n",
       "    <tr>\n",
       "        <td style=\"padding-left: 1em; padding-right: 1em; text-align: center; vertical-align: top\">amazon sigue sin cumplir<br>en las entregas ...</td>\n",
       "        <td style=\"padding-left: 1em; padding-right: 1em; text-align: center; vertical-align: top\">reviewer_es_0819733</td>\n",
       "        <td style=\"padding-left: 1em; padding-right: 1em; text-align: center; vertical-align: top\">1</td>\n",
       "    </tr>\n",
       "    <tr>\n",
       "        <td style=\"padding-left: 1em; padding-right: 1em; text-align: center; vertical-align: top\">ESTAFA EN EL ENVÍO</td>\n",
       "        <td style=\"padding-left: 1em; padding-right: 1em; text-align: center; vertical-align: top\">reviewer_es_0508607</td>\n",
       "        <td style=\"padding-left: 1em; padding-right: 1em; text-align: center; vertical-align: top\">1</td>\n",
       "    </tr>\n",
       "    <tr>\n",
       "        <td style=\"padding-left: 1em; padding-right: 1em; text-align: center; vertical-align: top\">Estafa de Amazon</td>\n",
       "        <td style=\"padding-left: 1em; padding-right: 1em; text-align: center; vertical-align: top\">reviewer_es_0491157</td>\n",
       "        <td style=\"padding-left: 1em; padding-right: 1em; text-align: center; vertical-align: top\">1</td>\n",
       "    </tr>\n",
       "    <tr>\n",
       "        <td style=\"padding-left: 1em; padding-right: 1em; text-align: center; vertical-align: top\">No conseguí pasar de la<br>portada en Kindle ...</td>\n",
       "        <td style=\"padding-left: 1em; padding-right: 1em; text-align: center; vertical-align: top\">reviewer_es_0008745</td>\n",
       "        <td style=\"padding-left: 1em; padding-right: 1em; text-align: center; vertical-align: top\">1</td>\n",
       "    </tr>\n",
       "    <tr>\n",
       "        <td style=\"padding-left: 1em; padding-right: 1em; text-align: center; vertical-align: top\">Una verdadera pena</td>\n",
       "        <td style=\"padding-left: 1em; padding-right: 1em; text-align: center; vertical-align: top\">reviewer_es_0789216</td>\n",
       "        <td style=\"padding-left: 1em; padding-right: 1em; text-align: center; vertical-align: top\">1</td>\n",
       "    </tr>\n",
       "    <tr>\n",
       "        <td style=\"padding-left: 1em; padding-right: 1em; text-align: center; vertical-align: top\">No compréis es un engaño</td>\n",
       "        <td style=\"padding-left: 1em; padding-right: 1em; text-align: center; vertical-align: top\">reviewer_es_0022974</td>\n",
       "        <td style=\"padding-left: 1em; padding-right: 1em; text-align: center; vertical-align: top\">1</td>\n",
       "    </tr>\n",
       "    <tr>\n",
       "        <td style=\"padding-left: 1em; padding-right: 1em; text-align: center; vertical-align: top\">No sirve para nada,<br>pésimo producto ...</td>\n",
       "        <td style=\"padding-left: 1em; padding-right: 1em; text-align: center; vertical-align: top\">reviewer_es_0942055</td>\n",
       "        <td style=\"padding-left: 1em; padding-right: 1em; text-align: center; vertical-align: top\">1</td>\n",
       "    </tr>\n",
       "    <tr>\n",
       "        <td style=\"padding-left: 1em; padding-right: 1em; text-align: center; vertical-align: top\">Pésimo trato del vendedor</td>\n",
       "        <td style=\"padding-left: 1em; padding-right: 1em; text-align: center; vertical-align: top\">reviewer_es_0969485</td>\n",
       "        <td style=\"padding-left: 1em; padding-right: 1em; text-align: center; vertical-align: top\">1</td>\n",
       "    </tr>\n",
       "    <tr>\n",
       "        <td style=\"padding-left: 1em; padding-right: 1em; text-align: center; vertical-align: top\">Pésima camara</td>\n",
       "        <td style=\"padding-left: 1em; padding-right: 1em; text-align: center; vertical-align: top\">reviewer_es_0681717</td>\n",
       "        <td style=\"padding-left: 1em; padding-right: 1em; text-align: center; vertical-align: top\">1</td>\n",
       "    </tr>\n",
       "</table>\n",
       "[5000 rows x 8 columns]<br/>Note: Only the head of the SFrame is printed.<br/>You can use print_rows(num_rows=m, num_columns=n) to print more rows and columns.\n",
       "</div>"
      ],
      "text/plain": [
       "Columns:\n",
       "\tlanguage\tstr\n",
       "\tproduct_category\tstr\n",
       "\tproduct_id\tstr\n",
       "\treview_body\tstr\n",
       "\treview_id\tstr\n",
       "\treview_title\tstr\n",
       "\treviewer_id\tstr\n",
       "\tstars\tstr\n",
       "\n",
       "Rows: 5000\n",
       "\n",
       "Data:\n",
       "+----------+------------------------+--------------------+\n",
       "| language |    product_category    |     product_id     |\n",
       "+----------+------------------------+--------------------+\n",
       "|    es    |        wireless        | product_es_0113523 |\n",
       "|    es    |          home          | product_es_0017036 |\n",
       "|    es    |          toy           | product_es_0138642 |\n",
       "|    es    |          home          | product_es_0170887 |\n",
       "|    es    | digital_ebook_purchase | product_es_0710642 |\n",
       "|    es    |           pc           | product_es_0813312 |\n",
       "|    es    |    lawn_and_garden     | product_es_0260888 |\n",
       "|    es    |        wireless        | product_es_0234796 |\n",
       "|    es    |         sports         | product_es_0690174 |\n",
       "|    es    |         camera         | product_es_0624641 |\n",
       "+----------+------------------------+--------------------+\n",
       "+-------------------------------+------------+-------------------------------+\n",
       "|          review_body          | review_id  |          review_title         |\n",
       "+-------------------------------+------------+-------------------------------+\n",
       "| no me llego el articulo me... | es_0038754 |          no me llego          |\n",
       "| la mensajería horrible, no... | es_0748979 | amazon sigue sin cumplir e... |\n",
       "| Estoy muy decepcionado con... | es_0411746 |       ESTAFA EN EL ENVÍO      |\n",
       "| Mi valoración no es sobre ... | es_0786686 |        Estafa de Amazon       |\n",
       "| Pues tenía interés en este... | es_0429700 | No conseguí pasar de la po... |\n",
       "| Compre este teclado al ver... | es_0370652 |       Una verdadera pena      |\n",
       "| Sigue sin llegar después d... | es_0838239 |    No compréis es un engaño   |\n",
       "| No sirve para nada, es mal... | es_0233338 | No sirve para nada, pésimo... |\n",
       "| Todavía espero que me lleg... | es_0470247 |   Pésimo trato del vendedor   |\n",
       "| La peor cámara que he teni... | es_0454942 |         Pésima camara         |\n",
       "+-------------------------------+------------+-------------------------------+\n",
       "+---------------------+-------+\n",
       "|     reviewer_id     | stars |\n",
       "+---------------------+-------+\n",
       "| reviewer_es_0580071 |   1   |\n",
       "| reviewer_es_0819733 |   1   |\n",
       "| reviewer_es_0508607 |   1   |\n",
       "| reviewer_es_0491157 |   1   |\n",
       "| reviewer_es_0008745 |   1   |\n",
       "| reviewer_es_0789216 |   1   |\n",
       "| reviewer_es_0022974 |   1   |\n",
       "| reviewer_es_0942055 |   1   |\n",
       "| reviewer_es_0969485 |   1   |\n",
       "| reviewer_es_0681717 |   1   |\n",
       "+---------------------+-------+\n",
       "[5000 rows x 8 columns]\n",
       "Note: Only the head of the SFrame is printed.\n",
       "You can use print_rows(num_rows=m, num_columns=n) to print more rows and columns."
      ]
     },
     "execution_count": 72,
     "metadata": {},
     "output_type": "execute_result"
    }
   ],
   "source": [
    "test_data"
   ]
  },
  {
   "cell_type": "markdown",
   "id": "4f8f6ca8",
   "metadata": {},
   "source": [
    "## Word Counts vector"
   ]
  },
  {
   "cell_type": "code",
   "execution_count": 74,
   "id": "a44c6111",
   "metadata": {},
   "outputs": [],
   "source": [
    "test_data = test_data[test_data['stars'] != 3]\n",
    "train_data = train_data[train_data['stars'] != 3]\n",
    "\n",
    "train_data['review'] = train_data['review_title'] + ' ' + train_data['review_body']\n",
    "test_data['review'] = test_data['review_title'] + ' ' + test_data['review_body']"
   ]
  },
  {
   "cell_type": "code",
   "execution_count": 6,
   "id": "3ab9dd3e",
   "metadata": {},
   "outputs": [
    {
     "ename": "NameError",
     "evalue": "name 'string' is not defined",
     "output_type": "error",
     "traceback": [
      "\u001b[0;31m---------------------------------------------------------------------------\u001b[0m",
      "\u001b[0;31mNameError\u001b[0m                                 Traceback (most recent call last)",
      "\u001b[0;32m/tmp/ipykernel_1026/4070419740.py\u001b[0m in \u001b[0;36m<module>\u001b[0;34m\u001b[0m\n\u001b[0;32m----> 1\u001b[0;31m \u001b[0mpunctuation\u001b[0m \u001b[0;34m=\u001b[0m \u001b[0mstring\u001b[0m\u001b[0;34m.\u001b[0m\u001b[0mpunctuation\u001b[0m \u001b[0;34m+\u001b[0m \u001b[0;34m'¿¡'\u001b[0m\u001b[0;34m\u001b[0m\u001b[0;34m\u001b[0m\u001b[0m\n\u001b[0m\u001b[1;32m      2\u001b[0m \u001b[0mpunctuation\u001b[0m\u001b[0;34m\u001b[0m\u001b[0;34m\u001b[0m\u001b[0m\n",
      "\u001b[0;31mNameError\u001b[0m: name 'string' is not defined"
     ]
    }
   ],
   "source": [
    "impo\n",
    "punctuation = string.punctuation + '¿¡'\n",
    "punctuation"
   ]
  },
  {
   "cell_type": "code",
   "execution_count": 83,
   "id": "d971efc2",
   "metadata": {},
   "outputs": [],
   "source": [
    "def remove_punctuation(text):\n",
    "    translator = text.maketrans('', '', punctuation)\n",
    "    text = text.translate(translator)\n",
    "    \n",
    "    return text"
   ]
  },
  {
   "cell_type": "code",
   "execution_count": 87,
   "id": "2990e757",
   "metadata": {},
   "outputs": [],
   "source": [
    "# Create array of punctuation-less reviews\n",
    "train_data['review_clean'] = train_data['review'].apply(remove_punctuation)\n",
    "test_data['review_clean'] = test_data['review'].apply(remove_punctuation)"
   ]
  },
  {
   "cell_type": "code",
   "execution_count": 88,
   "id": "cc76d14a",
   "metadata": {},
   "outputs": [],
   "source": [
    "train_data['word_count'] = turicreate.text_analytics.count_words(train_data['review_clean'])\n",
    "test_data['word_count'] = turicreate.text_analytics.count_words(test_data['review_clean'])"
   ]
  },
  {
   "cell_type": "code",
   "execution_count": 96,
   "id": "f56edcb2",
   "metadata": {},
   "outputs": [],
   "source": [
    "train_data['stars'] = train_data['stars'].apply(lambda x: int(x))\n",
    "test_data['stars'] = test_data['stars'].apply(lambda x: int(x))"
   ]
  },
  {
   "cell_type": "code",
   "execution_count": 97,
   "id": "3e2bcd20",
   "metadata": {},
   "outputs": [],
   "source": [
    "train_data['sentiment'] = train_data['stars'].apply(lambda r: +1 if r>3 else -1)\n",
    "test_data['sentiment'] = test_data['stars'].apply(lambda r: +1 if r>3 else -1)"
   ]
  },
  {
   "cell_type": "markdown",
   "id": "a4684e27",
   "metadata": {},
   "source": [
    "### Train the model"
   ]
  },
  {
   "cell_type": "code",
   "execution_count": 98,
   "id": "3dcc620c",
   "metadata": {},
   "outputs": [
    {
     "data": {
      "text/html": [
       "<pre>Logistic regression:</pre>"
      ],
      "text/plain": [
       "Logistic regression:"
      ]
     },
     "metadata": {},
     "output_type": "display_data"
    },
    {
     "data": {
      "text/html": [
       "<pre>--------------------------------------------------------</pre>"
      ],
      "text/plain": [
       "--------------------------------------------------------"
      ]
     },
     "metadata": {},
     "output_type": "display_data"
    },
    {
     "data": {
      "text/html": [
       "<pre>Number of examples          : 200000</pre>"
      ],
      "text/plain": [
       "Number of examples          : 200000"
      ]
     },
     "metadata": {},
     "output_type": "display_data"
    },
    {
     "data": {
      "text/html": [
       "<pre>Number of classes           : 2</pre>"
      ],
      "text/plain": [
       "Number of classes           : 2"
      ]
     },
     "metadata": {},
     "output_type": "display_data"
    },
    {
     "data": {
      "text/html": [
       "<pre>Number of feature columns   : 1</pre>"
      ],
      "text/plain": [
       "Number of feature columns   : 1"
      ]
     },
     "metadata": {},
     "output_type": "display_data"
    },
    {
     "data": {
      "text/html": [
       "<pre>Number of unpacked features : 79355</pre>"
      ],
      "text/plain": [
       "Number of unpacked features : 79355"
      ]
     },
     "metadata": {},
     "output_type": "display_data"
    },
    {
     "data": {
      "text/html": [
       "<pre>Number of coefficients      : 79356</pre>"
      ],
      "text/plain": [
       "Number of coefficients      : 79356"
      ]
     },
     "metadata": {},
     "output_type": "display_data"
    },
    {
     "data": {
      "text/html": [
       "<pre>Starting L-BFGS</pre>"
      ],
      "text/plain": [
       "Starting L-BFGS"
      ]
     },
     "metadata": {},
     "output_type": "display_data"
    },
    {
     "data": {
      "text/html": [
       "<pre>--------------------------------------------------------</pre>"
      ],
      "text/plain": [
       "--------------------------------------------------------"
      ]
     },
     "metadata": {},
     "output_type": "display_data"
    },
    {
     "data": {
      "text/html": [
       "<pre>+-----------+----------+-----------+--------------+-------------------+</pre>"
      ],
      "text/plain": [
       "+-----------+----------+-----------+--------------+-------------------+"
      ]
     },
     "metadata": {},
     "output_type": "display_data"
    },
    {
     "data": {
      "text/html": [
       "<pre>| Iteration | Passes   | Step size | Elapsed Time | Training Accuracy |</pre>"
      ],
      "text/plain": [
       "| Iteration | Passes   | Step size | Elapsed Time | Training Accuracy |"
      ]
     },
     "metadata": {},
     "output_type": "display_data"
    },
    {
     "data": {
      "text/html": [
       "<pre>+-----------+----------+-----------+--------------+-------------------+</pre>"
      ],
      "text/plain": [
       "+-----------+----------+-----------+--------------+-------------------+"
      ]
     },
     "metadata": {},
     "output_type": "display_data"
    },
    {
     "data": {
      "text/html": [
       "<pre>| 0         | 3        | 0.500000  | 1.398524     | 0.667260          |</pre>"
      ],
      "text/plain": [
       "| 0         | 3        | 0.500000  | 1.398524     | 0.667260          |"
      ]
     },
     "metadata": {},
     "output_type": "display_data"
    },
    {
     "data": {
      "text/html": [
       "<pre>| 1         | 6        | 2.500000  | 1.761693     | 0.875510          |</pre>"
      ],
      "text/plain": [
       "| 1         | 6        | 2.500000  | 1.761693     | 0.875510          |"
      ]
     },
     "metadata": {},
     "output_type": "display_data"
    },
    {
     "data": {
      "text/html": [
       "<pre>| 2         | 11       | 2.401989  | 2.311291     | 0.891455          |</pre>"
      ],
      "text/plain": [
       "| 2         | 11       | 2.401989  | 2.311291     | 0.891455          |"
      ]
     },
     "metadata": {},
     "output_type": "display_data"
    },
    {
     "data": {
      "text/html": [
       "<pre>| 3         | 12       | 2.401989  | 2.471579     | 0.909550          |</pre>"
      ],
      "text/plain": [
       "| 3         | 12       | 2.401989  | 2.471579     | 0.909550          |"
      ]
     },
     "metadata": {},
     "output_type": "display_data"
    },
    {
     "data": {
      "text/html": [
       "<pre>| 4         | 13       | 2.401989  | 2.632446     | 0.922885          |</pre>"
      ],
      "text/plain": [
       "| 4         | 13       | 2.401989  | 2.632446     | 0.922885          |"
      ]
     },
     "metadata": {},
     "output_type": "display_data"
    },
    {
     "data": {
      "text/html": [
       "<pre>| 9         | 21       | 1.566548  | 3.793925     | 0.939640          |</pre>"
      ],
      "text/plain": [
       "| 9         | 21       | 1.566548  | 3.793925     | 0.939640          |"
      ]
     },
     "metadata": {},
     "output_type": "display_data"
    },
    {
     "data": {
      "text/html": [
       "<pre>+-----------+----------+-----------+--------------+-------------------+</pre>"
      ],
      "text/plain": [
       "+-----------+----------+-----------+--------------+-------------------+"
      ]
     },
     "metadata": {},
     "output_type": "display_data"
    }
   ],
   "source": [
    "turi_model = turicreate.logistic_classifier.create(train_data,\n",
    "                                                        target = 'sentiment',\n",
    "                                                        features=['word_count'],\n",
    "                                                        validation_set=None)"
   ]
  },
  {
   "cell_type": "code",
   "execution_count": 100,
   "id": "95d55e18",
   "metadata": {},
   "outputs": [
    {
     "data": {
      "text/plain": [
       "79356"
      ]
     },
     "execution_count": 100,
     "metadata": {},
     "output_type": "execute_result"
    }
   ],
   "source": [
    "len(turi_model.coefficients) # 79,356"
   ]
  },
  {
   "cell_type": "code",
   "execution_count": 112,
   "id": "3bf89d7d",
   "metadata": {
    "scrolled": true
   },
   "outputs": [
    {
     "name": "stdout",
     "output_type": "stream",
     "text": [
      "+------------+---------------+-------+--------------------+--------+\n",
      "|    name    |     index     | class |       value        | stderr |\n",
      "+------------+---------------+-------+--------------------+--------+\n",
      "| word_count |     mesno     |   1   | 42.59737825579724  |  None  |\n",
      "| word_count |  perplejidad  |   1   | 42.582525960998225 |  None  |\n",
      "| word_count |     musca     |   1   | 42.39526752827434  |  None  |\n",
      "| word_count |     tenies    |   1   | 42.18137590459115  |  None  |\n",
      "| word_count |     estok     |   1   | 40.37992740221876  |  None  |\n",
      "| word_count |   devolvamos  |   1   | 39.58329100555991  |  None  |\n",
      "| word_count |    concide    |   1   |  39.5725173462358  |  None  |\n",
      "| word_count |    probara    |   1   | 38.45273306703082  |  None  |\n",
      "| word_count | elproductomuy |   1   | 36.954227722712126 |  None  |\n",
      "| word_count |   miligramos  |   1   | 36.87239577440345  |  None  |\n",
      "+------------+---------------+-------+--------------------+--------+\n",
      "[79356 rows x 5 columns]\n",
      "\n",
      "+------------+--------------------+-------+---------------------+--------+\n",
      "|    name    |       index        | class |        value        | stderr |\n",
      "+------------+--------------------+-------+---------------------+--------+\n",
      "| word_count |  medianospequeños  |   1   | -40.707938591118705 |  None  |\n",
      "| word_count |       horaa        |   1   |  -36.8580650108884  |  None  |\n",
      "| word_count | calidadpreciotiene |   1   |  -34.09587613051054 |  None  |\n",
      "| word_count |       asisi        |   1   |  -33.25027327786514 |  None  |\n",
      "| word_count |      viajaré       |   1   |  -33.00440870631834 |  None  |\n",
      "| word_count |      apaisada      |   1   |  -32.53204175920574 |  None  |\n",
      "| word_count |        mozo        |   1   |  -31.54169460692913 |  None  |\n",
      "| word_count |      bareria       |   1   | -31.351994162627342 |  None  |\n",
      "| word_count |    descapullan     |   1   | -30.415403931459096 |  None  |\n",
      "| word_count |        íba         |   1   | -30.391266779560244 |  None  |\n",
      "+------------+--------------------+-------+---------------------+--------+\n",
      "[79356 rows x 5 columns]\n",
      "\n"
     ]
    }
   ],
   "source": [
    "weights = turi_model.coefficients\n",
    "\n",
    "weights.sort('value', ascending=False).print_rows(num_rows=10)\n",
    "weights.sort('value', ascending=True).print_rows(num_rows=10)"
   ]
  },
  {
   "cell_type": "code",
   "execution_count": 113,
   "id": "b121f224",
   "metadata": {},
   "outputs": [
    {
     "name": "stdout",
     "output_type": "stream",
     "text": [
      "0.38395061728395063\n",
      "0.7495125\n"
     ]
    }
   ],
   "source": [
    "predictions = turi_model.predict(test_data)\n",
    "predictions_norm = predictions.apply(lambda x: 0 if x<0 else 1)\n",
    "\n",
    "print(turicreate.evaluation.precision(test_data['sentiment'], predictions_norm))\n",
    "print(turicreate.evaluation.auc(test_data['sentiment'], predictions_norm))"
   ]
  },
  {
   "cell_type": "markdown",
   "id": "53f9bd05",
   "metadata": {},
   "source": [
    "# Testing different iterations parameter"
   ]
  },
  {
   "cell_type": "code",
   "execution_count": 22,
   "id": "4061fcd9",
   "metadata": {},
   "outputs": [],
   "source": [
    "# Word Count\n",
    "from sklearn.feature_extraction.text import CountVectorizer\n",
    "\n",
    "vect = CountVectorizer().fit(x_train)\n",
    "x_train_counts = vect.transform(x_train)"
   ]
  },
  {
   "cell_type": "code",
   "execution_count": 26,
   "id": "a46fdf80",
   "metadata": {},
   "outputs": [
    {
     "data": {
      "text/plain": [
       "LogisticRegression(max_iter=1500)"
      ]
     },
     "execution_count": 26,
     "metadata": {},
     "output_type": "execute_result"
    }
   ],
   "source": [
    "ITERATIONS = 1500\n",
    "model = LogisticRegression(max_iter=ITERATIONS)  # default is 100\n",
    "model.fit(x_train_counts, y_train)"
   ]
  },
  {
   "cell_type": "code",
   "execution_count": 27,
   "id": "8a614f99",
   "metadata": {},
   "outputs": [
    {
     "name": "stdout",
     "output_type": "stream",
     "text": [
      "Precision:  0.9155908639523337\n",
      "AUC:  0.9185000000000001\n"
     ]
    }
   ],
   "source": [
    "x_test_counts = vect.transform(x_test)\n",
    "predictions = model.predict(x_test_counts)\n",
    "\n",
    "print('Precision: ', precision_score(y_test, predictions))\n",
    "print('AUC: ', roc_auc_score(y_test, predictions))"
   ]
  },
  {
   "cell_type": "code",
   "execution_count": 31,
   "id": "b4b86f83",
   "metadata": {},
   "outputs": [],
   "source": [
    "# N Gram Count\n",
    "vect = CountVectorizer(min_df=5, ngram_range=(1,2)).fit(x_train)\n",
    "\n",
    "x_train_counts = vect.transform(x_train)"
   ]
  },
  {
   "cell_type": "code",
   "execution_count": 32,
   "id": "50f23aa7",
   "metadata": {},
   "outputs": [
    {
     "data": {
      "text/plain": [
       "LogisticRegression(max_iter=1500)"
      ]
     },
     "execution_count": 32,
     "metadata": {},
     "output_type": "execute_result"
    }
   ],
   "source": [
    "ITERATIONS = 1500\n",
    "model = LogisticRegression(max_iter=ITERATIONS)\n",
    "model.fit(x_train_counts, y_train)"
   ]
  },
  {
   "cell_type": "code",
   "execution_count": 33,
   "id": "2d8a4fe9",
   "metadata": {},
   "outputs": [
    {
     "name": "stdout",
     "output_type": "stream",
     "text": [
      "Precision:  0.9337349397590361\n",
      "AUC:  0.932\n"
     ]
    }
   ],
   "source": [
    "x_test_counts = vect.transform(x_test)\n",
    "predictions = model.predict(x_test_counts)\n",
    "print('Precision: ', precision_score(y_test, predictions))\n",
    "print('AUC: ', roc_auc_score(y_test, predictions))\n"
   ]
  },
  {
   "cell_type": "code",
   "execution_count": null,
   "id": "51007874",
   "metadata": {},
   "outputs": [],
   "source": []
  }
 ],
 "metadata": {
  "kernelspec": {
   "display_name": "Python 3 (ipykernel)",
   "language": "python",
   "name": "python3"
  },
  "language_info": {
   "codemirror_mode": {
    "name": "ipython",
    "version": 3
   },
   "file_extension": ".py",
   "mimetype": "text/x-python",
   "name": "python",
   "nbconvert_exporter": "python",
   "pygments_lexer": "ipython3",
   "version": "3.8.10"
  }
 },
 "nbformat": 4,
 "nbformat_minor": 5
}

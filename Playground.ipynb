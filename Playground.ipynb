{
 "cells": [
  {
   "cell_type": "code",
   "execution_count": 7,
   "id": "657aa554",
   "metadata": {},
   "outputs": [],
   "source": [
    "from math import inf\n",
    "# Feature split selection\n",
    "\n",
    "a = (0, [1, 1, 1])\n",
    "b = (1, [0, 1, 0])\n",
    "c = (2, [1, 0, 1])\n",
    "d = (3, [0 , 0, 1])\n",
    "\n",
    "y = [1, -1, -1, 1]\n",
    "\n",
    "x = [a,b,c,d]\n"
   ]
  },
  {
   "cell_type": "code",
   "execution_count": 43,
   "id": "9d747ab5",
   "metadata": {},
   "outputs": [],
   "source": [
    "'''For every feature in feature_indexes compute Classif Error\n",
    "    Return '''\n",
    "def nextBestFeature(feature_indexes, N, feature_matrix):\n",
    "    \"\"\"\n",
    "    feature_indexes: array of column indexes to consider from matrix\n",
    "    feature_matrix: a 2d array containing feature values per observation\n",
    "    N: number of observations in current node\n",
    "    \"\"\"\n",
    "    if N==1: return (None, None, None, None)\n",
    "    \n",
    "    min_error = inf\n",
    "    winner = feature_indexes[0]\n",
    "    print(\"A -- 0\")\n",
    "    print(\"B -- 1\")\n",
    "    w_splitA = feature_matrix\n",
    "    w_splitB = []\n",
    "    \n",
    "    for ft in feature_indexes:\n",
    "        print(\"FEATURE\", ft)\n",
    "        splitA = [xi for xi in feature_matrix if xi[1][ft]==0]\n",
    "        splitB = [xi for xi in feature_matrix if xi[1][ft]==1]\n",
    "        print(\"len A:\", len(splitA))\n",
    "        print(\"len B:\", len(splitB))\n",
    "\n",
    "        # Compute majority class of splitA\n",
    "        minus=0\n",
    "        plus=0\n",
    "        print(\"A: [\", end=\" \")\n",
    "        for obs in splitA:\n",
    "            index = obs[0]\n",
    "            print(index, end=\" \")\n",
    "            minus += y[index] == -1\n",
    "            plus += y[index] == 1\n",
    "        print(\"]\")\n",
    "\n",
    "        predA = -1 if minus>plus else +1\n",
    "\n",
    "        # Compute minority class of splitB\n",
    "        minus = 0\n",
    "        plus = 0\n",
    "        print(\"B: [\", end=\" \")\n",
    "        for obs in splitB:\n",
    "            index = obs[0]\n",
    "            print(index, end=\" \")\n",
    "            minus += y[index] == -1\n",
    "            plus += y[index] == 1\n",
    "        print(\"]\")\n",
    "\n",
    "        predB = -1 if minus>plus else +1\n",
    "\n",
    "        # Count number of mistakes\n",
    "        mistakes = 0\n",
    "        for obs in splitA:\n",
    "            index = obs[0]\n",
    "            mistakes += (y[index] != predA)\n",
    "\n",
    "        for obs in splitB:\n",
    "            index = obs[0]\n",
    "            mistakes += (y[index] != predB)\n",
    "\n",
    "        error = mistakes / N\n",
    "        print(f\"feature {ft} error: {error}\")\n",
    "        if error < min_error:\n",
    "            winner = ft\n",
    "            min_error = error\n",
    "            w_splitA = splitA\n",
    "            w_splitB = splitB\n",
    "        \n",
    "    print(f\"winner: {winner} error:{error}\")\n",
    "    \n",
    "    next_features = f_i[:winner] + f_i[winner+1:]\n",
    "    \n",
    "    return winner, w_splitA, w_splitB, next_features\n"
   ]
  },
  {
   "cell_type": "code",
   "execution_count": 44,
   "id": "9ec9d2e0",
   "metadata": {},
   "outputs": [
    {
     "name": "stdout",
     "output_type": "stream",
     "text": [
      "A -- 0\n",
      "B -- 1\n",
      "FEATURE 0\n",
      "len A: 2\n",
      "len B: 2\n",
      "A: [ 1 3 ]\n",
      "B: [ 0 2 ]\n",
      "feature 0 error: 0.5\n",
      "FEATURE 1\n",
      "len A: 2\n",
      "len B: 2\n",
      "A: [ 2 3 ]\n",
      "B: [ 0 1 ]\n",
      "feature 1 error: 0.5\n",
      "FEATURE 2\n",
      "len A: 1\n",
      "len B: 3\n",
      "A: [ 1 ]\n",
      "B: [ 0 2 3 ]\n",
      "feature 2 error: 0.25\n",
      "winner: 2 error:0.25\n"
     ]
    }
   ],
   "source": [
    "N = 4\n",
    "# Indexes of features to split on\n",
    "f_i = [i for i in range(3)]\n",
    "\n",
    "\n",
    "split_feature, splitA, splitB, f_i = nextBestFeature(f_i, 4, x)"
   ]
  },
  {
   "cell_type": "code",
   "execution_count": 45,
   "id": "56231a97",
   "metadata": {},
   "outputs": [
    {
     "name": "stdout",
     "output_type": "stream",
     "text": [
      "A -- 0\n",
      "B -- 1\n",
      "FEATURE 0\n",
      "len A: 1\n",
      "len B: 2\n",
      "A: [ 3 ]\n",
      "B: [ 0 2 ]\n",
      "feature 0 error: 0.3333333333333333\n",
      "FEATURE 1\n",
      "len A: 2\n",
      "len B: 1\n",
      "A: [ 2 3 ]\n",
      "B: [ 0 ]\n",
      "feature 1 error: 0.3333333333333333\n",
      "winner: 0 error:0.3333333333333333\n"
     ]
    }
   ],
   "source": [
    "# After split by feature 2, splitA is done.\n",
    "\n",
    "x2B = splitB\n",
    "split_feature, splitA, splitB, f_i = nextBestFeature(f_i, 3, x2B)  # Winner feature 0"
   ]
  },
  {
   "cell_type": "code",
   "execution_count": 47,
   "id": "67ea976b",
   "metadata": {},
   "outputs": [
    {
     "name": "stdout",
     "output_type": "stream",
     "text": [
      "A -- 0\n",
      "B -- 1\n",
      "FEATURE 1\n",
      "len A: 1\n",
      "len B: 1\n",
      "A: [ 2 ]\n",
      "B: [ 0 ]\n",
      "feature 1 error: 0.0\n",
      "winner: 1 error:0.0\n"
     ]
    },
    {
     "data": {
      "text/plain": [
       "(1, [(2, [1, 0, 1])], [(0, [1, 1, 1])], [1])"
      ]
     },
     "execution_count": 47,
     "metadata": {},
     "output_type": "execute_result"
    }
   ],
   "source": [
    "# After split by feature 0, split A is done.\n",
    "\n",
    "# Split B\n",
    "nextBestFeature([1], 2, splitB)"
   ]
  }
 ],
 "metadata": {
  "kernelspec": {
   "display_name": "Python 3",
   "language": "python",
   "name": "python3"
  },
  "language_info": {
   "codemirror_mode": {
    "name": "ipython",
    "version": 3
   },
   "file_extension": ".py",
   "mimetype": "text/x-python",
   "name": "python",
   "nbconvert_exporter": "python",
   "pygments_lexer": "ipython3",
   "version": "3.8.5"
  }
 },
 "nbformat": 4,
 "nbformat_minor": 5
}

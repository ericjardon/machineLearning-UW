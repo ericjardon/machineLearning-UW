{
 "cells": [
  {
   "cell_type": "code",
   "execution_count": 1,
   "id": "ae3fe6d2",
   "metadata": {},
   "outputs": [],
   "source": [
    "import turicreate as tc\n",
    "import math"
   ]
  },
  {
   "cell_type": "code",
   "execution_count": 2,
   "id": "e09009b5",
   "metadata": {},
   "outputs": [],
   "source": [
    "houses = tc.SFrame('../ml-foundations/data/home_data.sframe')\n",
    "# the relevant dataset is in a sibling folder from past course"
   ]
  },
  {
   "cell_type": "markdown",
   "id": "c1c8540c",
   "metadata": {},
   "source": [
    "2. Split data into 80% and 20% using a random seed of 0."
   ]
  },
  {
   "cell_type": "code",
   "execution_count": 3,
   "id": "92a8875b",
   "metadata": {},
   "outputs": [],
   "source": [
    "train, test = houses.random_split(0.8, seed=0)"
   ]
  },
  {
   "cell_type": "markdown",
   "id": "78c64a0c",
   "metadata": {},
   "source": [
    "3. Write a generic function that receives an SArray of an input X and an SArray of labels Y and returns the optimal intercept and slope for the simple linear regression model, using the Closed Form Solution."
   ]
  },
  {
   "cell_type": "code",
   "execution_count": 4,
   "id": "49fc6787",
   "metadata": {},
   "outputs": [],
   "source": [
    "# Closed Form version\n",
    "def simple_linear_regression(x_vector, y_vector):\n",
    "    N = len(x_vector)\n",
    "    if len(y_vector) != N: raise ValueError\n",
    "    \n",
    "    sumY = sum(y_vector)\n",
    "    sumX = sum(x_vector)\n",
    "    \n",
    "    sumX2 = sum([x*x for x in x_vector])\n",
    "    \n",
    "    sumXY = 0\n",
    "    for i in range(N):\n",
    "        sumXY += (x_vector[i]*y_vector[i])\n",
    "    \n",
    "    slope = (sumXY - (sumY*sumX)/N) / (sumX2 - (sumX*sumX)/N)\n",
    "    intercept = sumY/N - slope*(sumX/N)\n",
    "    \n",
    "    return (intercept, slope)"
   ]
  },
  {
   "cell_type": "code",
   "execution_count": 5,
   "id": "3c250f20",
   "metadata": {},
   "outputs": [],
   "source": [
    "# Example Test\n",
    "x = [0, 1, 2, 3, 4]\n",
    "y = [1, 3, 7, 13, 21]\n",
    "\n",
    "w0, w1 = simple_linear_regression(x,y)  # -1.0, 5.0"
   ]
  },
  {
   "cell_type": "markdown",
   "id": "3443b293",
   "metadata": {},
   "source": [
    "4. With your function, calculate the slope and intercept parameters for input `sqft_living` and target `price`"
   ]
  },
  {
   "cell_type": "code",
   "execution_count": 6,
   "id": "b5c12aaf",
   "metadata": {},
   "outputs": [],
   "source": [
    "x_vector = train['sqft_living']\n",
    "y_vector = train['price']"
   ]
  },
  {
   "cell_type": "code",
   "execution_count": 8,
   "id": "5bacdeb6",
   "metadata": {},
   "outputs": [
    {
     "name": "stdout",
     "output_type": "stream",
     "text": [
      "-47116.07657494 281.9588385676974\n"
     ]
    }
   ],
   "source": [
    "intercept, slope = simple_linear_regression(x_vector, y_vector)\n",
    "print(intercept, slope)"
   ]
  },
  {
   "cell_type": "markdown",
   "id": "b243a85b",
   "metadata": {},
   "source": [
    "5. Write a function that receives an input feature column and returns a column of precitions for each entry in the input."
   ]
  },
  {
   "cell_type": "code",
   "execution_count": 19,
   "id": "1a1099bf",
   "metadata": {},
   "outputs": [],
   "source": [
    "def get_regression_prediction(input_vector, w0, w1):\n",
    "    result = [w0+w1*x for x in input_vector]\n",
    "    return tc.SArray(result)"
   ]
  },
  {
   "cell_type": "markdown",
   "id": "9559596c",
   "metadata": {},
   "source": [
    "6) What is the predicted price for a house with 2,650 square feet?"
   ]
  },
  {
   "cell_type": "code",
   "execution_count": 42,
   "id": "47f5121b",
   "metadata": {},
   "outputs": [
    {
     "name": "stdout",
     "output_type": "stream",
     "text": [
      "[700074.8456294581]\n"
     ]
    }
   ],
   "source": [
    "r = get_regression_prediction([2650], intercept, slope)\n",
    "print(r)"
   ]
  },
  {
   "cell_type": "markdown",
   "id": "dd2971a4",
   "metadata": {},
   "source": [
    "7. Write a function that receives an input and an output vectors, their parameters of a simple linear regression and returns the Residual Sum of Squares."
   ]
  },
  {
   "cell_type": "code",
   "execution_count": 24,
   "id": "50864e46",
   "metadata": {},
   "outputs": [],
   "source": [
    "\n",
    "def get_RSS(x_vector, y_vector, w0, w1):\n",
    "    if len(x_vector) != len(y_vector): raise ValueError\n",
    "        \n",
    "    rss = 0.0\n",
    "    for i in range(len(x_vector)):\n",
    "        y_est = w0 + w1*x_vector[i]\n",
    "        sq_residual = math.pow((y_vector[i] - y_est),2)\n",
    "        rss += sq_residual\n",
    "    \n",
    "    return rss      \n",
    "    \n",
    "    "
   ]
  },
  {
   "cell_type": "markdown",
   "id": "34125195",
   "metadata": {},
   "source": [
    "8. What is the RSS for the slr using squarefeet to predict the prices of our TRAINING dataset?"
   ]
  },
  {
   "cell_type": "code",
   "execution_count": 44,
   "id": "02d5c3d2",
   "metadata": {},
   "outputs": [
    {
     "name": "stdout",
     "output_type": "stream",
     "text": [
      "Training RSS: 1.201918e+15\n"
     ]
    }
   ],
   "source": [
    "train_rss = get_RSS(train['sqft_living'], train['price'], intercept, slope)\n",
    "\n",
    "print(\"Training RSS:\", \"{:e}\".format(train_rss))"
   ]
  },
  {
   "cell_type": "markdown",
   "id": "15c9dd7c",
   "metadata": {},
   "source": [
    "9. Inverting the regression: obtain an estimate of X given an input of Y.\n",
    "\n",
    "Write a function that accepts an output vector and returns the estimated input vector."
   ]
  },
  {
   "cell_type": "code",
   "execution_count": 28,
   "id": "83408281",
   "metadata": {},
   "outputs": [],
   "source": [
    "def inverse_regression_prediction(y_vector, w0, w1):\n",
    "    result = [(y-w0)/w1 for y in y_vector]\n",
    "    \n",
    "    return tc.SArray(result)"
   ]
  },
  {
   "cell_type": "markdown",
   "id": "99989e43",
   "metadata": {},
   "source": [
    "10. According to this function and the `intercept` and `slope` obtained from the training data, what is the estimated area of a house that costs $800,000?"
   ]
  },
  {
   "cell_type": "code",
   "execution_count": 31,
   "id": "ee7c32bd",
   "metadata": {},
   "outputs": [
    {
     "name": "stdout",
     "output_type": "stream",
     "text": [
      "[3004.396247615945]\n"
     ]
    }
   ],
   "source": [
    "e = inverse_regression_prediction([800000], intercept, slope)\n",
    "print(e)"
   ]
  },
  {
   "cell_type": "markdown",
   "id": "f44f5bcb",
   "metadata": {},
   "source": [
    "11. Now use `bedrooms` to calculate the parameters of a simple linear regression that uses this feature, and save these to another two variables."
   ]
  },
  {
   "cell_type": "code",
   "execution_count": 32,
   "id": "3a6d5765",
   "metadata": {},
   "outputs": [],
   "source": [
    "bed_intercept, bed_slope = simple_linear_regression(train['bedrooms'], train['price'])"
   ]
  },
  {
   "cell_type": "code",
   "execution_count": 33,
   "id": "dd223b1c",
   "metadata": {},
   "outputs": [
    {
     "data": {
      "text/plain": [
       "109473.18046928808"
      ]
     },
     "execution_count": 33,
     "metadata": {},
     "output_type": "execute_result"
    }
   ],
   "source": [
    "bed_intercept"
   ]
  },
  {
   "cell_type": "code",
   "execution_count": 34,
   "id": "3e3c8c09",
   "metadata": {},
   "outputs": [
    {
     "data": {
      "text/plain": [
       "127588.95217458377"
      ]
     },
     "execution_count": 34,
     "metadata": {},
     "output_type": "execute_result"
    }
   ],
   "source": [
    "bed_slope"
   ]
  },
  {
   "cell_type": "markdown",
   "id": "72db52b7",
   "metadata": {},
   "source": [
    "12. Finally, compute the RSS for both models, `sqft_living` and `bedrooms`, using the TRAINING data."
   ]
  },
  {
   "cell_type": "code",
   "execution_count": 35,
   "id": "31504763",
   "metadata": {},
   "outputs": [],
   "source": [
    "sqft_rss = get_RSS(test['sqft_living'], test['price'], intercept, slope)\n",
    "bed_rss = get_RSS(test['bedrooms'], test['price'], bed_intercept, bed_slope)"
   ]
  },
  {
   "cell_type": "code",
   "execution_count": 36,
   "id": "764c35fb",
   "metadata": {},
   "outputs": [
    {
     "data": {
      "text/plain": [
       "275402936247141.8"
      ]
     },
     "execution_count": 36,
     "metadata": {},
     "output_type": "execute_result"
    }
   ],
   "source": [
    "sqft_rss"
   ]
  },
  {
   "cell_type": "code",
   "execution_count": 37,
   "id": "2d5a6f30",
   "metadata": {},
   "outputs": [
    {
     "data": {
      "text/plain": [
       "493364582868287.4"
      ]
     },
     "execution_count": 37,
     "metadata": {},
     "output_type": "execute_result"
    }
   ],
   "source": [
    "bed_rss"
   ]
  },
  {
   "cell_type": "code",
   "execution_count": 39,
   "id": "ea572407",
   "metadata": {},
   "outputs": [
    {
     "data": {
      "text/plain": [
       "True"
      ]
     },
     "execution_count": 39,
     "metadata": {},
     "output_type": "execute_result"
    }
   ],
   "source": [
    "sqft_rss < bed_rss    # square feet is a better predictor than no. bedrooms"
   ]
  },
  {
   "cell_type": "code",
   "execution_count": null,
   "id": "3c379d1f",
   "metadata": {},
   "outputs": [],
   "source": []
  }
 ],
 "metadata": {
  "kernelspec": {
   "display_name": "Python 3",
   "language": "python",
   "name": "python3"
  },
  "language_info": {
   "codemirror_mode": {
    "name": "ipython",
    "version": 3
   },
   "file_extension": ".py",
   "mimetype": "text/x-python",
   "name": "python",
   "nbconvert_exporter": "python",
   "pygments_lexer": "ipython3",
   "version": "3.8.5"
  }
 },
 "nbformat": 4,
 "nbformat_minor": 5
}

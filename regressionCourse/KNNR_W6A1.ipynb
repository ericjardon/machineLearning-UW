{
 "cells": [
  {
   "cell_type": "markdown",
   "metadata": {},
   "source": [
    "# Predicting house prices with k-nearest neighbors regression\n",
    "In this notebook, we\n",
    "  * find the k-nearest neighbors of a given query input,\n",
    "  * predict the output value for the query input using the K-NN,\n",
    "  * explore different values for K in various models and picking the best one using a validation set."
   ]
  },
  {
   "cell_type": "code",
   "execution_count": 57,
   "metadata": {},
   "outputs": [],
   "source": [
    "import turicreate as tc\n",
    "import numpy as np"
   ]
  },
  {
   "cell_type": "markdown",
   "metadata": {},
   "source": [
    "Loading house sales data: We use a smaller subset of the King County housing dataset (40% of original)"
   ]
  },
  {
   "cell_type": "code",
   "execution_count": 58,
   "metadata": {},
   "outputs": [],
   "source": [
    "sales = tc.SFrame('../data/home_data_small.sframe/')"
   ]
  },
  {
   "cell_type": "markdown",
   "metadata": {},
   "source": [
    "#### Importing functions from previous notebooks"
   ]
  },
  {
   "cell_type": "markdown",
   "metadata": {},
   "source": [
    "To compute pairwise distances among datapoints, we have to convert the SFrame into a 2D Numpy array, using the same `get_numpy_data()` from the notebook \"Lasso_Coord_Descent_W5A2.ipynb\""
   ]
  },
  {
   "cell_type": "code",
   "execution_count": 59,
   "metadata": {},
   "outputs": [],
   "source": [
    "\"\"\"Receives an SFrame, a list of input feature names, and the name of output target.\n",
    "    Returns the data matrix as a 2d numpy array, and the outcome vector as an np array\"\"\"\n",
    "def get_numpy_data(data_sframe, features, target):\n",
    "    # Add constant column for the Intercept\n",
    "    data_sframe['constant'] = 1\n",
    "    features = ['constant'] + features\n",
    "    \n",
    "    # Subselect the features from the original including constant and convert into numpy matrix\n",
    "    features_sframe = data_sframe[features]\n",
    "    feature_matrix = features_sframe.to_numpy()\n",
    "    \n",
    "    # Subselect the target vector and convert into numpy array\n",
    "    output_sarray = data_sframe[target]\n",
    "    output_array = output_sarray.to_numpy()\n",
    "    \n",
    "    return (feature_matrix, output_array)"
   ]
  },
  {
   "cell_type": "markdown",
   "metadata": {},
   "source": [
    "We also reuse the function `normalize_features()` which normalizes all feature columns to unit norm. \n",
    "This function comes from the notebook \"Lasso_Feature_Selection_W5A1.ipynb\""
   ]
  },
  {
   "cell_type": "code",
   "execution_count": 60,
   "metadata": {},
   "outputs": [],
   "source": [
    "\"\"\"Receives a numpy matrix (i.e. a 2D numpy array), \n",
    "    returns a numpy matrix with normalized feature columns, and a numpy array of the 2-norms\"\"\"\n",
    "def normalize_features(feature_matrix):\n",
    "    norms = np.linalg.norm(feature_matrix, axis=0)\n",
    "    normalized_features = feature_matrix / norms\n",
    "    \n",
    "    return (normalized_features, norms)"
   ]
  },
  {
   "cell_type": "markdown",
   "metadata": {},
   "source": [
    "#### Splitting data into training, test, and validation sets"
   ]
  },
  {
   "cell_type": "code",
   "execution_count": 61,
   "metadata": {},
   "outputs": [],
   "source": [
    "# Split into Train&Validation / Test\n",
    "(train_and_validation, test) = sales.random_split(.8, seed=1)\n",
    "# Split into Training set / Validation set\n",
    "(train, validation) = train_and_validation.random_split(.8, seed=1) # split training set into training and validation sets"
   ]
  },
  {
   "cell_type": "markdown",
   "metadata": {},
   "source": [
    "#### Extracting and normalizing features"
   ]
  },
  {
   "cell_type": "code",
   "execution_count": 62,
   "metadata": {},
   "outputs": [],
   "source": [
    "feature_list = ['bedrooms',  \n",
    "                'bathrooms',  \n",
    "                'sqft_living',  \n",
    "                'sqft_lot',  \n",
    "                'floors',\n",
    "                'waterfront',  \n",
    "                'view',  \n",
    "                'condition',  \n",
    "                'grade',  \n",
    "                'sqft_above',  \n",
    "                'sqft_basement',\n",
    "                'yr_built',  \n",
    "                'yr_renovated',  \n",
    "                'lat',  \n",
    "                'long',  \n",
    "                'sqft_living15',  \n",
    "                'sqft_lot15']\n",
    "\n",
    "# Obtain train, test and validation sets and output arrays as numpy data structures\n",
    "features_train, output_train = get_numpy_data(train, feature_list, 'price')\n",
    "features_test, output_test = get_numpy_data(test, feature_list, 'price')\n",
    "features_valid, output_valid = get_numpy_data(validation, feature_list, 'price')"
   ]
  },
  {
   "cell_type": "markdown",
   "metadata": {},
   "source": [
    "For computing distances, it is crucial to normalize features. Otherwise, for example, the `sqft_living` feature (typically thousands) would exert a much larger influence on distance than the `bedrooms` feature (typically less than 10). \n",
    "<br>\n",
    "To normalize, we divide each column of the training feature matrix by its **2-norm**, so that the transformed column has unit norm.\n",
    "\n",
    "_IMPORTANT: Store in a variable the norms of the features of the training set; our datasets training, test, and validation must be normalized consistently._"
   ]
  },
  {
   "cell_type": "code",
   "execution_count": 63,
   "metadata": {},
   "outputs": [],
   "source": [
    "# Normalize training set\n",
    "features_train, NORMS = normalize_features(features_train) \n",
    "\n",
    "# Normalize test set\n",
    "features_test = features_test / NORMS \n",
    "\n",
    "# Normalize validation set\n",
    "features_valid = features_valid / NORMS "
   ]
  },
  {
   "cell_type": "markdown",
   "metadata": {},
   "source": [
    "## Computing the distance between two points"
   ]
  },
  {
   "cell_type": "markdown",
   "metadata": {},
   "source": [
    "Take the **query house** to be the first house of the test set and look at the distance between this house and the 10th house of the training set.\n",
    "\n",
    "Print the **first and tenth rows of the test feature matrix**. \n",
    "\n",
    "_We should get an 18-dimensional vector with components in the range between 0 and 1._"
   ]
  },
  {
   "cell_type": "code",
   "execution_count": 64,
   "metadata": {},
   "outputs": [
    {
     "data": {
      "text/plain": [
       "array([ 0.01345102,  0.01551285,  0.01807473,  0.01759212,  0.00160518,\n",
       "        0.017059  ,  0.        ,  0.05102365,  0.0116321 ,  0.01564352,\n",
       "        0.01362084,  0.02481682,  0.01350306,  0.        ,  0.01345386,\n",
       "       -0.01346927,  0.01375926,  0.0016225 ])"
      ]
     },
     "execution_count": 64,
     "metadata": {},
     "output_type": "execute_result"
    }
   ],
   "source": [
    "features_test[0]"
   ]
  },
  {
   "cell_type": "code",
   "execution_count": 65,
   "metadata": {},
   "outputs": [
    {
     "data": {
      "text/plain": [
       "array([ 0.01345102,  0.01163464,  0.00602491,  0.0083488 ,  0.00050756,\n",
       "        0.01279425,  0.        ,  0.        ,  0.01938684,  0.01390535,\n",
       "        0.0096309 ,  0.        ,  0.01302544,  0.        ,  0.01346821,\n",
       "       -0.01346254,  0.01195898,  0.00156612])"
      ]
     },
     "execution_count": 65,
     "metadata": {},
     "output_type": "execute_result"
    }
   ],
   "source": [
    "features_train[9]"
   ]
  },
  {
   "cell_type": "markdown",
   "metadata": {},
   "source": [
    "***QUIZ QUESTION: What is the Euclidean distance between the query house and the 10th house of the training set?  ***\n",
    "`A = 0.60 (rounded to three decimals)`"
   ]
  },
  {
   "cell_type": "code",
   "execution_count": 150,
   "metadata": {},
   "outputs": [],
   "source": [
    "\"\"\"\n",
    "Receives two numpy arrays.\n",
    "Computes and returns the euclidean distance between both.\n",
    "\"\"\"\n",
    "def euclidean_distance(xq, xi):\n",
    "    D = len(xq)\n",
    "    temp = [0 for _ in range(D)]  # stores element-wise square differences \n",
    "    \n",
    "    for j in range(D):\n",
    "        temp[j] = (xq[j] - xi[j])**2\n",
    "\n",
    "    return np.sqrt(np.sum(temp))   # sum the elements and take the square root\n",
    "\n",
    "# Note: Dont use the `np.linalg.norm` function; \n",
    "# use `np.sqrt`, `np.sum`, and the power operator (`**`) instead: \n",
    "# this approach is more easily adapted to computing multiple distances at once."
   ]
  },
  {
   "cell_type": "code",
   "execution_count": 152,
   "metadata": {},
   "outputs": [
    {
     "data": {
      "text/plain": [
       "0.05972359371666126"
      ]
     },
     "execution_count": 152,
     "metadata": {},
     "output_type": "execute_result"
    }
   ],
   "source": [
    "euclidean_distance(features_test[0], features_train[9])"
   ]
  },
  {
   "cell_type": "markdown",
   "metadata": {},
   "source": [
    "# Compute multiple distances"
   ]
  },
  {
   "cell_type": "markdown",
   "metadata": {},
   "source": [
    "In nearest neighbor regression, we need to compute the distances between a query house and *all* of houses in the training set.  \n",
    "\n",
    "As an exercise, we write a loop to compute the Euclidean distance from the query house to each of the first 10 houses in the training set."
   ]
  },
  {
   "cell_type": "code",
   "execution_count": 157,
   "metadata": {},
   "outputs": [
    {
     "name": "stdout",
     "output_type": "stream",
     "text": [
      "Nearest neighbor 8\n"
     ]
    }
   ],
   "source": [
    "# compute the distance from query house (`features_test[0]`) \n",
    "# to the first 10 houses of train set (`features_train[0:10]`)\n",
    "query = features_test[0]\n",
    "houses = features_train[0:10]\n",
    "distances = []\n",
    "\n",
    "for h in houses:\n",
    "    d = euclidean_distance(query, h)\n",
    "    distances.append(d)\n",
    "\n",
    "# scan for the nearest neighbor within this small set of houses\n",
    "index = distances.index(min(distances))\n",
    "print(f\"Nearest neighbor {index}\")"
   ]
  },
  {
   "cell_type": "markdown",
   "metadata": {},
   "source": [
    "*** QUIZ QUESTION ***\n",
    "\n",
    "Among the first 10 training houses, which house is the closest to the query house?\n",
    "`A = the 9th one (index 8)`"
   ]
  },
  {
   "cell_type": "markdown",
   "metadata": {},
   "source": [
    "### Vectorized numpy operations for computing multiple distances at once\n",
    "It is inefficient to loop over computing distances to all houses in our training dataset. \n",
    "<br>\n",
    "Instead, we can use Numpy's **vectorized** operations, which apply the same operation over multiple vectors (arrays) in concurrent or parallel fashion."
   ]
  },
  {
   "cell_type": "markdown",
   "metadata": {},
   "source": [
    "This loop computes the element-wise difference between the query house (`features_test[0]`) and the first 3 training houses (`features_train[0:3]`):"
   ]
  },
  {
   "cell_type": "code",
   "execution_count": 69,
   "metadata": {},
   "outputs": [
    {
     "name": "stdout",
     "output_type": "stream",
     "text": [
      "[[ 0.00000000e+00 -3.87821276e-03 -1.20498190e-02 -1.05552733e-02\n",
      "   2.08673616e-04 -8.52950206e-03  0.00000000e+00 -5.10236549e-02\n",
      "   0.00000000e+00 -3.47633726e-03 -5.50336860e-03 -2.48168183e-02\n",
      "  -1.63756198e-04  0.00000000e+00 -1.70072004e-05  1.30577772e-05\n",
      "  -5.14364795e-03  6.69281453e-04]\n",
      " [ 0.00000000e+00 -3.87821276e-03 -4.51868214e-03 -2.26610387e-03\n",
      "   7.19763456e-04  0.00000000e+00  0.00000000e+00 -5.10236549e-02\n",
      "   0.00000000e+00 -3.47633726e-03  1.30705004e-03 -1.45830788e-02\n",
      "  -1.91048898e-04  6.65082271e-02  4.23240653e-05  6.22415897e-06\n",
      "  -2.89330197e-03  1.47606982e-03]\n",
      " [ 0.00000000e+00 -7.75642553e-03 -1.20498190e-02 -1.30002801e-02\n",
      "   1.60518166e-03 -8.52950206e-03  0.00000000e+00 -5.10236549e-02\n",
      "   0.00000000e+00 -5.21450589e-03 -8.32384500e-03 -2.48168183e-02\n",
      "  -3.13866046e-04  0.00000000e+00  4.71047219e-05  1.56530415e-05\n",
      "   3.72914476e-03  1.64764925e-03]]\n"
     ]
    }
   ],
   "source": [
    "# Compute the vector substraction for three observations\n",
    "\n",
    "print(features_train[0:3] - features_test[0])  \n",
    "# Three substractions are performed, the second argument remaining constant in all 3 of them"
   ]
  },
  {
   "cell_type": "code",
   "execution_count": 70,
   "metadata": {},
   "outputs": [
    {
     "name": "stdout",
     "output_type": "stream",
     "text": [
      "[0. 0. 0. 0. 0. 0. 0. 0. 0. 0. 0. 0. 0. 0. 0. 0. 0. 0.]\n",
      "[0. 0. 0. 0. 0. 0. 0. 0. 0. 0. 0. 0. 0. 0. 0. 0. 0. 0.]\n",
      "[0. 0. 0. 0. 0. 0. 0. 0. 0. 0. 0. 0. 0. 0. 0. 0. 0. 0.]\n"
     ]
    }
   ],
   "source": [
    "# VECTORIZED SUBTRACTION VERIFICATION\n",
    "results = features_train[0:3] - features_test[0]   # results is an array of 3 array-vectors\n",
    "\n",
    "# Verifying it is equivalent to the unvectorized case\n",
    "print(results[0] - (features_train[0]-features_test[0])) # should print 0 vector\n",
    "print(results[1] - (features_train[1]-features_test[0])) # should print 0 vector\n",
    "print(results[2] - (features_train[2]-features_test[0])) # should print 0 vector"
   ]
  },
  {
   "cell_type": "markdown",
   "metadata": {},
   "source": [
    "_Note: it is recommended to write tests like this when we are using complicated vectorized operations_"
   ]
  },
  {
   "cell_type": "markdown",
   "metadata": {},
   "source": [
    "## Performing 1-NN regression\n",
    "\n",
    "Thanks to the vectorized operations, we can quickly perform element-wise substraction between a set of vectors and another using a single line of code.<br>\n",
    "<br>\n",
    "We use an array `diff` such that `diff[i]` contains the element-wise difference between the query house and the `i`-th training house."
   ]
  },
  {
   "cell_type": "code",
   "execution_count": 71,
   "metadata": {},
   "outputs": [],
   "source": [
    "query = features_test[0]\n",
    "diff = features_train - query"
   ]
  },
  {
   "cell_type": "markdown",
   "metadata": {},
   "source": [
    "To test the code above, run the following cell, which should output a value -0.0934339605842:"
   ]
  },
  {
   "cell_type": "code",
   "execution_count": 72,
   "metadata": {},
   "outputs": [
    {
     "name": "stdout",
     "output_type": "stream",
     "text": [
      "-0.0934339605841801\n"
     ]
    }
   ],
   "source": [
    "print(diff[-1].sum()) # sum of the feature differences between the query and last training house\n",
    "# should print -0.0934339605842"
   ]
  },
  {
   "cell_type": "markdown",
   "metadata": {},
   "source": [
    "To compute Euclidean distance, take these feature-by-feature differences in `diff`, square each, and take the sum over these components.  \n",
    "<br>\n",
    "\n",
    "_NOTE:_\n",
    "To sum only over a row or column with `np.sum`, we need to specifiy the `axis` parameter described in the `np.sum` [documentation](http://docs.scipy.org/doc/numpy-1.10.1/reference/generated/numpy.sum.html). \n",
    "<br>\n",
    "In particular, `axis=1` computes the sum across each _row_.\n"
   ]
  },
  {
   "cell_type": "code",
   "execution_count": 73,
   "metadata": {},
   "outputs": [
    {
     "name": "stdout",
     "output_type": "stream",
     "text": [
      "0.003307059028786791\n",
      "0.0033070590287867904\n"
     ]
    }
   ],
   "source": [
    "# TEST -- should be exactly same output\n",
    "\n",
    "# Vectorized: take sum of squares across every row and print the 16th result\n",
    "print( (np.sum(diff**2, axis=1))[15] )\n",
    "\n",
    "# Non-vectorized: print the sum of squares for the 16th row only\n",
    "print(np.sum(diff[15]**2)) "
   ]
  },
  {
   "cell_type": "markdown",
   "metadata": {},
   "source": [
    "#### With can then easily compute the Euclidean distances between a query house and all houses in the training set. The result is stored in a variable `distances`."
   ]
  },
  {
   "cell_type": "code",
   "execution_count": 74,
   "metadata": {},
   "outputs": [
    {
     "data": {
      "text/plain": [
       "5527"
      ]
     },
     "execution_count": 74,
     "metadata": {},
     "output_type": "execute_result"
    }
   ],
   "source": [
    "# Obtain the element-wise differences with all observations in dataset\n",
    "query = features_test[0]\n",
    "diff = features_train - query\n",
    "\n",
    "# Sum the square differences (N items)\n",
    "square_sums = np.sum(diff**2, axis=1)\n",
    "\n",
    "# Compute quare root of the N sums\n",
    "distances = np.sqrt(square_sums)\n",
    "\n",
    "len(distances)  # we should have 5,527 distances"
   ]
  },
  {
   "cell_type": "markdown",
   "metadata": {},
   "source": [
    "To test the code above, run the following cell, which should output a value 0.0237082324496:"
   ]
  },
  {
   "cell_type": "code",
   "execution_count": 75,
   "metadata": {},
   "outputs": [
    {
     "name": "stdout",
     "output_type": "stream",
     "text": [
      "0.023708232449603735\n"
     ]
    }
   ],
   "source": [
    "print(distances[100]) # distance wrt the 101th house"
   ]
  },
  {
   "cell_type": "markdown",
   "metadata": {},
   "source": [
    "#### Function that computes the euclidean distances from a query feature-vector to all training observations of a matrix. "
   ]
  },
  {
   "cell_type": "code",
   "execution_count": 76,
   "metadata": {},
   "outputs": [],
   "source": [
    "\"\"\"Receives the feature matrix of a training set and a query data point (vector)\n",
    "    Returns an array of size N with the euclidean distances from query point\"\"\"\n",
    "def get_distances(feature_matrix, query_vector):\n",
    "    diff = feature_matrix - query_vector    # vectorized element-wise differences\n",
    "    square_sums = np.sum(diff**2, axis=1)   # apply power of 2 to each difference and sum row-wise\n",
    "\n",
    "    # distances are the square root of the sum of squares\n",
    "    return np.sqrt(square_sums)"
   ]
  },
  {
   "cell_type": "markdown",
   "metadata": {},
   "source": [
    "*** QUIZ QUESTIONS ***\n",
    "\n",
    "1. ***What is the index of the house in the training set that is closest to the query house = `features_test[2]`?***\n",
    "`A = 382`"
   ]
  },
  {
   "cell_type": "code",
   "execution_count": 156,
   "metadata": {},
   "outputs": [
    {
     "name": "stdout",
     "output_type": "stream",
     "text": [
      "Nearest neighbor in Train from 2nd test house 382\n",
      "0.002860495267507927\n"
     ]
    }
   ],
   "source": [
    "query_house = features_test[2]\n",
    "# Find the index of the single nearest neighbor to query_house\n",
    "distances = get_distances(features_train, query_house)\n",
    "\n",
    "index_2 = np.argmin(distances)\n",
    "    \n",
    "print(f\"Nearest neighbor in Train from 2nd test house {index_2}\")\n",
    "print(distances[index_2])"
   ]
  },
  {
   "cell_type": "markdown",
   "metadata": {},
   "source": [
    "2.  ***What is the predicted value of the query house based on 1-nearest neighbor regression?***\n",
    "`A = $249000`"
   ]
  },
  {
   "cell_type": "code",
   "execution_count": 155,
   "metadata": {},
   "outputs": [
    {
     "name": "stdout",
     "output_type": "stream",
     "text": [
      "Predicted price for the 2nd test house: $249000\n"
     ]
    }
   ],
   "source": [
    "print(f\"Predicted price for the 2nd test house: ${train[index_2]['price']}\")"
   ]
  },
  {
   "cell_type": "markdown",
   "metadata": {},
   "source": [
    "# Perform k-nearest neighbor regression"
   ]
  },
  {
   "cell_type": "markdown",
   "metadata": {},
   "source": [
    "For k-nearest neighbors, we need to find a *set* of k houses in the training set closest to a given query house. We then make predictions based on these k nearest neighbors."
   ]
  },
  {
   "cell_type": "markdown",
   "metadata": {},
   "source": [
    "## Get the k-nearest neighbors\n",
    "\n",
    "Implement a function that takes in\n",
    " * the value of k;\n",
    " * the feature matrix for the training houses; and\n",
    " * the feature vector of the query house\n",
    " \n",
    "and returns the indices of the k closest training houses. For instance, with 2-nearest neighbor, a return value of [5, 10] would indicate that the 6th and 11th training houses are closest to the query house.\n",
    "\n",
    "[documentation for `np.argsort`](http://docs.scipy.org/doc/numpy/reference/generated/numpy.argsort.html)."
   ]
  },
  {
   "cell_type": "code",
   "execution_count": 97,
   "metadata": {},
   "outputs": [],
   "source": [
    "\"\"\"\n",
    "Receives: a value for K, a features matrix, and a query feature-vector.\n",
    "Returns: K indices of the K closest training houses in Euclidean distance.\n",
    "\"\"\"\n",
    "def get_k_nn(k, feature_matrix, query_vector):\n",
    "    # Get the distances in same order as training set\n",
    "    all_distances = get_distances(feature_matrix, query_vector)\n",
    "    \n",
    "    # Sort the distances and return the first K indices\n",
    "    nn_indices = np.argsort(all_distances)\n",
    "    return nn_indices[0:k]"
   ]
  },
  {
   "cell_type": "markdown",
   "metadata": {},
   "source": [
    "*** QUIZ QUESTION ***\n",
    "\n",
    "Take the query house to be third house of the test set (`features_test[2]`).  What are the indices of the 4 training houses closest to the query house?\n",
    "\n",
    "`A = [382, 1149, 4087, 3142]`"
   ]
  },
  {
   "cell_type": "code",
   "execution_count": 98,
   "metadata": {},
   "outputs": [
    {
     "name": "stdout",
     "output_type": "stream",
     "text": [
      "[ 382 1149 4087 3142]\n"
     ]
    }
   ],
   "source": [
    "query = features_test[2]\n",
    "k = 4\n",
    "print(get_k_nn(k, features_train, query))"
   ]
  },
  {
   "cell_type": "markdown",
   "metadata": {},
   "source": [
    "### Make a prediction by averaging k nearest neighbors"
   ]
  },
  {
   "cell_type": "markdown",
   "metadata": {},
   "source": [
    "Function that predicts the value of a given query house. **Method: average of the outputs (prices) of the k nearest-neighbors in the training set**. \n",
    " \n",
    "The function should return a predicted value of the query house."
   ]
  },
  {
   "cell_type": "code",
   "execution_count": 105,
   "metadata": {},
   "outputs": [],
   "source": [
    "\"\"\"\n",
    "Receives: \n",
    " * a value for K, \n",
    " * a feature matrix of a training set, \n",
    " * the output values NUMPY array,\n",
    " * the query feature vector for which to predict.\n",
    "Returns: the predicted value for the query vector using KNN average.\n",
    "\"\"\"\n",
    "def predict_query(k, feature_matrix, outputs, query_vector):\n",
    "    knn_indices = get_k_nn(k, feature_matrix, query_vector)\n",
    "    # Extract multiple items from a Numpy array using a list of indices.\n",
    "    knn_values = outputs[knn_indices] \n",
    "\n",
    "    # Return the arithmetic, unweighted mean\n",
    "    return np.mean(knn_values)"
   ]
  },
  {
   "cell_type": "markdown",
   "metadata": {},
   "source": [
    "*** QUIZ QUESTION *** <br>\n",
    "***What is the predicted value for the third test set house (`features_test[2]`) using k-nearest neighbors with `k=4`?***"
   ]
  },
  {
   "cell_type": "code",
   "execution_count": 121,
   "metadata": {},
   "outputs": [],
   "source": [
    "query = features_test[2]\n",
    "outputs = np.array(train['price'])\n",
    "k = 4\n",
    "\n",
    "knn4_prediction = predict_query(k, features_train, outputs, query)"
   ]
  },
  {
   "cell_type": "markdown",
   "metadata": {},
   "source": [
    "Compare this predicted value using 4-nearest neighbors to the predicted value using 1-nearest neighbor computed earlier.\n",
    "```For the 2nd test house\n",
    "Predicted price with 1-NN: $249000\n",
    "Predicted price with 4-NN $413987.5```"
   ]
  },
  {
   "cell_type": "code",
   "execution_count": 122,
   "metadata": {},
   "outputs": [
    {
     "name": "stdout",
     "output_type": "stream",
     "text": [
      "For the 2nd test house\n",
      "Predicted price with 1-NN: $249000\n",
      "Predicted price with 4-NN $413987.5\n"
     ]
    }
   ],
   "source": [
    "print(\"For the 2nd test house\")\n",
    "print(f\"Predicted price with 1-NN: ${train[index_2]['price']}\")\n",
    "print(f\"Predicted price with 4-NN ${knn4_prediction}\")"
   ]
  },
  {
   "cell_type": "markdown",
   "metadata": {},
   "source": [
    "## Make multiple predictions"
   ]
  },
  {
   "cell_type": "markdown",
   "metadata": {},
   "source": [
    "#### Function to predict the value of every house in a query set. (e.g. the test set or validation set.) \n",
    " \n",
    "\n",
    "**Hint**: To get the number of houses in the query set, use the `.shape` field of the query features matrix. See [the documentation](http://docs.scipy.org/doc/numpy-1.10.1/reference/generated/numpy.ndarray.shape.html)."
   ]
  },
  {
   "cell_type": "code",
   "execution_count": 131,
   "metadata": {},
   "outputs": [],
   "source": [
    "\"\"\"\n",
    "The idea is to have a loop where we take each house in the query set \n",
    "as the query house and make a prediction for that specific house. \n",
    "Receives:\n",
    " * the value of k;\n",
    " * the feature matrix for the training set;\n",
    " * the output values (prices) of the training set; \n",
    " * the feature matrix for the query vector set.\n",
    "Returns: a set of predicted values, one for each query\n",
    "\"\"\"\n",
    "def predict_queries(k, feature_matrix, outputs, query_matrix):\n",
    "    n_queries = query_matrix.shape[0]\n",
    "    predictions = [0.0] * n_queries\n",
    "    \n",
    "    for r in range(n_queries):\n",
    "        q = query_matrix[r]\n",
    "        p = predict_query(k, feature_matrix, outputs, q)\n",
    "        predictions[r] = p\n",
    "    \n",
    "    return predictions"
   ]
  },
  {
   "cell_type": "markdown",
   "metadata": {},
   "source": [
    "*** QUIZ QUESTION ***\n",
    "\n",
    "Make predictions for the first 10 houses in the test set using k-nearest neighbors with `k=10`. \n",
    "\n",
    "Find the query house with lowest predicted value.\n",
    "What is the index? What is the prediction?\n",
    "`A= index 6, predicted $350032.0`"
   ]
  },
  {
   "cell_type": "code",
   "execution_count": 134,
   "metadata": {},
   "outputs": [
    {
     "name": "stdout",
     "output_type": "stream",
     "text": [
      "[881300.0, 431860.0, 460595.0, 430200.0, 766750.0, 667420.0, 350032.0, 512800.7, 484000.0, 457235.0]\n"
     ]
    }
   ],
   "source": [
    "k=10\n",
    "query_set = features_test[0:10]\n",
    "\n",
    "outputs = np.array(train['price'])\n",
    "\n",
    "predictions = predict_queries(k, features_train, outputs, query_set)\n",
    "print(predictions)"
   ]
  },
  {
   "cell_type": "code",
   "execution_count": 135,
   "metadata": {},
   "outputs": [
    {
     "name": "stdout",
     "output_type": "stream",
     "text": [
      "Lowest predicted value i=6, value = $350032.0\n"
     ]
    }
   ],
   "source": [
    "i = np.argmin(predictions)\n",
    "print(f\"Lowest predicted value i={i}, value = ${predictions[i]}\")"
   ]
  },
  {
   "cell_type": "markdown",
   "metadata": {},
   "source": [
    "# Choosing an ideal value of k by using a validation set"
   ]
  },
  {
   "cell_type": "markdown",
   "metadata": {},
   "source": [
    "What k to use in making predictions? \n",
    "For this question we use a validation set to choose among a set of possible values of k, from 1 to 15."
   ]
  },
  {
   "cell_type": "markdown",
   "metadata": {},
   "source": [
    "**IMPORTANT: (Depending on your computing environment, this computation may take 10-15 minutes. This is because given our implementation, the repeated `get_k_nn` becomes expensive because of the `np.argsort` operation\n",
    ")**"
   ]
  },
  {
   "cell_type": "code",
   "execution_count": 137,
   "metadata": {},
   "outputs": [],
   "source": [
    "def get_rss(predictions, true_outputs):\n",
    "    residuals = predictions - true_outputs  # same length\n",
    "    return np.sum(residuals**2)"
   ]
  },
  {
   "cell_type": "code",
   "execution_count": 140,
   "metadata": {},
   "outputs": [],
   "source": [
    "# Loop for validating the best value of K (minimum Residual Sum of Squares)\n",
    "from math import inf\n",
    "\n",
    "train_outputs = np.array(train['price'])         # for making knn predictions\n",
    "valid_outputs = np.array(validation['price'])    # for rss computation\n",
    "\n",
    "rss_dict = dict()  # maps k:rss pairs\n",
    "min_rss = inf\n",
    "\n",
    "for k in range(1,16):\n",
    "    predictions_k = predict_queries(k, features_train, train_outputs, features_valid)\n",
    "    \n",
    "    rss_dict[k] = get_rss(predictions_k, valid_outputs)\n",
    "    min_rss = min (rss_dict[k], min_rss)"
   ]
  },
  {
   "cell_type": "code",
   "execution_count": 146,
   "metadata": {},
   "outputs": [
    {
     "name": "stdout",
     "output_type": "stream",
     "text": [
      "Minimum RSS is 67361678735491.5, or 6.736168e+13\n",
      "Best value of k is 8\n"
     ]
    }
   ],
   "source": [
    "# Minimum RSS on Validation Set\n",
    "\n",
    "min_rss_print = \"{:e}\".format(min_rss)\n",
    "print(f\"Minimum RSS is {min_rss}, or {min_rss_print}\")\n",
    "best_k = [k for k,v in rss_dict.items() if v==min_rss]\n",
    "print(f\"Best value of k is {best_k[0]}\")"
   ]
  },
  {
   "cell_type": "markdown",
   "metadata": {},
   "source": [
    "To visualize the performance as a function of `k`, plot the RSS on the VALIDATION set for each considered `k` value:\n",
    "\n",
    "`Note: the best value is k=8`"
   ]
  },
  {
   "cell_type": "code",
   "execution_count": 147,
   "metadata": {},
   "outputs": [
    {
     "data": {
      "text/plain": [
       "[<matplotlib.lines.Line2D at 0x7f96988ba8b0>]"
      ]
     },
     "execution_count": 147,
     "metadata": {},
     "output_type": "execute_result"
    },
    {
     "data": {
      "image/png": "[encoded data removed]",
      "text/plain": [
       "<Figure size 432x288 with 1 Axes>"
      ]
     },
     "metadata": {
      "needs_background": "light"
     },
     "output_type": "display_data"
    }
   ],
   "source": [
    "import matplotlib.pyplot as plt\n",
    "%matplotlib inline\n",
    "\n",
    "plt.plot(rss_dict.keys(), rss_dict.values(),'bo-')"
   ]
  },
  {
   "cell_type": "markdown",
   "metadata": {},
   "source": [
    "***QUIZ QUESTION ***\n",
    "\n",
    "What is the RSS on the TEST data using the value of k found above?  To be clear, sum over all houses in the TEST set.\n",
    "`A = 1.331188e+14`"
   ]
  },
  {
   "cell_type": "code",
   "execution_count": 149,
   "metadata": {},
   "outputs": [
    {
     "name": "stdout",
     "output_type": "stream",
     "text": [
      "TEST RSS is 133118823551516.81, or 1.331188e+14\n"
     ]
    }
   ],
   "source": [
    "k = 8\n",
    "test_outputs = np.array(test['price'])\n",
    "\n",
    "predictions_test = predict_queries(k, features_train, train_outputs, features_test)\n",
    "\n",
    "rss_test = get_rss(predictions_test, test_outputs)\n",
    "\n",
    "test_rss_print = \"{:e}\".format(rss_test)\n",
    "print(f\"TEST RSS is {rss_test}, or {test_rss_print}\")\n"
   ]
  }
 ],
 "metadata": {
  "kernelspec": {
   "display_name": "Python 3",
   "language": "python",
   "name": "python3"
  },
  "language_info": {
   "codemirror_mode": {
    "name": "ipython",
    "version": 3
   },
   "file_extension": ".py",
   "mimetype": "text/x-python",
   "name": "python",
   "nbconvert_exporter": "python",
   "pygments_lexer": "ipython3",
   "version": "3.8.5"
  }
 },
 "nbformat": 4,
 "nbformat_minor": 1
}

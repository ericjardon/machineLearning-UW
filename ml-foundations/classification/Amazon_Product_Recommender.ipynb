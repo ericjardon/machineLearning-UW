{
 "cells": [
  {
   "cell_type": "code",
   "execution_count": 1,
   "id": "center-trade",
   "metadata": {},
   "outputs": [],
   "source": [
    "import turicreate as tc\n",
    "from turicreate import text_analytics"
   ]
  },
  {
   "cell_type": "markdown",
   "id": "framed-bailey",
   "metadata": {},
   "source": [
    "### Read in product review data"
   ]
  },
  {
   "cell_type": "code",
   "execution_count": 2,
   "id": "modified-agency",
   "metadata": {},
   "outputs": [],
   "source": [
    "reviews = tc.SFrame('./amazon_baby.sframe')"
   ]
  },
  {
   "cell_type": "code",
   "execution_count": 3,
   "id": "legal-accreditation",
   "metadata": {},
   "outputs": [
    {
     "data": {
      "text/plain": [
       "183531"
      ]
     },
     "execution_count": 3,
     "metadata": {},
     "output_type": "execute_result"
    }
   ],
   "source": [
    "reviews.num_rows()"
   ]
  },
  {
   "cell_type": "code",
   "execution_count": 4,
   "id": "monetary-dubai",
   "metadata": {},
   "outputs": [],
   "source": [
    "reviews = reviews[reviews['name'] == 'Vulli Sophie the Giraffe Teether']"
   ]
  },
  {
   "cell_type": "markdown",
   "id": "widespread-state",
   "metadata": {},
   "source": [
    "### Build a Word-Count vector for each of the reviews\n",
    "You must throw away every word not in the `selected_words` array."
   ]
  },
  {
   "cell_type": "code",
   "execution_count": 5,
   "id": "streaming-leeds",
   "metadata": {},
   "outputs": [],
   "source": [
    "def filter_words(words):\n",
    "    # Receives a dictionary of words and their count, and an array of selected_words.\n",
    "    # Returns a new dictionary containing only selected words\n",
    "    selected_words = ['awesome', 'great', 'fantastic', 'amazing', 'love', 'horrible', 'bad', 'terrible', 'awful', 'wow', 'hate']\n",
    "    newDict = dict()\n",
    "    for w in selected_words:\n",
    "        newDict[w] = 0\n",
    "\n",
    "    for k, v in words.items():\n",
    "        if k in selected_words:\n",
    "            newDict[k] = v\n",
    "    return newDict\n",
    "            "
   ]
  },
  {
   "cell_type": "code",
   "execution_count": 6,
   "id": "greenhouse-asbestos",
   "metadata": {},
   "outputs": [],
   "source": [
    "def single_count(w_dict, w):\n",
    "    if w in w_dict:\n",
    "        return w_dict[w]\n",
    "    else:\n",
    "        return 0"
   ]
  },
  {
   "cell_type": "code",
   "execution_count": 7,
   "id": "adaptive-penetration",
   "metadata": {},
   "outputs": [],
   "source": [
    "reviews['word-count'] = text_analytics.count_words(reviews['review']) \n",
    "# produces a dictionary of unique word:count pairs"
   ]
  },
  {
   "cell_type": "code",
   "execution_count": 8,
   "id": "purple-showcase",
   "metadata": {},
   "outputs": [],
   "source": [
    "selected_words = ['awesome', 'great', 'fantastic', 'amazing', 'love', 'horrible', 'bad', 'terrible', 'awful', 'wow', 'hate']\n",
    "for word in selected_words:\n",
    "    reviews[word] = reviews['word-count'].apply(lambda x : single_count(x, word), dtype=int)"
   ]
  },
  {
   "cell_type": "code",
   "execution_count": 9,
   "id": "brown-granny",
   "metadata": {},
   "outputs": [
    {
     "data": {
      "text/html": [
       "<div style=\"max-height:1000px;max-width:1500px;overflow:auto;\"><table frame=\"box\" rules=\"cols\">\n",
       "    <tr>\n",
       "        <th style=\"padding-left: 1em; padding-right: 1em; text-align: center\">name</th>\n",
       "        <th style=\"padding-left: 1em; padding-right: 1em; text-align: center\">review</th>\n",
       "        <th style=\"padding-left: 1em; padding-right: 1em; text-align: center\">rating</th>\n",
       "        <th style=\"padding-left: 1em; padding-right: 1em; text-align: center\">word-count</th>\n",
       "        <th style=\"padding-left: 1em; padding-right: 1em; text-align: center\">awesome</th>\n",
       "        <th style=\"padding-left: 1em; padding-right: 1em; text-align: center\">great</th>\n",
       "        <th style=\"padding-left: 1em; padding-right: 1em; text-align: center\">fantastic</th>\n",
       "    </tr>\n",
       "    <tr>\n",
       "        <td style=\"padding-left: 1em; padding-right: 1em; text-align: center; vertical-align: top\">Vulli Sophie the Giraffe<br>Teether ...</td>\n",
       "        <td style=\"padding-left: 1em; padding-right: 1em; text-align: center; vertical-align: top\">He likes chewing on all<br>the parts especially the ...</td>\n",
       "        <td style=\"padding-left: 1em; padding-right: 1em; text-align: center; vertical-align: top\">5.0</td>\n",
       "        <td style=\"padding-left: 1em; padding-right: 1em; text-align: center; vertical-align: top\">{&#x27;purchase&#x27;: 1.0,<br>&#x27;teething&#x27;: 1.0, ...</td>\n",
       "        <td style=\"padding-left: 1em; padding-right: 1em; text-align: center; vertical-align: top\">0</td>\n",
       "        <td style=\"padding-left: 1em; padding-right: 1em; text-align: center; vertical-align: top\">1</td>\n",
       "        <td style=\"padding-left: 1em; padding-right: 1em; text-align: center; vertical-align: top\">0</td>\n",
       "    </tr>\n",
       "    <tr>\n",
       "        <td style=\"padding-left: 1em; padding-right: 1em; text-align: center; vertical-align: top\">Vulli Sophie the Giraffe<br>Teether ...</td>\n",
       "        <td style=\"padding-left: 1em; padding-right: 1em; text-align: center; vertical-align: top\">My son loves this toy and<br>fits great in the diaper ...</td>\n",
       "        <td style=\"padding-left: 1em; padding-right: 1em; text-align: center; vertical-align: top\">5.0</td>\n",
       "        <td style=\"padding-left: 1em; padding-right: 1em; text-align: center; vertical-align: top\">{&#x27;a&#x27;: 1.0, &#x27;is&#x27;: 1.0,<br>&#x27;when&#x27;: 1.0, &#x27;him&#x27;: 1.0, ...</td>\n",
       "        <td style=\"padding-left: 1em; padding-right: 1em; text-align: center; vertical-align: top\">0</td>\n",
       "        <td style=\"padding-left: 1em; padding-right: 1em; text-align: center; vertical-align: top\">1</td>\n",
       "        <td style=\"padding-left: 1em; padding-right: 1em; text-align: center; vertical-align: top\">0</td>\n",
       "    </tr>\n",
       "    <tr>\n",
       "        <td style=\"padding-left: 1em; padding-right: 1em; text-align: center; vertical-align: top\">Vulli Sophie the Giraffe<br>Teether ...</td>\n",
       "        <td style=\"padding-left: 1em; padding-right: 1em; text-align: center; vertical-align: top\">There really should be a<br>large warning on the  ...</td>\n",
       "        <td style=\"padding-left: 1em; padding-right: 1em; text-align: center; vertical-align: top\">1.0</td>\n",
       "        <td style=\"padding-left: 1em; padding-right: 1em; text-align: center; vertical-align: top\">{&#x27;made&#x27;: 1.0, &#x27;of&#x27;: 1.0,<br>&#x27;packaging&#x27;: 1.0, &#x27;no&#x27;: ...</td>\n",
       "        <td style=\"padding-left: 1em; padding-right: 1em; text-align: center; vertical-align: top\">0</td>\n",
       "        <td style=\"padding-left: 1em; padding-right: 1em; text-align: center; vertical-align: top\">0</td>\n",
       "        <td style=\"padding-left: 1em; padding-right: 1em; text-align: center; vertical-align: top\">0</td>\n",
       "    </tr>\n",
       "    <tr>\n",
       "        <td style=\"padding-left: 1em; padding-right: 1em; text-align: center; vertical-align: top\">Vulli Sophie the Giraffe<br>Teether ...</td>\n",
       "        <td style=\"padding-left: 1em; padding-right: 1em; text-align: center; vertical-align: top\">All the moms in my moms&#x27;<br>group got Sophie for ...</td>\n",
       "        <td style=\"padding-left: 1em; padding-right: 1em; text-align: center; vertical-align: top\">5.0</td>\n",
       "        <td style=\"padding-left: 1em; padding-right: 1em; text-align: center; vertical-align: top\">{&#x27;another&#x27;: 1.0, &#x27;out&#x27;:<br>1.0, &#x27;run&#x27;: 1.0, &#x27;lost&#x27;: ...</td>\n",
       "        <td style=\"padding-left: 1em; padding-right: 1em; text-align: center; vertical-align: top\">0</td>\n",
       "        <td style=\"padding-left: 1em; padding-right: 1em; text-align: center; vertical-align: top\">0</td>\n",
       "        <td style=\"padding-left: 1em; padding-right: 1em; text-align: center; vertical-align: top\">0</td>\n",
       "    </tr>\n",
       "    <tr>\n",
       "        <td style=\"padding-left: 1em; padding-right: 1em; text-align: center; vertical-align: top\">Vulli Sophie the Giraffe<br>Teether ...</td>\n",
       "        <td style=\"padding-left: 1em; padding-right: 1em; text-align: center; vertical-align: top\">I was a little skeptical<br>on whether Sophie was ...</td>\n",
       "        <td style=\"padding-left: 1em; padding-right: 1em; text-align: center; vertical-align: top\">5.0</td>\n",
       "        <td style=\"padding-left: 1em; padding-right: 1em; text-align: center; vertical-align: top\">{&#x27;disappointed&#x27;: 1.0,<br>&#x27;will&#x27;: 1.0, &#x27;take&#x27;:  ...</td>\n",
       "        <td style=\"padding-left: 1em; padding-right: 1em; text-align: center; vertical-align: top\">0</td>\n",
       "        <td style=\"padding-left: 1em; padding-right: 1em; text-align: center; vertical-align: top\">0</td>\n",
       "        <td style=\"padding-left: 1em; padding-right: 1em; text-align: center; vertical-align: top\">0</td>\n",
       "    </tr>\n",
       "    <tr>\n",
       "        <td style=\"padding-left: 1em; padding-right: 1em; text-align: center; vertical-align: top\">Vulli Sophie the Giraffe<br>Teether ...</td>\n",
       "        <td style=\"padding-left: 1em; padding-right: 1em; text-align: center; vertical-align: top\">I have been reading about<br>Sophie and was going  ...</td>\n",
       "        <td style=\"padding-left: 1em; padding-right: 1em; text-align: center; vertical-align: top\">5.0</td>\n",
       "        <td style=\"padding-left: 1em; padding-right: 1em; text-align: center; vertical-align: top\">{&#x27;late&#x27;: 1.0, &#x27;perfect&#x27;:<br>1.0, &#x27;pack&#x27;: 1.0, &#x27;on ...</td>\n",
       "        <td style=\"padding-left: 1em; padding-right: 1em; text-align: center; vertical-align: top\">0</td>\n",
       "        <td style=\"padding-left: 1em; padding-right: 1em; text-align: center; vertical-align: top\">0</td>\n",
       "        <td style=\"padding-left: 1em; padding-right: 1em; text-align: center; vertical-align: top\">0</td>\n",
       "    </tr>\n",
       "    <tr>\n",
       "        <td style=\"padding-left: 1em; padding-right: 1em; text-align: center; vertical-align: top\">Vulli Sophie the Giraffe<br>Teether ...</td>\n",
       "        <td style=\"padding-left: 1em; padding-right: 1em; text-align: center; vertical-align: top\">My neice loves her sophie<br>and has spent hours ...</td>\n",
       "        <td style=\"padding-left: 1em; padding-right: 1em; text-align: center; vertical-align: top\">5.0</td>\n",
       "        <td style=\"padding-left: 1em; padding-right: 1em; text-align: center; vertical-align: top\">{&#x27;delight&#x27;: 1.0, &#x27;in&#x27;:<br>1.0, &#x27;other&#x27;: 1.0, ...</td>\n",
       "        <td style=\"padding-left: 1em; padding-right: 1em; text-align: center; vertical-align: top\">0</td>\n",
       "        <td style=\"padding-left: 1em; padding-right: 1em; text-align: center; vertical-align: top\">0</td>\n",
       "        <td style=\"padding-left: 1em; padding-right: 1em; text-align: center; vertical-align: top\">0</td>\n",
       "    </tr>\n",
       "    <tr>\n",
       "        <td style=\"padding-left: 1em; padding-right: 1em; text-align: center; vertical-align: top\">Vulli Sophie the Giraffe<br>Teether ...</td>\n",
       "        <td style=\"padding-left: 1em; padding-right: 1em; text-align: center; vertical-align: top\">What a friendly face!<br>And those mesmerizing ...</td>\n",
       "        <td style=\"padding-left: 1em; padding-right: 1em; text-align: center; vertical-align: top\">5.0</td>\n",
       "        <td style=\"padding-left: 1em; padding-right: 1em; text-align: center; vertical-align: top\">{&#x27;inside&#x27;: 1.0, &#x27;water&#x27;:<br>1.0, &#x27;don&#x27;: 1.0, &#x27;up&#x27;: ...</td>\n",
       "        <td style=\"padding-left: 1em; padding-right: 1em; text-align: center; vertical-align: top\">0</td>\n",
       "        <td style=\"padding-left: 1em; padding-right: 1em; text-align: center; vertical-align: top\">0</td>\n",
       "        <td style=\"padding-left: 1em; padding-right: 1em; text-align: center; vertical-align: top\">0</td>\n",
       "    </tr>\n",
       "    <tr>\n",
       "        <td style=\"padding-left: 1em; padding-right: 1em; text-align: center; vertical-align: top\">Vulli Sophie the Giraffe<br>Teether ...</td>\n",
       "        <td style=\"padding-left: 1em; padding-right: 1em; text-align: center; vertical-align: top\">We got this just for my<br>son to chew on instea ...</td>\n",
       "        <td style=\"padding-left: 1em; padding-right: 1em; text-align: center; vertical-align: top\">5.0</td>\n",
       "        <td style=\"padding-left: 1em; padding-right: 1em; text-align: center; vertical-align: top\">{&#x27;its&#x27;: 1.0, &#x27;fine&#x27;: 1.0,<br>&#x27;is&#x27;: 1.0, &#x27;which&#x27;: 1.0, ...</td>\n",
       "        <td style=\"padding-left: 1em; padding-right: 1em; text-align: center; vertical-align: top\">0</td>\n",
       "        <td style=\"padding-left: 1em; padding-right: 1em; text-align: center; vertical-align: top\">0</td>\n",
       "        <td style=\"padding-left: 1em; padding-right: 1em; text-align: center; vertical-align: top\">0</td>\n",
       "    </tr>\n",
       "    <tr>\n",
       "        <td style=\"padding-left: 1em; padding-right: 1em; text-align: center; vertical-align: top\">Vulli Sophie the Giraffe<br>Teether ...</td>\n",
       "        <td style=\"padding-left: 1em; padding-right: 1em; text-align: center; vertical-align: top\">My baby seems to like<br>this toy, but I could ...</td>\n",
       "        <td style=\"padding-left: 1em; padding-right: 1em; text-align: center; vertical-align: top\">3.0</td>\n",
       "        <td style=\"padding-left: 1em; padding-right: 1em; text-align: center; vertical-align: top\">{&#x27;off&#x27;: 1.0, &#x27;have&#x27;: 2.0,<br>&#x27;of&#x27;: 1.0, &#x27;some&#x27;: 1.0, ...</td>\n",
       "        <td style=\"padding-left: 1em; padding-right: 1em; text-align: center; vertical-align: top\">0</td>\n",
       "        <td style=\"padding-left: 1em; padding-right: 1em; text-align: center; vertical-align: top\">0</td>\n",
       "        <td style=\"padding-left: 1em; padding-right: 1em; text-align: center; vertical-align: top\">0</td>\n",
       "    </tr>\n",
       "</table>\n",
       "<table frame=\"box\" rules=\"cols\">\n",
       "    <tr>\n",
       "        <th style=\"padding-left: 1em; padding-right: 1em; text-align: center\">amazing</th>\n",
       "        <th style=\"padding-left: 1em; padding-right: 1em; text-align: center\">love</th>\n",
       "        <th style=\"padding-left: 1em; padding-right: 1em; text-align: center\">horrible</th>\n",
       "        <th style=\"padding-left: 1em; padding-right: 1em; text-align: center\">bad</th>\n",
       "        <th style=\"padding-left: 1em; padding-right: 1em; text-align: center\">terrible</th>\n",
       "        <th style=\"padding-left: 1em; padding-right: 1em; text-align: center\">awful</th>\n",
       "        <th style=\"padding-left: 1em; padding-right: 1em; text-align: center\">wow</th>\n",
       "        <th style=\"padding-left: 1em; padding-right: 1em; text-align: center\">hate</th>\n",
       "    </tr>\n",
       "    <tr>\n",
       "        <td style=\"padding-left: 1em; padding-right: 1em; text-align: center; vertical-align: top\">0</td>\n",
       "        <td style=\"padding-left: 1em; padding-right: 1em; text-align: center; vertical-align: top\">0</td>\n",
       "        <td style=\"padding-left: 1em; padding-right: 1em; text-align: center; vertical-align: top\">0</td>\n",
       "        <td style=\"padding-left: 1em; padding-right: 1em; text-align: center; vertical-align: top\">0</td>\n",
       "        <td style=\"padding-left: 1em; padding-right: 1em; text-align: center; vertical-align: top\">0</td>\n",
       "        <td style=\"padding-left: 1em; padding-right: 1em; text-align: center; vertical-align: top\">0</td>\n",
       "        <td style=\"padding-left: 1em; padding-right: 1em; text-align: center; vertical-align: top\">0</td>\n",
       "        <td style=\"padding-left: 1em; padding-right: 1em; text-align: center; vertical-align: top\">0</td>\n",
       "    </tr>\n",
       "    <tr>\n",
       "        <td style=\"padding-left: 1em; padding-right: 1em; text-align: center; vertical-align: top\">0</td>\n",
       "        <td style=\"padding-left: 1em; padding-right: 1em; text-align: center; vertical-align: top\">0</td>\n",
       "        <td style=\"padding-left: 1em; padding-right: 1em; text-align: center; vertical-align: top\">0</td>\n",
       "        <td style=\"padding-left: 1em; padding-right: 1em; text-align: center; vertical-align: top\">0</td>\n",
       "        <td style=\"padding-left: 1em; padding-right: 1em; text-align: center; vertical-align: top\">0</td>\n",
       "        <td style=\"padding-left: 1em; padding-right: 1em; text-align: center; vertical-align: top\">0</td>\n",
       "        <td style=\"padding-left: 1em; padding-right: 1em; text-align: center; vertical-align: top\">0</td>\n",
       "        <td style=\"padding-left: 1em; padding-right: 1em; text-align: center; vertical-align: top\">0</td>\n",
       "    </tr>\n",
       "    <tr>\n",
       "        <td style=\"padding-left: 1em; padding-right: 1em; text-align: center; vertical-align: top\">0</td>\n",
       "        <td style=\"padding-left: 1em; padding-right: 1em; text-align: center; vertical-align: top\">0</td>\n",
       "        <td style=\"padding-left: 1em; padding-right: 1em; text-align: center; vertical-align: top\">0</td>\n",
       "        <td style=\"padding-left: 1em; padding-right: 1em; text-align: center; vertical-align: top\">0</td>\n",
       "        <td style=\"padding-left: 1em; padding-right: 1em; text-align: center; vertical-align: top\">0</td>\n",
       "        <td style=\"padding-left: 1em; padding-right: 1em; text-align: center; vertical-align: top\">0</td>\n",
       "        <td style=\"padding-left: 1em; padding-right: 1em; text-align: center; vertical-align: top\">0</td>\n",
       "        <td style=\"padding-left: 1em; padding-right: 1em; text-align: center; vertical-align: top\">0</td>\n",
       "    </tr>\n",
       "    <tr>\n",
       "        <td style=\"padding-left: 1em; padding-right: 1em; text-align: center; vertical-align: top\">0</td>\n",
       "        <td style=\"padding-left: 1em; padding-right: 1em; text-align: center; vertical-align: top\">1</td>\n",
       "        <td style=\"padding-left: 1em; padding-right: 1em; text-align: center; vertical-align: top\">0</td>\n",
       "        <td style=\"padding-left: 1em; padding-right: 1em; text-align: center; vertical-align: top\">0</td>\n",
       "        <td style=\"padding-left: 1em; padding-right: 1em; text-align: center; vertical-align: top\">0</td>\n",
       "        <td style=\"padding-left: 1em; padding-right: 1em; text-align: center; vertical-align: top\">0</td>\n",
       "        <td style=\"padding-left: 1em; padding-right: 1em; text-align: center; vertical-align: top\">0</td>\n",
       "        <td style=\"padding-left: 1em; padding-right: 1em; text-align: center; vertical-align: top\">0</td>\n",
       "    </tr>\n",
       "    <tr>\n",
       "        <td style=\"padding-left: 1em; padding-right: 1em; text-align: center; vertical-align: top\">0</td>\n",
       "        <td style=\"padding-left: 1em; padding-right: 1em; text-align: center; vertical-align: top\">0</td>\n",
       "        <td style=\"padding-left: 1em; padding-right: 1em; text-align: center; vertical-align: top\">0</td>\n",
       "        <td style=\"padding-left: 1em; padding-right: 1em; text-align: center; vertical-align: top\">0</td>\n",
       "        <td style=\"padding-left: 1em; padding-right: 1em; text-align: center; vertical-align: top\">0</td>\n",
       "        <td style=\"padding-left: 1em; padding-right: 1em; text-align: center; vertical-align: top\">0</td>\n",
       "        <td style=\"padding-left: 1em; padding-right: 1em; text-align: center; vertical-align: top\">0</td>\n",
       "        <td style=\"padding-left: 1em; padding-right: 1em; text-align: center; vertical-align: top\">0</td>\n",
       "    </tr>\n",
       "    <tr>\n",
       "        <td style=\"padding-left: 1em; padding-right: 1em; text-align: center; vertical-align: top\">0</td>\n",
       "        <td style=\"padding-left: 1em; padding-right: 1em; text-align: center; vertical-align: top\">1</td>\n",
       "        <td style=\"padding-left: 1em; padding-right: 1em; text-align: center; vertical-align: top\">0</td>\n",
       "        <td style=\"padding-left: 1em; padding-right: 1em; text-align: center; vertical-align: top\">0</td>\n",
       "        <td style=\"padding-left: 1em; padding-right: 1em; text-align: center; vertical-align: top\">0</td>\n",
       "        <td style=\"padding-left: 1em; padding-right: 1em; text-align: center; vertical-align: top\">0</td>\n",
       "        <td style=\"padding-left: 1em; padding-right: 1em; text-align: center; vertical-align: top\">0</td>\n",
       "        <td style=\"padding-left: 1em; padding-right: 1em; text-align: center; vertical-align: top\">0</td>\n",
       "    </tr>\n",
       "    <tr>\n",
       "        <td style=\"padding-left: 1em; padding-right: 1em; text-align: center; vertical-align: top\">0</td>\n",
       "        <td style=\"padding-left: 1em; padding-right: 1em; text-align: center; vertical-align: top\">1</td>\n",
       "        <td style=\"padding-left: 1em; padding-right: 1em; text-align: center; vertical-align: top\">0</td>\n",
       "        <td style=\"padding-left: 1em; padding-right: 1em; text-align: center; vertical-align: top\">0</td>\n",
       "        <td style=\"padding-left: 1em; padding-right: 1em; text-align: center; vertical-align: top\">0</td>\n",
       "        <td style=\"padding-left: 1em; padding-right: 1em; text-align: center; vertical-align: top\">0</td>\n",
       "        <td style=\"padding-left: 1em; padding-right: 1em; text-align: center; vertical-align: top\">0</td>\n",
       "        <td style=\"padding-left: 1em; padding-right: 1em; text-align: center; vertical-align: top\">0</td>\n",
       "    </tr>\n",
       "    <tr>\n",
       "        <td style=\"padding-left: 1em; padding-right: 1em; text-align: center; vertical-align: top\">0</td>\n",
       "        <td style=\"padding-left: 1em; padding-right: 1em; text-align: center; vertical-align: top\">0</td>\n",
       "        <td style=\"padding-left: 1em; padding-right: 1em; text-align: center; vertical-align: top\">0</td>\n",
       "        <td style=\"padding-left: 1em; padding-right: 1em; text-align: center; vertical-align: top\">0</td>\n",
       "        <td style=\"padding-left: 1em; padding-right: 1em; text-align: center; vertical-align: top\">0</td>\n",
       "        <td style=\"padding-left: 1em; padding-right: 1em; text-align: center; vertical-align: top\">0</td>\n",
       "        <td style=\"padding-left: 1em; padding-right: 1em; text-align: center; vertical-align: top\">0</td>\n",
       "        <td style=\"padding-left: 1em; padding-right: 1em; text-align: center; vertical-align: top\">0</td>\n",
       "    </tr>\n",
       "    <tr>\n",
       "        <td style=\"padding-left: 1em; padding-right: 1em; text-align: center; vertical-align: top\">0</td>\n",
       "        <td style=\"padding-left: 1em; padding-right: 1em; text-align: center; vertical-align: top\">0</td>\n",
       "        <td style=\"padding-left: 1em; padding-right: 1em; text-align: center; vertical-align: top\">0</td>\n",
       "        <td style=\"padding-left: 1em; padding-right: 1em; text-align: center; vertical-align: top\">0</td>\n",
       "        <td style=\"padding-left: 1em; padding-right: 1em; text-align: center; vertical-align: top\">0</td>\n",
       "        <td style=\"padding-left: 1em; padding-right: 1em; text-align: center; vertical-align: top\">0</td>\n",
       "        <td style=\"padding-left: 1em; padding-right: 1em; text-align: center; vertical-align: top\">0</td>\n",
       "        <td style=\"padding-left: 1em; padding-right: 1em; text-align: center; vertical-align: top\">0</td>\n",
       "    </tr>\n",
       "    <tr>\n",
       "        <td style=\"padding-left: 1em; padding-right: 1em; text-align: center; vertical-align: top\">0</td>\n",
       "        <td style=\"padding-left: 1em; padding-right: 1em; text-align: center; vertical-align: top\">0</td>\n",
       "        <td style=\"padding-left: 1em; padding-right: 1em; text-align: center; vertical-align: top\">0</td>\n",
       "        <td style=\"padding-left: 1em; padding-right: 1em; text-align: center; vertical-align: top\">0</td>\n",
       "        <td style=\"padding-left: 1em; padding-right: 1em; text-align: center; vertical-align: top\">0</td>\n",
       "        <td style=\"padding-left: 1em; padding-right: 1em; text-align: center; vertical-align: top\">0</td>\n",
       "        <td style=\"padding-left: 1em; padding-right: 1em; text-align: center; vertical-align: top\">0</td>\n",
       "        <td style=\"padding-left: 1em; padding-right: 1em; text-align: center; vertical-align: top\">0</td>\n",
       "    </tr>\n",
       "</table>\n",
       "[10 rows x 15 columns]<br/>\n",
       "</div>"
      ],
      "text/plain": [
       "Columns:\n",
       "\tname\tstr\n",
       "\treview\tstr\n",
       "\trating\tfloat\n",
       "\tword-count\tdict\n",
       "\tawesome\tint\n",
       "\tgreat\tint\n",
       "\tfantastic\tint\n",
       "\tamazing\tint\n",
       "\tlove\tint\n",
       "\thorrible\tint\n",
       "\tbad\tint\n",
       "\tterrible\tint\n",
       "\tawful\tint\n",
       "\twow\tint\n",
       "\thate\tint\n",
       "\n",
       "Rows: 10\n",
       "\n",
       "Data:\n",
       "+-------------------------------+-------------------------------+--------+\n",
       "|              name             |             review            | rating |\n",
       "+-------------------------------+-------------------------------+--------+\n",
       "| Vulli Sophie the Giraffe T... | He likes chewing on all th... |  5.0   |\n",
       "| Vulli Sophie the Giraffe T... | My son loves this toy and ... |  5.0   |\n",
       "| Vulli Sophie the Giraffe T... | There really should be a l... |  1.0   |\n",
       "| Vulli Sophie the Giraffe T... | All the moms in my moms' g... |  5.0   |\n",
       "| Vulli Sophie the Giraffe T... | I was a little skeptical o... |  5.0   |\n",
       "| Vulli Sophie the Giraffe T... | I have been reading about ... |  5.0   |\n",
       "| Vulli Sophie the Giraffe T... | My neice loves her sophie ... |  5.0   |\n",
       "| Vulli Sophie the Giraffe T... | What a friendly face!  And... |  5.0   |\n",
       "| Vulli Sophie the Giraffe T... | We got this just for my so... |  5.0   |\n",
       "| Vulli Sophie the Giraffe T... | My baby seems to like this... |  3.0   |\n",
       "+-------------------------------+-------------------------------+--------+\n",
       "+-------------------------------+---------+-------+-----------+---------+------+\n",
       "|           word-count          | awesome | great | fantastic | amazing | love |\n",
       "+-------------------------------+---------+-------+-----------+---------+------+\n",
       "| {'purchase': 1.0, 'teethin... |    0    |   1   |     0     |    0    |  0   |\n",
       "| {'a': 1.0, 'is': 1.0, 'whe... |    0    |   1   |     0     |    0    |  0   |\n",
       "| {'made': 1.0, 'of': 1.0, '... |    0    |   0   |     0     |    0    |  0   |\n",
       "| {'another': 1.0, 'out': 1.... |    0    |   0   |     0     |    0    |  1   |\n",
       "| {'disappointed': 1.0, 'wil... |    0    |   0   |     0     |    0    |  0   |\n",
       "| {'late': 1.0, 'perfect': 1... |    0    |   0   |     0     |    0    |  1   |\n",
       "| {'delight': 1.0, 'in': 1.0... |    0    |   0   |     0     |    0    |  1   |\n",
       "| {'inside': 1.0, 'water': 1... |    0    |   0   |     0     |    0    |  0   |\n",
       "| {'its': 1.0, 'fine': 1.0, ... |    0    |   0   |     0     |    0    |  0   |\n",
       "| {'off': 1.0, 'have': 2.0, ... |    0    |   0   |     0     |    0    |  0   |\n",
       "+-------------------------------+---------+-------+-----------+---------+------+\n",
       "+----------+-----+----------+-------+-----+------+\n",
       "| horrible | bad | terrible | awful | wow | hate |\n",
       "+----------+-----+----------+-------+-----+------+\n",
       "|    0     |  0  |    0     |   0   |  0  |  0   |\n",
       "|    0     |  0  |    0     |   0   |  0  |  0   |\n",
       "|    0     |  0  |    0     |   0   |  0  |  0   |\n",
       "|    0     |  0  |    0     |   0   |  0  |  0   |\n",
       "|    0     |  0  |    0     |   0   |  0  |  0   |\n",
       "|    0     |  0  |    0     |   0   |  0  |  0   |\n",
       "|    0     |  0  |    0     |   0   |  0  |  0   |\n",
       "|    0     |  0  |    0     |   0   |  0  |  0   |\n",
       "|    0     |  0  |    0     |   0   |  0  |  0   |\n",
       "|    0     |  0  |    0     |   0   |  0  |  0   |\n",
       "+----------+-----+----------+-------+-----+------+\n",
       "[10 rows x 15 columns]"
      ]
     },
     "execution_count": 9,
     "metadata": {},
     "output_type": "execute_result"
    }
   ],
   "source": [
    "reviews.head()"
   ]
  },
  {
   "cell_type": "code",
   "execution_count": 10,
   "id": "identified-handbook",
   "metadata": {},
   "outputs": [
    {
     "name": "stdout",
     "output_type": "stream",
     "text": [
      "5\n",
      "176\n",
      "6\n",
      "6\n",
      "173\n",
      "4\n",
      "20\n",
      "5\n",
      "1\n",
      "6\n",
      "3\n"
     ]
    }
   ],
   "source": [
    "sums = dict()\n",
    "for word in selected_words:\n",
    "    s = reviews[word].sum()\n",
    "    print(s)\n",
    "    sums[word] = s"
   ]
  },
  {
   "cell_type": "code",
   "execution_count": 11,
   "id": "innocent-pixel",
   "metadata": {},
   "outputs": [
    {
     "data": {
      "text/plain": [
       "{'awesome': 5,\n",
       " 'great': 176,\n",
       " 'fantastic': 6,\n",
       " 'amazing': 6,\n",
       " 'love': 173,\n",
       " 'horrible': 4,\n",
       " 'bad': 20,\n",
       " 'terrible': 5,\n",
       " 'awful': 1,\n",
       " 'wow': 6,\n",
       " 'hate': 3}"
      ]
     },
     "execution_count": 11,
     "metadata": {},
     "output_type": "execute_result"
    }
   ],
   "source": [
    "sums  # great is the most common word"
   ]
  },
  {
   "cell_type": "code",
   "execution_count": 12,
   "id": "smaller-nursery",
   "metadata": {},
   "outputs": [],
   "source": [
    "reviews['word-count'] = reviews['word-count'].apply(filter_words)"
   ]
  },
  {
   "cell_type": "markdown",
   "id": "baking-cancer",
   "metadata": {},
   "source": [
    "## Label our Data\n",
    "Ignore reviews with 3.0 stars.\n",
    "Reviews higher or equal to 4 will be regarded as \"good\",\n",
    "lower than 3 are regarded as \"bad\"."
   ]
  },
  {
   "cell_type": "code",
   "execution_count": 13,
   "id": "developed-perry",
   "metadata": {},
   "outputs": [],
   "source": [
    "reviews = reviews[reviews['rating'] != 3.0]"
   ]
  },
  {
   "cell_type": "code",
   "execution_count": 14,
   "id": "prescribed-darkness",
   "metadata": {},
   "outputs": [],
   "source": [
    "reviews['sentiment'] = reviews['rating'] >= 4.0"
   ]
  },
  {
   "cell_type": "markdown",
   "id": "plain-means",
   "metadata": {},
   "source": [
    "## Build a Sentiment Analysis Model with selected words\n",
    "\n",
    "Now that we have a \"word-count\" column with a dictionary containing the counts of only the selected words, we can create a logistic regression classifier."
   ]
  },
  {
   "cell_type": "code",
   "execution_count": 15,
   "id": "pending-telescope",
   "metadata": {},
   "outputs": [],
   "source": [
    "# Add a sentiment column to label our data?\n",
    "# reviews['sentiment'] = "
   ]
  },
  {
   "cell_type": "code",
   "execution_count": 16,
   "id": "silent-netscape",
   "metadata": {},
   "outputs": [],
   "source": [
    "train_data, test_data = reviews.random_split(0.8, seed=0)"
   ]
  },
  {
   "cell_type": "code",
   "execution_count": 17,
   "id": "broke-accordance",
   "metadata": {},
   "outputs": [
    {
     "name": "stdout",
     "output_type": "stream",
     "text": [
      "PROGRESS: Creating a validation set from 5 percent of training data. This may take a while.\n",
      "          You can set ``validation_set=None`` to disable validation tracking.\n",
      "\n"
     ]
    },
    {
     "data": {
      "text/html": [
       "<pre>Logistic regression:</pre>"
      ],
      "text/plain": [
       "Logistic regression:"
      ]
     },
     "metadata": {},
     "output_type": "display_data"
    },
    {
     "data": {
      "text/html": [
       "<pre>--------------------------------------------------------</pre>"
      ],
      "text/plain": [
       "--------------------------------------------------------"
      ]
     },
     "metadata": {},
     "output_type": "display_data"
    },
    {
     "data": {
      "text/html": [
       "<pre>Number of examples          : 544</pre>"
      ],
      "text/plain": [
       "Number of examples          : 544"
      ]
     },
     "metadata": {},
     "output_type": "display_data"
    },
    {
     "data": {
      "text/html": [
       "<pre>Number of classes           : 2</pre>"
      ],
      "text/plain": [
       "Number of classes           : 2"
      ]
     },
     "metadata": {},
     "output_type": "display_data"
    },
    {
     "data": {
      "text/html": [
       "<pre>Number of feature columns   : 11</pre>"
      ],
      "text/plain": [
       "Number of feature columns   : 11"
      ]
     },
     "metadata": {},
     "output_type": "display_data"
    },
    {
     "data": {
      "text/html": [
       "<pre>Number of unpacked features : 11</pre>"
      ],
      "text/plain": [
       "Number of unpacked features : 11"
      ]
     },
     "metadata": {},
     "output_type": "display_data"
    },
    {
     "data": {
      "text/html": [
       "<pre>Number of coefficients      : 12</pre>"
      ],
      "text/plain": [
       "Number of coefficients      : 12"
      ]
     },
     "metadata": {},
     "output_type": "display_data"
    },
    {
     "data": {
      "text/html": [
       "<pre>Starting Newton Method</pre>"
      ],
      "text/plain": [
       "Starting Newton Method"
      ]
     },
     "metadata": {},
     "output_type": "display_data"
    },
    {
     "data": {
      "text/html": [
       "<pre>--------------------------------------------------------</pre>"
      ],
      "text/plain": [
       "--------------------------------------------------------"
      ]
     },
     "metadata": {},
     "output_type": "display_data"
    },
    {
     "data": {
      "text/html": [
       "<pre>+-----------+----------+--------------+-------------------+---------------------+</pre>"
      ],
      "text/plain": [
       "+-----------+----------+--------------+-------------------+---------------------+"
      ]
     },
     "metadata": {},
     "output_type": "display_data"
    },
    {
     "data": {
      "text/html": [
       "<pre>| Iteration | Passes   | Elapsed Time | Training Accuracy | Validation Accuracy |</pre>"
      ],
      "text/plain": [
       "| Iteration | Passes   | Elapsed Time | Training Accuracy | Validation Accuracy |"
      ]
     },
     "metadata": {},
     "output_type": "display_data"
    },
    {
     "data": {
      "text/html": [
       "<pre>+-----------+----------+--------------+-------------------+---------------------+</pre>"
      ],
      "text/plain": [
       "+-----------+----------+--------------+-------------------+---------------------+"
      ]
     },
     "metadata": {},
     "output_type": "display_data"
    },
    {
     "data": {
      "text/html": [
       "<pre>| 1         | 2        | 1.005889     | 0.884191          | 0.862069            |</pre>"
      ],
      "text/plain": [
       "| 1         | 2        | 1.005889     | 0.884191          | 0.862069            |"
      ]
     },
     "metadata": {},
     "output_type": "display_data"
    },
    {
     "data": {
      "text/html": [
       "<pre>| 2         | 3        | 1.008658     | 0.884191          | 0.862069            |</pre>"
      ],
      "text/plain": [
       "| 2         | 3        | 1.008658     | 0.884191          | 0.862069            |"
      ]
     },
     "metadata": {},
     "output_type": "display_data"
    },
    {
     "data": {
      "text/html": [
       "<pre>| 3         | 4        | 1.010428     | 0.884191          | 0.862069            |</pre>"
      ],
      "text/plain": [
       "| 3         | 4        | 1.010428     | 0.884191          | 0.862069            |"
      ]
     },
     "metadata": {},
     "output_type": "display_data"
    },
    {
     "data": {
      "text/html": [
       "<pre>| 4         | 5        | 1.011711     | 0.884191          | 0.862069            |</pre>"
      ],
      "text/plain": [
       "| 4         | 5        | 1.011711     | 0.884191          | 0.862069            |"
      ]
     },
     "metadata": {},
     "output_type": "display_data"
    },
    {
     "data": {
      "text/html": [
       "<pre>| 5         | 6        | 1.013248     | 0.884191          | 0.862069            |</pre>"
      ],
      "text/plain": [
       "| 5         | 6        | 1.013248     | 0.884191          | 0.862069            |"
      ]
     },
     "metadata": {},
     "output_type": "display_data"
    },
    {
     "data": {
      "text/html": [
       "<pre>| 7         | 8        | 1.016164     | 0.884191          | 0.862069            |</pre>"
      ],
      "text/plain": [
       "| 7         | 8        | 1.016164     | 0.884191          | 0.862069            |"
      ]
     },
     "metadata": {},
     "output_type": "display_data"
    },
    {
     "data": {
      "text/html": [
       "<pre>+-----------+----------+--------------+-------------------+---------------------+</pre>"
      ],
      "text/plain": [
       "+-----------+----------+--------------+-------------------+---------------------+"
      ]
     },
     "metadata": {},
     "output_type": "display_data"
    },
    {
     "data": {
      "text/html": [
       "<pre>SUCCESS: Optimal solution found.</pre>"
      ],
      "text/plain": [
       "SUCCESS: Optimal solution found."
      ]
     },
     "metadata": {},
     "output_type": "display_data"
    },
    {
     "data": {
      "text/html": [
       "<pre></pre>"
      ],
      "text/plain": []
     },
     "metadata": {},
     "output_type": "display_data"
    }
   ],
   "source": [
    "selected_model = tc.logistic_classifier.create(train_data, features=selected_words, target='sentiment')"
   ]
  },
  {
   "cell_type": "code",
   "execution_count": 18,
   "id": "municipal-oxygen",
   "metadata": {},
   "outputs": [
    {
     "name": "stdout",
     "output_type": "stream",
     "text": [
      "+-------------+-------+-------+---------------------+--------------------+\n",
      "|     name    | index | class |        value        |       stderr       |\n",
      "+-------------+-------+-------+---------------------+--------------------+\n",
      "|    awful    |  None |   1   |  -8.719754368905177 | 45.74741483767056  |\n",
      "|   terrible  |  None |   1   |  -2.433720621697301 | 1.3974384540781501 |\n",
      "|   horrible  |  None |   1   | -1.9132652365601521 |  1.35001400879482  |\n",
      "|   amazing   |  None |   1   | -1.3790201386599592 | 1.1996305146350452 |\n",
      "|  fantastic  |  None |   1   | -0.9546350569683221 | 1.142211443810633  |\n",
      "|     wow     |  None |   1   | -0.8686736108945361 | 1.1782295797471187 |\n",
      "|     bad     |  None |   1   | -0.6973262626159622 | 0.5895183342908636 |\n",
      "|     love    |  None |   1   |  0.9565351856930924 | 0.4340345568971649 |\n",
      "|    great    |  None |   1   |  1.022325183314849  | 0.4458031316134507 |\n",
      "| (intercept) |  None |   1   |  1.7719308634312678 | 0.1536106463910901 |\n",
      "|     hate    |  None |   1   |  5.5076894834316965 | 28.853912352452056 |\n",
      "|   awesome   |  None |   1   |  5.673284250538769  |  24.8776967217039  |\n",
      "+-------------+-------+-------+---------------------+--------------------+\n",
      "[12 rows x 5 columns]\n",
      "\n"
     ]
    }
   ],
   "source": [
    "selected_model.coefficients.sort('value').print_rows(num_rows=12) # awesome is highest, awful is lowest"
   ]
  },
  {
   "cell_type": "code",
   "execution_count": 19,
   "id": "bulgarian-multiple",
   "metadata": {},
   "outputs": [
    {
     "data": {
      "text/plain": [
       "{'accuracy': 0.8533333333333334,\n",
       " 'auc': 0.6835937500000001,\n",
       " 'confusion_matrix': Columns:\n",
       " \ttarget_label\tint\n",
       " \tpredicted_label\tint\n",
       " \tcount\tint\n",
       " \n",
       " Rows: 2\n",
       " \n",
       " Data:\n",
       " +--------------+-----------------+-------+\n",
       " | target_label | predicted_label | count |\n",
       " +--------------+-----------------+-------+\n",
       " |      0       |        1        |   22  |\n",
       " |      1       |        1        |  128  |\n",
       " +--------------+-----------------+-------+\n",
       " [2 rows x 3 columns],\n",
       " 'f1_score': 0.9208633093525179,\n",
       " 'log_loss': 0.3849835730345825,\n",
       " 'precision': 0.8533333333333334,\n",
       " 'recall': 1.0,\n",
       " 'roc_curve': Columns:\n",
       " \tthreshold\tfloat\n",
       " \tfpr\tfloat\n",
       " \ttpr\tfloat\n",
       " \tp\tint\n",
       " \tn\tint\n",
       " \n",
       " Rows: 1001\n",
       " \n",
       " Data:\n",
       " +-----------+-----+-----+-----+----+\n",
       " | threshold | fpr | tpr |  p  | n  |\n",
       " +-----------+-----+-----+-----+----+\n",
       " |    0.0    | 1.0 | 1.0 | 128 | 22 |\n",
       " |   0.001   | 1.0 | 1.0 | 128 | 22 |\n",
       " |   0.002   | 1.0 | 1.0 | 128 | 22 |\n",
       " |   0.003   | 1.0 | 1.0 | 128 | 22 |\n",
       " |   0.004   | 1.0 | 1.0 | 128 | 22 |\n",
       " |   0.005   | 1.0 | 1.0 | 128 | 22 |\n",
       " |   0.006   | 1.0 | 1.0 | 128 | 22 |\n",
       " |   0.007   | 1.0 | 1.0 | 128 | 22 |\n",
       " |   0.008   | 1.0 | 1.0 | 128 | 22 |\n",
       " |   0.009   | 1.0 | 1.0 | 128 | 22 |\n",
       " +-----------+-----+-----+-----+----+\n",
       " [1001 rows x 5 columns]\n",
       " Note: Only the head of the SFrame is printed.\n",
       " You can use print_rows(num_rows=m, num_columns=n) to print more rows and columns.}"
      ]
     },
     "execution_count": 19,
     "metadata": {},
     "output_type": "execute_result"
    }
   ],
   "source": [
    "selected_model.evaluate(test_data)"
   ]
  },
  {
   "cell_type": "code",
   "execution_count": 20,
   "id": "detailed-input",
   "metadata": {},
   "outputs": [
    {
     "data": {
      "text/html": [
       "<div style=\"max-height:1000px;max-width:1500px;overflow:auto;\"><table frame=\"box\" rules=\"cols\">\n",
       "    <tr>\n",
       "        <th style=\"padding-left: 1em; padding-right: 1em; text-align: center\">sentiment</th>\n",
       "        <th style=\"padding-left: 1em; padding-right: 1em; text-align: center\">count</th>\n",
       "    </tr>\n",
       "    <tr>\n",
       "        <td style=\"padding-left: 1em; padding-right: 1em; text-align: center; vertical-align: top\">0</td>\n",
       "        <td style=\"padding-left: 1em; padding-right: 1em; text-align: center; vertical-align: top\">93</td>\n",
       "    </tr>\n",
       "    <tr>\n",
       "        <td style=\"padding-left: 1em; padding-right: 1em; text-align: center; vertical-align: top\">1</td>\n",
       "        <td style=\"padding-left: 1em; padding-right: 1em; text-align: center; vertical-align: top\">630</td>\n",
       "    </tr>\n",
       "</table>\n",
       "[2 rows x 2 columns]<br/>\n",
       "</div>"
      ],
      "text/plain": [
       "Columns:\n",
       "\tsentiment\tint\n",
       "\tcount\tint\n",
       "\n",
       "Rows: 2\n",
       "\n",
       "Data:\n",
       "+-----------+-------+\n",
       "| sentiment | count |\n",
       "+-----------+-------+\n",
       "|     0     |   93  |\n",
       "|     1     |  630  |\n",
       "+-----------+-------+\n",
       "[2 rows x 2 columns]"
      ]
     },
     "execution_count": 20,
     "metadata": {},
     "output_type": "execute_result"
    }
   ],
   "source": [
    "reviews.groupby('sentiment', {'count': tc.aggregate.COUNT()})"
   ]
  },
  {
   "cell_type": "code",
   "execution_count": 21,
   "id": "lesser-season",
   "metadata": {},
   "outputs": [],
   "source": [
    "majority_accuracy = 630.0 / reviews.num_rows()"
   ]
  },
  {
   "cell_type": "code",
   "execution_count": 22,
   "id": "numerous-daniel",
   "metadata": {},
   "outputs": [
    {
     "data": {
      "text/plain": [
       "0.8713692946058091"
      ]
     },
     "execution_count": 22,
     "metadata": {},
     "output_type": "execute_result"
    }
   ],
   "source": [
    "majority_accuracy"
   ]
  },
  {
   "cell_type": "markdown",
   "id": "binding-criminal",
   "metadata": {},
   "source": [
    "## Analyze Baby Trend Diaper Champ reviews"
   ]
  },
  {
   "cell_type": "code",
   "execution_count": 23,
   "id": "loved-kansas",
   "metadata": {},
   "outputs": [],
   "source": [
    "reviews2 = tc.SFrame('./amazon_baby.sframe')"
   ]
  },
  {
   "cell_type": "code",
   "execution_count": 24,
   "id": "interior-learning",
   "metadata": {},
   "outputs": [],
   "source": [
    "reviews2 = reviews2[reviews2['name'] == 'Baby Trend Diaper Champ']"
   ]
  },
  {
   "cell_type": "code",
   "execution_count": 25,
   "id": "confidential-address",
   "metadata": {},
   "outputs": [
    {
     "data": {
      "text/plain": [
       "333"
      ]
     },
     "execution_count": 25,
     "metadata": {},
     "output_type": "execute_result"
    }
   ],
   "source": [
    "reviews2.num_rows()"
   ]
  },
  {
   "cell_type": "code",
   "execution_count": 26,
   "id": "dynamic-contractor",
   "metadata": {},
   "outputs": [],
   "source": [
    "reviews2 = reviews2[reviews2['rating'] != 3.0]"
   ]
  },
  {
   "cell_type": "code",
   "execution_count": 27,
   "id": "powerful-saturday",
   "metadata": {},
   "outputs": [],
   "source": [
    "reviews2['sentiment'] = reviews2['rating'] >= 4.0"
   ]
  },
  {
   "cell_type": "code",
   "execution_count": null,
   "id": "adolescent-newsletter",
   "metadata": {},
   "outputs": [],
   "source": []
  }
 ],
 "metadata": {
  "kernelspec": {
   "display_name": "Python 3",
   "language": "python",
   "name": "python3"
  },
  "language_info": {
   "codemirror_mode": {
    "name": "ipython",
    "version": 3
   },
   "file_extension": ".py",
   "mimetype": "text/x-python",
   "name": "python",
   "nbconvert_exporter": "python",
   "pygments_lexer": "ipython3",
   "version": "3.8.5"
  }
 },
 "nbformat": 4,
 "nbformat_minor": 5
}

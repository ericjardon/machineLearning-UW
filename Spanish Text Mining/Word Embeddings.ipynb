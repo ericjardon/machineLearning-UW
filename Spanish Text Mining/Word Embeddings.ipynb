{
 "cells": [
  {
   "cell_type": "markdown",
   "id": "dda55d78",
   "metadata": {},
   "source": [
    "# Word Embeddings para clasificación binaria"
   ]
  },
  {
   "cell_type": "code",
   "execution_count": 1,
   "id": "08a7d76b",
   "metadata": {},
   "outputs": [
    {
     "name": "stderr",
     "output_type": "stream",
     "text": [
      "2021-11-10 17:37:31.335133: W tensorflow/stream_executor/platform/default/dso_loader.cc:64] Could not load dynamic library 'libcudart.so.11.0'; dlerror: libcudart.so.11.0: cannot open shared object file: No such file or directory\n",
      "2021-11-10 17:37:31.335221: I tensorflow/stream_executor/cuda/cudart_stub.cc:29] Ignore above cudart dlerror if you do not have a GPU set up on your machine.\n"
     ]
    }
   ],
   "source": [
    "import spacy\n",
    "import sklearn\n",
    "import pandas as pd\n",
    "import numpy as np\n",
    "import string"
   ]
  },
  {
   "cell_type": "markdown",
   "id": "19c3dc43",
   "metadata": {},
   "source": [
    "Descargamos el modelo pre-entrenado de Spacy para español, `es_core_news_lg`.\n",
    "Este modelo contiene embeddings tanto para palabras como para lexemas en español, a través de la clase Vocab.\n",
    "Siguiendo el ejemplo en inglés, usamos los vectores de los lexemas.\n",
    "No obstante, los tokens devueltos por el objeto `nlp` tienen una propiedad `vector`.\n"
   ]
  },
  {
   "cell_type": "code",
   "execution_count": 7,
   "id": "71ec3c90",
   "metadata": {},
   "outputs": [],
   "source": [
    "nlp = spacy.load('es_core_news_lg')"
   ]
  },
  {
   "cell_type": "code",
   "execution_count": 15,
   "id": "783bb033",
   "metadata": {},
   "outputs": [],
   "source": [
    "def clean_text(text):\n",
    "    '''Removing punctuation, lowercasing and removing extra whitespace'''\n",
    "    text = text.lower()\n",
    "    text = text.translate(str.maketrans('', '', string.punctuation+'¿¡'))\n",
    "    text = text.replace('\\n', ' ')\n",
    "    text = ' '.join(text.split())\n",
    "    return text"
   ]
  },
  {
   "cell_type": "code",
   "execution_count": 12,
   "id": "e7be2bd6",
   "metadata": {},
   "outputs": [
    {
     "data": {
      "text/plain": [
       "'qué onda cómo has estado'"
      ]
     },
     "execution_count": 12,
     "metadata": {},
     "output_type": "execute_result"
    }
   ],
   "source": [
    "clean_string(\"Qué onda?? ¿Cómo has estado?\")"
   ]
  },
  {
   "cell_type": "code",
   "execution_count": 55,
   "id": "de93704d",
   "metadata": {},
   "outputs": [],
   "source": [
    "def embed(tokens, nlp):\n",
    "    \"\"\"\n",
    "    Returns the centroid of embeddings of the given tokens\n",
    "    Out-of-vocabulary and stopwords are ignored\n",
    "    If no tokens are valid, zero vector is returned\n",
    "    \"\"\"\n",
    "    lexemes = (nlp.vocab[token] for token in tokens)\n",
    "    \n",
    "    vectors = np.asarray([\n",
    "        lexeme.vector\n",
    "        for lexeme in lexemes\n",
    "        if lexeme.has_vector\n",
    "        and not lexeme.is_stop\n",
    "        and len(lexeme.text) > 1\n",
    "    ])\n",
    "\n",
    "    if len(vectors) > 0:\n",
    "        centroid = vectors.mean(axis=0)\n",
    "    else:\n",
    "        width = nlp.meta['vectors']['width']  # fastText Wikipedia Spanish\n",
    "        centroid = np.zeros(width)\n",
    "\n",
    "    return centroid"
   ]
  },
  {
   "cell_type": "code",
   "execution_count": 84,
   "id": "ad9f4547",
   "metadata": {},
   "outputs": [],
   "source": [
    "def embedText(text, nlp):\n",
    "    tokens = nlp(text)\n",
    "    vectors = np.asarray([\n",
    "        tok.vector\n",
    "        for tok in tokens\n",
    "        if tok.has_vector\n",
    "        and not tok.is_stop\n",
    "        and len(tok.text) > 1\n",
    "    ])\n",
    "    if len(vectors) > 0:\n",
    "        centroid = vectors.mean(axis=0)\n",
    "    else:\n",
    "        width = nlp.meta['vectors']['width']  # fastText Wikipedia Spanish\n",
    "        centroid = np.zeros(width)\n",
    "\n",
    "    return centroid"
   ]
  },
  {
   "cell_type": "code",
   "execution_count": 85,
   "id": "d9d0c508",
   "metadata": {},
   "outputs": [],
   "source": [
    "example0 = \"Jamás había estado tan enojado por haberme olvidado del cumpleaños de mi novia.\"\n",
    "example1 = \"Los perros son criaturas hermosas, yo pienso que hacen una muy buena compañía.\"\n",
    "example2 = \"No todos los bares de café son buenos. La semana pasada fui a Quentin y estuvo terrible!\""
   ]
  },
  {
   "cell_type": "code",
   "execution_count": 89,
   "id": "c8dd3da1",
   "metadata": {},
   "outputs": [
    {
     "data": {
      "text/plain": [
       "array([ 0.8814755 ,  0.26515839, -1.1960168 ,  0.81276554,  0.14816168,\n",
       "       -0.620755  , -2.1197166 ,  1.2053455 , -0.3045357 ,  1.0702027 ,\n",
       "       -0.29849663,  0.27251   ,  0.75110286, -0.97496504, -1.0333383 ,\n",
       "       -0.09135284,  0.39116168,  0.26902798, -0.90455   , -1.4397825 ,\n",
       "       -0.32542336, -0.2597683 , -0.26377735, -0.09344831,  0.14625494,\n",
       "       -0.4337617 , -1.2746733 , -0.56135005, -0.2610416 ,  0.8261278 ,\n",
       "       -0.964745  ,  0.15281157,  0.81725836, -1.2116791 , -1.429565  ,\n",
       "       -0.33164504, -1.2847348 ,  0.83878833,  1.0524    , -0.34363332,\n",
       "       -0.3970833 ,  1.4156533 ,  1.237555  , -0.21057999,  0.614205  ,\n",
       "       -0.61506987, -0.27823162, -1.1454316 , -1.0071689 ,  0.06216697,\n",
       "        0.43626752, -0.01546101, -0.8033333 , -0.24647065,  0.42837167,\n",
       "       -0.25064597,  0.3403615 ,  0.4721782 , -0.09022667,  2.09517   ,\n",
       "        0.38766   ,  0.8042307 , -0.77815   ,  1.2508299 ,  0.28359166,\n",
       "       -0.20560698, -1.8716683 , -0.14955033,  0.0772867 ,  1.0709456 ,\n",
       "        0.09399834, -1.0572066 , -1.1069784 ,  0.7289117 , -0.3874967 ,\n",
       "        0.23029666, -0.24607141,  0.12506834,  0.13324863, -0.72323173,\n",
       "       -0.67642164, -0.95291835,  0.49119166, -1.1701384 , -1.3974167 ,\n",
       "        0.16010965,  0.27337614,  0.8188179 , -0.99120665,  0.3255725 ,\n",
       "       -0.6913783 ,  0.46483836,  0.6495683 , -1.0905815 , -1.6167917 ,\n",
       "        0.23468502, -0.28817832, -0.08194865,  0.9614933 ,  0.204655  ,\n",
       "       -0.7423379 ,  1.0597    , -0.5091567 ,  0.5356965 , -0.43858114,\n",
       "        0.3766017 , -0.84047705,  0.33325335,  0.70421666,  0.4033133 ,\n",
       "       -0.07128168, -0.6190017 ,  0.2759817 , -1.235605  , -0.8690384 ,\n",
       "        0.06610651,  0.3122    ,  0.46705934, -0.51674837,  0.30697963,\n",
       "       -0.47360837,  0.27149016,  0.34900665, -0.20703001, -0.11310168,\n",
       "        0.447526  , -1.0204822 , -0.04596002,  0.9408467 , -0.54120165,\n",
       "        0.9403267 ,  1.9444517 ,  0.26017335,  1.216115  , -0.7126434 ,\n",
       "        0.47969   , -0.19139004,  0.40696   , -0.044205  ,  0.5414866 ,\n",
       "        0.1758613 , -1.5093616 , -0.11403168,  0.38696337,  1.1769717 ,\n",
       "       -0.8921066 , -1.6666332 ,  0.30898023,  0.6994684 ,  0.7201717 ,\n",
       "       -0.63530666,  0.43300307,  0.42968667, -0.40523168, -0.76175   ,\n",
       "       -0.89321834, -0.89087105,  0.03581997, -0.40308   , -0.8169965 ,\n",
       "       -0.03416834,  1.3919201 ,  0.02011248,  1.3036784 ,  0.60313165,\n",
       "       -0.07792168, -0.756805  , -0.90659004,  0.3464738 , -1.1269766 ,\n",
       "       -0.7581873 ,  0.8692849 , -1.3091866 , -0.32810184,  0.06521996,\n",
       "        0.09865668,  0.8889613 ,  0.8950917 ,  0.3961917 ,  1.1339883 ,\n",
       "        0.23698   ,  2.31865   , -1.188715  , -0.46022984, -0.34571838,\n",
       "        0.38437018, -1.62243   , -0.28357533, -0.46161   , -0.95785326,\n",
       "        0.98777837, -0.305683  , -0.90626   , -0.6192666 , -0.03929667,\n",
       "       -0.04085017, -1.0211049 ,  1.1825783 ,  0.322565  , -0.13177003,\n",
       "       -0.6277519 , -0.41373053, -0.2337505 ,  1.7222853 ,  1.5043501 ,\n",
       "        0.15802781, -0.41084334, -1.1914867 ,  0.6007854 ,  0.7059633 ,\n",
       "        0.322035  ,  0.03056502,  1.1073533 , -0.67667   , -0.20732616,\n",
       "        0.70741504,  0.252935  ,  0.8871135 ,  0.00947966, -0.23581833,\n",
       "        0.32084167, -1.1198933 ,  0.11046032,  0.23491167, -0.67104745,\n",
       "        0.5197833 ,  0.12912166, -0.77501184, -1.1229967 ,  1.0012125 ,\n",
       "       -0.38258836, -1.45301   , -0.37658668,  1.6137918 ,  0.58385336,\n",
       "        0.6213783 , -1.3878716 ,  0.570945  , -1.2722534 ,  0.01035333,\n",
       "        0.05272317,  0.13536048, -1.0470682 ,  0.24081331,  0.4346095 ,\n",
       "       -0.35898748,  1.198665  ,  0.39790663,  0.74450165, -0.17716001,\n",
       "       -0.7103999 ,  0.1415663 , -1.146535  , -1.7211283 ,  0.042765  ,\n",
       "       -0.53917664, -0.82088995,  1.2123317 , -1.9787167 ,  0.256605  ,\n",
       "       -0.243975  , -0.02941249,  0.71947   , -0.95940834,  0.26733717,\n",
       "        0.8807784 ,  0.10951667, -0.6097266 ,  0.05609329, -0.20521669,\n",
       "        0.6323252 ,  0.43021035, -0.06993166,  1.2756433 , -1.84379   ,\n",
       "        1.0686017 ,  1.0923517 ,  0.6669216 , -0.6239507 , -0.8785884 ,\n",
       "        1.1146617 , -1.3011283 , -0.7128666 , -0.23993166,  0.6577696 ,\n",
       "       -1.5810174 , -0.45650497,  0.07948336, -1.0518832 , -0.49739334,\n",
       "        0.9215367 ,  1.1125834 ,  0.29784998, -1.7270374 ,  0.84196806,\n",
       "       -0.41810498, -0.718832  , -0.67814493, -0.66355085, -1.1191124 ],\n",
       "      dtype=float32)"
      ]
     },
     "execution_count": 89,
     "metadata": {},
     "output_type": "execute_result"
    }
   ],
   "source": [
    "embedText(example0, nlp)"
   ]
  },
  {
   "cell_type": "code",
   "execution_count": 58,
   "id": "2a1d7258",
   "metadata": {},
   "outputs": [
    {
     "data": {
      "text/plain": [
       "['jamás',\n",
       " 'había',\n",
       " 'estado',\n",
       " 'tan',\n",
       " 'enojado',\n",
       " 'por',\n",
       " 'haberme',\n",
       " 'olvidado',\n",
       " 'del',\n",
       " 'cumpleaños',\n",
       " 'de',\n",
       " 'mi',\n",
       " 'novia']"
      ]
     },
     "execution_count": 58,
     "metadata": {},
     "output_type": "execute_result"
    }
   ],
   "source": [
    "tokens0"
   ]
  },
  {
   "cell_type": "markdown",
   "id": "48e0d65d",
   "metadata": {},
   "source": [
    "# Clasificación no supervisada con spaCy"
   ]
  },
  {
   "cell_type": "code",
   "execution_count": 60,
   "id": "5cababba",
   "metadata": {},
   "outputs": [],
   "source": [
    "def get_label_embeddings(label_names, nlp):\n",
    "    '''\n",
    "    Dada una lista de nombres de clase, regresa los embeddings \n",
    "    correspondientes a cada una.\n",
    "    El nombre de la clase puede tener varias palabras.\n",
    "    '''\n",
    "    \n",
    "    label_embeddings = np.asarray([\n",
    "        embed(name.split(), nlp)\n",
    "        for name in label_names\n",
    "    ])\n",
    "    \n",
    "    return label_embeddings"
   ]
  },
  {
   "cell_type": "code",
   "execution_count": 91,
   "id": "8c95333f",
   "metadata": {},
   "outputs": [],
   "source": [
    "label_names = [\"excelente\", \"decepcionante\"]\n",
    "label_embeddings = get_label_embeddings(label_names, nlp)"
   ]
  },
  {
   "cell_type": "code",
   "execution_count": 108,
   "id": "ea92916d",
   "metadata": {},
   "outputs": [
    {
     "data": {
      "text/plain": [
       "NearestNeighbors(n_neighbors=2)"
      ]
     },
     "execution_count": 108,
     "metadata": {},
     "output_type": "execute_result"
    }
   ],
   "source": [
    "from sklearn.neighbors import NearestNeighbors\n",
    "\n",
    "nb = NearestNeighbors(n_neighbors=2)\n",
    "nb.fit(label_embeddings)  # label centroids are training data for clusters"
   ]
  },
  {
   "cell_type": "code",
   "execution_count": 109,
   "id": "de72e75e",
   "metadata": {},
   "outputs": [
    {
     "data": {
      "text/plain": [
       "'decepcionante'"
      ]
     },
     "execution_count": 109,
     "metadata": {},
     "output_type": "execute_result"
    }
   ],
   "source": [
    "# \"Jamás había estado tan enojado por haberme olvidado del cumpleaños de mi novia\"\n",
    "closest_label = nb.kneighbors([centroid0], return_distance=False)[0, 0]\n",
    "label_names[closest_label]"
   ]
  },
  {
   "cell_type": "code",
   "execution_count": null,
   "id": "31d90e98",
   "metadata": {},
   "outputs": [],
   "source": []
  }
 ],
 "metadata": {
  "kernelspec": {
   "display_name": "Python 3 (ipykernel)",
   "language": "python",
   "name": "python3"
  },
  "language_info": {
   "codemirror_mode": {
    "name": "ipython",
    "version": 3
   },
   "file_extension": ".py",
   "mimetype": "text/x-python",
   "name": "python",
   "nbconvert_exporter": "python",
   "pygments_lexer": "ipython3",
   "version": "3.8.10"
  }
 },
 "nbformat": 4,
 "nbformat_minor": 5
}

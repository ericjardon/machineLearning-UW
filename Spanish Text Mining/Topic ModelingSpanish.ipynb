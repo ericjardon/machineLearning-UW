{
 "cells": [
  {
   "cell_type": "markdown",
   "id": "94fc8484",
   "metadata": {},
   "source": [
    "# Modelado de Tópicos en las reseñas de Amazon\n",
    "\n",
    "Support material:\n",
    "[Basic tasks with spacy](https://necronet.github.io/Spacy-getting-started-in-spanish/)\n",
    "\n",
    "A more advanced article: [Topic Modeling on Spanish Texts](https://medium.com/@armandj.olivares/topic-modeling-on-spanish-text-f7a5e998fb90) "
   ]
  },
  {
   "cell_type": "code",
   "execution_count": 38,
   "id": "6115478b",
   "metadata": {},
   "outputs": [],
   "source": [
    "import pandas as pd\n",
    "import numpy as np\n",
    "import gensim\n",
    "import re\n",
    "from gensim.corpora import Dictionary\n",
    "import nltk\n",
    "import spacy"
   ]
  },
  {
   "cell_type": "code",
   "execution_count": 39,
   "id": "994d9dc5",
   "metadata": {},
   "outputs": [],
   "source": [
    "train_data = pd.read_json('../data/dataset_es_train.json', lines=True)\n",
    "test_data = pd.read_json('../data/dataset_es_test.json', lines=True)"
   ]
  },
  {
   "cell_type": "code",
   "execution_count": 40,
   "id": "066785c2",
   "metadata": {},
   "outputs": [],
   "source": [
    "all_data = pd.concat([train_data, test_data])"
   ]
  },
  {
   "cell_type": "code",
   "execution_count": 23,
   "id": "1ac5a8a6",
   "metadata": {},
   "outputs": [
    {
     "data": {
      "text/html": [
       "<div>\n",
       "<style scoped>\n",
       "    .dataframe tbody tr th:only-of-type {\n",
       "        vertical-align: middle;\n",
       "    }\n",
       "\n",
       "    .dataframe tbody tr th {\n",
       "        vertical-align: top;\n",
       "    }\n",
       "\n",
       "    .dataframe thead th {\n",
       "        text-align: right;\n",
       "    }\n",
       "</style>\n",
       "<table border=\"1\" class=\"dataframe\">\n",
       "  <thead>\n",
       "    <tr style=\"text-align: right;\">\n",
       "      <th></th>\n",
       "      <th>review_id</th>\n",
       "      <th>product_id</th>\n",
       "      <th>reviewer_id</th>\n",
       "      <th>stars</th>\n",
       "      <th>review_body</th>\n",
       "      <th>review_title</th>\n",
       "      <th>language</th>\n",
       "      <th>product_category</th>\n",
       "    </tr>\n",
       "  </thead>\n",
       "  <tbody>\n",
       "    <tr>\n",
       "      <th>0</th>\n",
       "      <td>es_0491108</td>\n",
       "      <td>product_es_0296024</td>\n",
       "      <td>reviewer_es_0999081</td>\n",
       "      <td>1</td>\n",
       "      <td>Nada bueno se me fue ka pantalla en menos de 8...</td>\n",
       "      <td>television Nevir</td>\n",
       "      <td>es</td>\n",
       "      <td>electronics</td>\n",
       "    </tr>\n",
       "    <tr>\n",
       "      <th>1</th>\n",
       "      <td>es_0869872</td>\n",
       "      <td>product_es_0922286</td>\n",
       "      <td>reviewer_es_0216771</td>\n",
       "      <td>1</td>\n",
       "      <td>Horrible, nos tuvimos que comprar otro porque ...</td>\n",
       "      <td>Dinero tirado a la basura con esta compra</td>\n",
       "      <td>es</td>\n",
       "      <td>electronics</td>\n",
       "    </tr>\n",
       "    <tr>\n",
       "      <th>2</th>\n",
       "      <td>es_0811721</td>\n",
       "      <td>product_es_0474543</td>\n",
       "      <td>reviewer_es_0929213</td>\n",
       "      <td>1</td>\n",
       "      <td>Te obligan a comprar dos unidades y te llega s...</td>\n",
       "      <td>solo llega una unidad cuando te obligan a comp...</td>\n",
       "      <td>es</td>\n",
       "      <td>drugstore</td>\n",
       "    </tr>\n",
       "    <tr>\n",
       "      <th>3</th>\n",
       "      <td>es_0359921</td>\n",
       "      <td>product_es_0656090</td>\n",
       "      <td>reviewer_es_0224702</td>\n",
       "      <td>1</td>\n",
       "      <td>No entro en descalificar al vendedor, solo pue...</td>\n",
       "      <td>PRODUCTO NO RECIBIDO.</td>\n",
       "      <td>es</td>\n",
       "      <td>wireless</td>\n",
       "    </tr>\n",
       "    <tr>\n",
       "      <th>4</th>\n",
       "      <td>es_0068940</td>\n",
       "      <td>product_es_0662544</td>\n",
       "      <td>reviewer_es_0224827</td>\n",
       "      <td>1</td>\n",
       "      <td>Llega tarde y co la talla equivocada</td>\n",
       "      <td>Devuelto</td>\n",
       "      <td>es</td>\n",
       "      <td>shoes</td>\n",
       "    </tr>\n",
       "    <tr>\n",
       "      <th>5</th>\n",
       "      <td>es_0779978</td>\n",
       "      <td>product_es_0103315</td>\n",
       "      <td>reviewer_es_0304973</td>\n",
       "      <td>1</td>\n",
       "      <td>Jamás me llegó y el vendedor nunca contacto co...</td>\n",
       "      <td>Jamás me llegó</td>\n",
       "      <td>es</td>\n",
       "      <td>home</td>\n",
       "    </tr>\n",
       "    <tr>\n",
       "      <th>6</th>\n",
       "      <td>es_0591840</td>\n",
       "      <td>product_es_0880915</td>\n",
       "      <td>reviewer_es_0642702</td>\n",
       "      <td>1</td>\n",
       "      <td>El paraguas es de muy mala calidad,da la sensa...</td>\n",
       "      <td>Horroroso!!!</td>\n",
       "      <td>es</td>\n",
       "      <td>luggage</td>\n",
       "    </tr>\n",
       "    <tr>\n",
       "      <th>7</th>\n",
       "      <td>es_0173297</td>\n",
       "      <td>product_es_0814677</td>\n",
       "      <td>reviewer_es_0895784</td>\n",
       "      <td>1</td>\n",
       "      <td>Tuve que devolverla porque al ser triangular n...</td>\n",
       "      <td>Poco funcional</td>\n",
       "      <td>es</td>\n",
       "      <td>office_product</td>\n",
       "    </tr>\n",
       "    <tr>\n",
       "      <th>8</th>\n",
       "      <td>es_0101300</td>\n",
       "      <td>product_es_0654228</td>\n",
       "      <td>reviewer_es_0789283</td>\n",
       "      <td>1</td>\n",
       "      <td>Estoy esperando despues de protestar varias ve...</td>\n",
       "      <td>No me llego</td>\n",
       "      <td>es</td>\n",
       "      <td>electronics</td>\n",
       "    </tr>\n",
       "    <tr>\n",
       "      <th>9</th>\n",
       "      <td>es_0487007</td>\n",
       "      <td>product_es_0877793</td>\n",
       "      <td>reviewer_es_0986278</td>\n",
       "      <td>1</td>\n",
       "      <td>Defectuoso. En apariencia muy bien producto, p...</td>\n",
       "      <td>Mala calidad, defectuoso</td>\n",
       "      <td>es</td>\n",
       "      <td>kitchen</td>\n",
       "    </tr>\n",
       "  </tbody>\n",
       "</table>\n",
       "</div>"
      ],
      "text/plain": [
       "    review_id          product_id          reviewer_id  stars  \\\n",
       "0  es_0491108  product_es_0296024  reviewer_es_0999081      1   \n",
       "1  es_0869872  product_es_0922286  reviewer_es_0216771      1   \n",
       "2  es_0811721  product_es_0474543  reviewer_es_0929213      1   \n",
       "3  es_0359921  product_es_0656090  reviewer_es_0224702      1   \n",
       "4  es_0068940  product_es_0662544  reviewer_es_0224827      1   \n",
       "5  es_0779978  product_es_0103315  reviewer_es_0304973      1   \n",
       "6  es_0591840  product_es_0880915  reviewer_es_0642702      1   \n",
       "7  es_0173297  product_es_0814677  reviewer_es_0895784      1   \n",
       "8  es_0101300  product_es_0654228  reviewer_es_0789283      1   \n",
       "9  es_0487007  product_es_0877793  reviewer_es_0986278      1   \n",
       "\n",
       "                                         review_body  \\\n",
       "0  Nada bueno se me fue ka pantalla en menos de 8...   \n",
       "1  Horrible, nos tuvimos que comprar otro porque ...   \n",
       "2  Te obligan a comprar dos unidades y te llega s...   \n",
       "3  No entro en descalificar al vendedor, solo pue...   \n",
       "4               Llega tarde y co la talla equivocada   \n",
       "5  Jamás me llegó y el vendedor nunca contacto co...   \n",
       "6  El paraguas es de muy mala calidad,da la sensa...   \n",
       "7  Tuve que devolverla porque al ser triangular n...   \n",
       "8  Estoy esperando despues de protestar varias ve...   \n",
       "9  Defectuoso. En apariencia muy bien producto, p...   \n",
       "\n",
       "                                        review_title language product_category  \n",
       "0                                   television Nevir       es      electronics  \n",
       "1          Dinero tirado a la basura con esta compra       es      electronics  \n",
       "2  solo llega una unidad cuando te obligan a comp...       es        drugstore  \n",
       "3                              PRODUCTO NO RECIBIDO.       es         wireless  \n",
       "4                                           Devuelto       es            shoes  \n",
       "5                                     Jamás me llegó       es             home  \n",
       "6                                       Horroroso!!!       es          luggage  \n",
       "7                                     Poco funcional       es   office_product  \n",
       "8                                        No me llego       es      electronics  \n",
       "9                           Mala calidad, defectuoso       es          kitchen  "
      ]
     },
     "execution_count": 23,
     "metadata": {},
     "output_type": "execute_result"
    }
   ],
   "source": [
    "all_data.sample(10)"
   ]
  },
  {
   "cell_type": "code",
   "execution_count": 44,
   "id": "00775558",
   "metadata": {},
   "outputs": [],
   "source": [
    "all_data[\"review\"] = all_data[\"review_title\"] + all_data[\"review_body\"]"
   ]
  },
  {
   "cell_type": "markdown",
   "id": "976d9270",
   "metadata": {},
   "source": [
    "### Cleaning the raw text and obtaining a corpus\n",
    "For Topic Clustering we must do some preprocessing to the text before we can feed it to an LDA model.\n",
    "A common approach is to use only the nouns, dismissing the verbs, adjectives and adverbs.\n",
    "Sometimes bigrams are used (e.g. 'No aprendemos', 'en línea', 'bien planeado'), but since we are only using nouns we might want to explore keywords first.\n",
    "\n",
    "1. Lemmatize the words\n",
    "2. Use bigrams **\n",
    "3. Using POS tagging to subselect only nouns\n",
    "4. Clean the remaining text from punctuation, etc."
   ]
  },
  {
   "cell_type": "code",
   "execution_count": 45,
   "id": "6c0ceeb8",
   "metadata": {},
   "outputs": [],
   "source": [
    "# remove stopwords from every review\n",
    "stopwords = set(nltk.corpus.stopwords.words(\"spanish\"))"
   ]
  },
  {
   "cell_type": "code",
   "execution_count": 46,
   "id": "2f7a4f94",
   "metadata": {},
   "outputs": [],
   "source": [
    "# For tokenization, tagging, lemmatization, stemming and NER\n",
    "nlp = spacy.load(\"es_core_news_md\")"
   ]
  },
  {
   "cell_type": "code",
   "execution_count": 47,
   "id": "db012e45",
   "metadata": {},
   "outputs": [],
   "source": [
    "def normalize_tokenize_lemmatize(text):\n",
    "    doc = nlp(text)\n",
    "    VALID_POS = {'PROPN', 'NOUN'}\n",
    "    # Avoid empty word in beggining with doc[1:]\n",
    "    return [word.lemma_ for word in doc if word.lemma_ not in stopwords \n",
    "                                            and word.pos_ in VALID_POS]"
   ]
  },
  {
   "cell_type": "code",
   "execution_count": 48,
   "id": "055bdd68",
   "metadata": {},
   "outputs": [],
   "source": [
    "# Takes a few minutes\n",
    "all_data['text'] = all_data['review'].apply(normalize_tokenize_lemmatize)"
   ]
  },
  {
   "cell_type": "code",
   "execution_count": 49,
   "id": "d46cac9a",
   "metadata": {},
   "outputs": [
    {
     "data": {
      "text/plain": [
       "0       [television, NevirNada, bueno, ka, pantalla, m...\n",
       "1       [Dinero, basura, comprahorrible, inglés, infor...\n",
       "2                  [unidad, doste, unidad, forma, estafa]\n",
       "3       [PRODUCTO, vendedor, mes, espera, producto, Am...\n",
       "4                              [DevueltoLlega, co, talla]\n",
       "                              ...                        \n",
       "4995    [función, sobra, color, envío, plazo, incidencia]\n",
       "4996                    [vendedor, material, descripción]\n",
       "4997                         [medalla, bonito, grabadose]\n",
       "4998              [bici, xiaomi, modelo, timbre, manilla]\n",
       "4999    [auricular, cable, verdadPues, tipo, casco, in...\n",
       "Name: text, Length: 205000, dtype: object"
      ]
     },
     "execution_count": 49,
     "metadata": {},
     "output_type": "execute_result"
    }
   ],
   "source": [
    "all_data['text']"
   ]
  },
  {
   "cell_type": "markdown",
   "id": "161c1b8c",
   "metadata": {},
   "source": [
    "#### Transform the text into a bag of words corpus for the model"
   ]
  },
  {
   "cell_type": "code",
   "execution_count": 50,
   "id": "a64ceb73",
   "metadata": {},
   "outputs": [],
   "source": [
    "dictionary = Dictionary(all_data['text'].to_list())"
   ]
  },
  {
   "cell_type": "code",
   "execution_count": 51,
   "id": "917697dc",
   "metadata": {},
   "outputs": [],
   "source": [
    "# Assign ids to every word without gaps\n",
    "dictionary.compactify()\n",
    "\n",
    "# Filter out words that appear in less than 2 documents, thos appearing in more than 97% of corpus, and keep all other words\n",
    "dictionary.filter_extremes(no_below=2, no_above=0.97, keep_n=None)\n",
    "\n",
    "# Reassign ids to every word without gaps after filtering\n",
    "dictionary.compactify()   "
   ]
  },
  {
   "cell_type": "code",
   "execution_count": 52,
   "id": "1a29890e",
   "metadata": {},
   "outputs": [],
   "source": [
    "corpus = [dictionary.doc2bow(text) for text in all_data['text']]"
   ]
  },
  {
   "cell_type": "markdown",
   "id": "557d727b",
   "metadata": {},
   "source": [
    "### Feeding the corpus to the LDA Model"
   ]
  },
  {
   "cell_type": "markdown",
   "id": "314db118",
   "metadata": {},
   "source": [
    "\n",
    "- We try a number of topics from 1 to 20 and looks for the best coherence measurement"
   ]
  },
  {
   "cell_type": "code",
   "execution_count": 53,
   "id": "f6d961fd",
   "metadata": {},
   "outputs": [],
   "source": [
    "texts = all_data['text'].to_list()"
   ]
  },
  {
   "cell_type": "code",
   "execution_count": 54,
   "id": "58c08c36",
   "metadata": {},
   "outputs": [],
   "source": [
    "# Find the optimal number of topics based on coherence\n",
    "from gensim.models import LdaModel\n",
    "from gensim.models import CoherenceModel\n",
    "\n",
    "MAX_TOPICS = 20\n",
    "coherence_vals = []\n",
    "lm_list = []\n",
    "\n",
    "for n_topics in range(1, MAX_TOPICS+1):\n",
    "    lm = LdaModel(corpus=corpus, num_topics = n_topics, id2word=dictionary)\n",
    "\n",
    "    lm_list.append(lm)\n",
    "    \n",
    "    cm = CoherenceModel(model=lm, texts=texts, dictionary=dictionary, coherence='c_v')\n",
    "    coherence_vals.append(cm.get_coherence())"
   ]
  },
  {
   "cell_type": "code",
   "execution_count": 56,
   "id": "0875395b",
   "metadata": {},
   "outputs": [
    {
     "data": {
      "image/png": "[encoded data removed]",
      "text/plain": [
       "<Figure size 432x288 with 1 Axes>"
      ]
     },
     "metadata": {
      "needs_background": "light"
     },
     "output_type": "display_data"
    }
   ],
   "source": [
    "import matplotlib.pyplot as plt\n",
    "\n",
    "plt.plot(range(1, MAX_TOPICS+1), coherence_vals)\n",
    "plt.title('Performance by number of topics')\n",
    "plt.xlabel('Number of topics')\n",
    "plt.ylabel('Coherence values')\n",
    "plt.show()"
   ]
  },
  {
   "cell_type": "markdown",
   "id": "8b122eed",
   "metadata": {},
   "source": [
    "From the results we can see that **6** topics is probably the best model (coherence value `0.35522555294632824`)"
   ]
  },
  {
   "cell_type": "code",
   "execution_count": 57,
   "id": "94723560",
   "metadata": {},
   "outputs": [
    {
     "data": {
      "text/plain": [
       "[(0,\n",
       "  '0.031*\"relación\" + 0.026*\"luz\" + 0.025*\"año\" + 0.020*\"libro\" + 0.018*\"batería\" + 0.018*\"cable\" + 0.016*\"sonido\" + 0.015*\"hora\" + 0.013*\"uso\" + 0.011*\"carga\"'),\n",
       " (1,\n",
       "  '0.147*\"producto\" + 0.026*\"vendedor\" + 0.024*\"descripción\" + 0.024*\"problema\" + 0.020*\"expectativa\" + 0.015*\"tiempo\" + 0.014*\"Perfecto\" + 0.014*\"servicio\" + 0.012*\"dinero\" + 0.011*\"sabor\"'),\n",
       " (2,\n",
       "  '0.050*\"casa\" + 0.023*\"paquete\" + 0.023*\"trabajo\" + 0.017*\"mochila\" + 0.016*\"gusto\" + 0.014*\"día\" + 0.014*\"rapidez\" + 0.014*\"ordenador\" + 0.013*\"tarjeta\" + 0.012*\"envio\"'),\n",
       " (3,\n",
       "  '0.046*\"regalo\" + 0.040*\"día\" + 0.034*\"compra\" + 0.026*\"entrega\" + 0.025*\"momento\" + 0.023*\"hija\" + 0.021*\"hijo\" + 0.018*\"fecha\" + 0.015*\"gracia\" + 0.015*\"gracias\"'),\n",
       " (4,\n",
       "  '0.049*\"funda\" + 0.044*\"pantalla\" + 0.041*\"móvil\" + 0.023*\"teléfono\" + 0.020*\"protector\" + 0.020*\"cristal\" + 0.020*\"medida\" + 0.019*\"perfección\" + 0.016*\"parte\" + 0.015*\"tacto\"'),\n",
       " (5,\n",
       "  '0.039*\"foto\" + 0.035*\"tal\" + 0.029*\"caja\" + 0.018*\"función\" + 0.018*\"niño\" + 0.018*\"plástico\" + 0.017*\"q\" + 0.015*\"bolsa\" + 0.012*\"verdad\" + 0.012*\"condición\"'),\n",
       " (6,\n",
       "  '0.081*\"tamaño\" + 0.044*\"envío\" + 0.033*\"producto\" + 0.028*\"tiempo\" + 0.019*\"capacidad\" + 0.016*\"precio\" + 0.016*\"detalle\" + 0.014*\"peso\" + 0.014*\"falta\" + 0.013*\"tienda\"'),\n",
       " (7,\n",
       "  '0.183*\"calidad\" + 0.120*\"precio\" + 0.037*\"color\" + 0.026*\"uso\" + 0.024*\"material\" + 0.018*\"compra\" + 0.017*\"agua\" + 0.013*\"diseño\" + 0.010*\"acabado\" + 0.009*\"Calidad\"')]"
      ]
     },
     "execution_count": 57,
     "metadata": {},
     "output_type": "execute_result"
    }
   ],
   "source": [
    "model_8topics = lm_list[7]\n",
    "model_8topics.print_topics()"
   ]
  },
  {
   "cell_type": "markdown",
   "id": "635dfb1c",
   "metadata": {},
   "source": [
    "## Note\n",
    "December 2021 update: analysis was made with the `md` model (8 topics) instead of the previous `sm` model (6 topics), so results may be different. "
   ]
  },
  {
   "cell_type": "code",
   "execution_count": null,
   "id": "44ccbb65",
   "metadata": {},
   "outputs": [],
   "source": []
  }
 ],
 "metadata": {
  "kernelspec": {
   "display_name": "Python 3 (ipykernel)",
   "language": "python",
   "name": "python3"
  },
  "language_info": {
   "codemirror_mode": {
    "name": "ipython",
    "version": 3
   },
   "file_extension": ".py",
   "mimetype": "text/x-python",
   "name": "python",
   "nbconvert_exporter": "python",
   "pygments_lexer": "ipython3",
   "version": "3.8.10"
  }
 },
 "nbformat": 4,
 "nbformat_minor": 5
}

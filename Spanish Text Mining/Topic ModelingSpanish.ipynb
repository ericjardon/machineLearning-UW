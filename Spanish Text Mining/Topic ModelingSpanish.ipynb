{
 "cells": [
  {
   "cell_type": "markdown",
   "id": "94fc8484",
   "metadata": {},
   "source": [
    "# Modelado de Tópicos en las reseñas de Amazon\n",
    "\n",
    "Material de apoyo:\n",
    "[Basic tasks with spacy](https://necronet.github.io/Spacy-getting-started-in-spanish/)\n",
    "\n",
    "[Topic Modeling on Spanish Texts](https://medium.com/@armandj.olivares/topic-modeling-on-spanish-text-f7a5e998fb90) \n",
    "\n",
    "### Usar amazon reviews y replicar la últimas práctica de Topic Modeling"
   ]
  },
  {
   "cell_type": "code",
   "execution_count": 24,
   "id": "6115478b",
   "metadata": {},
   "outputs": [],
   "source": [
    "import pandas as pd\n",
    "import numpy as np\n",
    "import pickle\n",
    "import gensim\n",
    "import re\n",
    "from gensim.corpora import Dictionary\n",
    "import nltk\n",
    "from nltk.corpus import wordnet as wn \n",
    "import spacy\n",
    "from sklearn.feature_extraction.text import CountVectorizer\n"
   ]
  },
  {
   "cell_type": "code",
   "execution_count": 11,
   "id": "994d9dc5",
   "metadata": {},
   "outputs": [],
   "source": [
    "train_data = pd.read_json('../data/amazon-reviews-ml/dataset_es_train.json', lines=True)\n",
    "test_data = pd.read_json('../data/amazon-reviews-ml/dataset_es_test.json', lines=True)"
   ]
  },
  {
   "cell_type": "code",
   "execution_count": 16,
   "id": "8ba20d4f",
   "metadata": {},
   "outputs": [],
   "source": [
    "all_data = pd.concat(objs=[train_data, test_data], keys=[])\n"
   ]
  },
  {
   "cell_type": "code",
   "execution_count": 42,
   "id": "00775558",
   "metadata": {},
   "outputs": [],
   "source": [
    "sample = all_data.sample(n=5000)"
   ]
  },
  {
   "cell_type": "markdown",
   "id": "976d9270",
   "metadata": {},
   "source": [
    "### Cleaning the raw text and obtaining a corpus\n",
    "For Topic Clustering we must do some preprocessing to the text before we can feed it to an LDA model.\n",
    "A common approach is to use only the nouns, dismissing the verbs, adjectives and adverbs.\n",
    "Sometimes bigrams are used (e.g. 'No aprendemos', 'en línea', 'bien planeado'), but since we are only using nouns we might want to explore keywords first.\n",
    "\n",
    "1. Lemmatize the words\n",
    "2. Use bigrams **\n",
    "3. Using POS tagging to subselect only nouns\n",
    "4. Clean the remaining text from punctuation, etc."
   ]
  },
  {
   "cell_type": "code",
   "execution_count": 45,
   "id": "6c0ceeb8",
   "metadata": {},
   "outputs": [],
   "source": [
    "# remove stopwords from every review\n",
    "STOPWORDS_ES = set(nltk.corpus.stopwords.words(\"spanish\"))"
   ]
  },
  {
   "cell_type": "code",
   "execution_count": 37,
   "id": "2f7a4f94",
   "metadata": {},
   "outputs": [],
   "source": [
    "# For tokenization, tagging, lemmatization, stemming and NER\n",
    "nlp = spacy.load(\"es_core_news_md\")"
   ]
  },
  {
   "cell_type": "code",
   "execution_count": 46,
   "id": "db012e45",
   "metadata": {},
   "outputs": [],
   "source": [
    "def normalize_tokenize_lemmatize(text):\n",
    "    doc = nlp(text)\n",
    "    VALID_POS = {'PROPN', 'NOUN'}\n",
    "    # Avoid empty word in beggining with doc[1:]\n",
    "    return [word.lemma_ for word in doc if word.lemma_ not in stopwords \n",
    "                                            and word.pos_ in VALID_POS]"
   ]
  },
  {
   "cell_type": "code",
   "execution_count": 47,
   "id": "055bdd68",
   "metadata": {},
   "outputs": [],
   "source": [
    "# Takes a few seconds\n",
    "all_data['text'] = all_data['review'].apply(normalize_tokenize_lemmatize)\n",
    "# 19:39\n",
    "# 20:29"
   ]
  },
  {
   "cell_type": "code",
   "execution_count": 48,
   "id": "80b9abcf",
   "metadata": {},
   "outputs": [
    {
     "data": {
      "text/plain": [
       "0       [television, Nevir, ka, pantalla, mes, respues...\n",
       "1       [Dinero, basura, compra, Horrible, inglés, inf...\n",
       "2                         [unidad, unidad, forma, estafa]\n",
       "3       [PRODUCTO, recibido, vendedor, mes, espera, pr...\n",
       "4                                   [Devuelto, co, talla]\n",
       "                              ...                        \n",
       "4995    [función, sobra, color, envío, plazo, incidencia]\n",
       "4996                    [vendedor, material, descripción]\n",
       "4997                                            [medalla]\n",
       "4998      [timbre, bici, xiaomi, modelo, timbre, manilla]\n",
       "4999    [auricular, cable, verdad, tipo, casco, inalam...\n",
       "Name: text, Length: 205000, dtype: object"
      ]
     },
     "execution_count": 48,
     "metadata": {},
     "output_type": "execute_result"
    }
   ],
   "source": [
    "all_data['text']"
   ]
  },
  {
   "cell_type": "markdown",
   "id": "161c1b8c",
   "metadata": {},
   "source": [
    "#### Transform the text into a bag of words corpus for the model"
   ]
  },
  {
   "cell_type": "code",
   "execution_count": 49,
   "id": "a64ceb73",
   "metadata": {},
   "outputs": [],
   "source": [
    "dictionary = Dictionary(all_data['text'].to_list())"
   ]
  },
  {
   "cell_type": "code",
   "execution_count": 50,
   "id": "917697dc",
   "metadata": {},
   "outputs": [],
   "source": [
    "# Assign ids to every word without gaps\n",
    "dictionary.compactify()\n",
    "\n",
    "# Filter out words that appear in less than 2 documents, thos appearing in more than 97% of corpus, and keep all other words\n",
    "dictionary.filter_extremes(no_below=2, no_above=0.97, keep_n=None)\n",
    "\n",
    "# Reassign ids to every word without gaps after filtering\n",
    "dictionary.compactify()   "
   ]
  },
  {
   "cell_type": "code",
   "execution_count": 51,
   "id": "1a29890e",
   "metadata": {},
   "outputs": [],
   "source": [
    "corpus = [dictionary.doc2bow(text) for text in all_data['text']]"
   ]
  },
  {
   "cell_type": "markdown",
   "id": "557d727b",
   "metadata": {},
   "source": [
    "### Feeding the corpus to the LDA Model\n",
    "1. HDP: We could infer the number of topics in the corpus with an HDP model, but is not always easy to interpret\n",
    "2. LSI: this model tells us the optimal number of topics by looking at a coherence measurement.\n",
    "3. Once we have a good estimate for number of topics we can do LDA model\n",
    "https://medium.com/@armandj.olivares/topic-modeling-on-spanish-text-f7a5e998fb90"
   ]
  },
  {
   "cell_type": "markdown",
   "id": "c73d4558",
   "metadata": {},
   "source": [
    "#### 1. HDP Model to obtain a possible number of topics\n",
    "\n",
    "More info: [Hierarchical Dirichlet Process](https://radimrehurek.com/gensim/models/hdpmodel.html)"
   ]
  },
  {
   "cell_type": "code",
   "execution_count": 1,
   "id": "cc237cc3",
   "metadata": {},
   "outputs": [
    {
     "ename": "NameError",
     "evalue": "name 'corpus' is not defined",
     "output_type": "error",
     "traceback": [
      "\u001b[0;31m---------------------------------------------------------------------------\u001b[0m",
      "\u001b[0;31mNameError\u001b[0m                                 Traceback (most recent call last)",
      "\u001b[0;32m/tmp/ipykernel_4747/3774953526.py\u001b[0m in \u001b[0;36m<module>\u001b[0;34m\u001b[0m\n\u001b[1;32m      1\u001b[0m \u001b[0;32mfrom\u001b[0m \u001b[0mgensim\u001b[0m\u001b[0;34m.\u001b[0m\u001b[0mmodels\u001b[0m \u001b[0;32mimport\u001b[0m \u001b[0mHdpModel\u001b[0m\u001b[0;34m\u001b[0m\u001b[0;34m\u001b[0m\u001b[0m\n\u001b[1;32m      2\u001b[0m \u001b[0;31m# Gives us a inference of the number of possible Topics in the data.\u001b[0m\u001b[0;34m\u001b[0m\u001b[0;34m\u001b[0m\u001b[0;34m\u001b[0m\u001b[0m\n\u001b[0;32m----> 3\u001b[0;31m \u001b[0mhdpmodel\u001b[0m \u001b[0;34m=\u001b[0m \u001b[0mHdpModel\u001b[0m\u001b[0;34m(\u001b[0m\u001b[0mcorpus\u001b[0m\u001b[0;34m=\u001b[0m\u001b[0mcorpus\u001b[0m\u001b[0;34m,\u001b[0m \u001b[0mid2word\u001b[0m\u001b[0;34m=\u001b[0m\u001b[0mdictionary\u001b[0m\u001b[0;34m,\u001b[0m \u001b[0mrandom_state\u001b[0m\u001b[0;34m=\u001b[0m \u001b[0;36m0\u001b[0m\u001b[0;34m)\u001b[0m\u001b[0;34m\u001b[0m\u001b[0;34m\u001b[0m\u001b[0m\n\u001b[0m\u001b[1;32m      4\u001b[0m \u001b[0;34m\u001b[0m\u001b[0m\n\u001b[1;32m      5\u001b[0m \u001b[0mhdpmodel\u001b[0m\u001b[0;34m.\u001b[0m\u001b[0mprint_topics\u001b[0m\u001b[0;34m(\u001b[0m\u001b[0mnum_words\u001b[0m\u001b[0;34m=\u001b[0m\u001b[0;36m10\u001b[0m\u001b[0;34m)\u001b[0m\u001b[0;34m\u001b[0m\u001b[0;34m\u001b[0m\u001b[0m\n",
      "\u001b[0;31mNameError\u001b[0m: name 'corpus' is not defined"
     ]
    }
   ],
   "source": [
    "from gensim.models import HdpModel\n",
    "# Gives us a inference of the number of possible Topics in the data.\n",
    "hdpmodel = HdpModel(corpus=corpus, id2word=dictionary, random_state= 0)\n",
    "\n",
    "hdpmodel.print_topics(num_words=10)\n",
    "# All of the 20 models have word overlaps, so they are useless"
   ]
  },
  {
   "cell_type": "markdown",
   "id": "314db118",
   "metadata": {},
   "source": [
    "#### 2.LDA Model to find the optimal number of topics\n",
    "- We try a number of topics from 1 to 20 and looks for the best coherence measurement"
   ]
  },
  {
   "cell_type": "code",
   "execution_count": 56,
   "id": "f6d961fd",
   "metadata": {},
   "outputs": [],
   "source": [
    "texts = all_data['text'].to_list()"
   ]
  },
  {
   "cell_type": "code",
   "execution_count": 57,
   "id": "58c08c36",
   "metadata": {},
   "outputs": [],
   "source": [
    "# Find the optimal number of topics based on coherence\n",
    "from gensim.models import LdaModel\n",
    "from gensim.models import CoherenceModel\n",
    "\n",
    "MAX_TOPICS = 20\n",
    "c_v = []\n",
    "lm_list = []\n",
    "\n",
    "for n_topics in range(1, MAX_TOPICS+1):\n",
    "    lm = LdaModel(corpus=corpus, num_topics = n_topics, id2word=dictionary)\n",
    "\n",
    "    lm_list.append(lm)\n",
    "    \n",
    "    cm = CoherenceModel(model=lm, texts=texts, dictionary=dictionary, coherence='c_v')\n",
    "    c_v.append(cm.get_coherence())\n",
    "    \n",
    "    # 21:42"
   ]
  },
  {
   "cell_type": "code",
   "execution_count": 58,
   "id": "0875395b",
   "metadata": {},
   "outputs": [
    {
     "data": {
      "image/png": "[encoded data removed]",
      "text/plain": [
       "<Figure size 432x288 with 1 Axes>"
      ]
     },
     "metadata": {
      "needs_background": "light"
     },
     "output_type": "display_data"
    }
   ],
   "source": [
    "import matplotlib.pyplot as plt\n",
    "\n",
    "plt.plot(range(1, MAX_TOPICS+1), c_v)\n",
    "plt.title('Performance by number of topics')\n",
    "plt.xlabel('Number of topics')\n",
    "plt.ylabel('Coherence values')\n",
    "plt.show()"
   ]
  },
  {
   "cell_type": "markdown",
   "id": "8b122eed",
   "metadata": {},
   "source": [
    "From the results we can see that **6** topics is probably the best model (coherence value `0.35522555294632824`)"
   ]
  },
  {
   "cell_type": "code",
   "execution_count": 61,
   "id": "94723560",
   "metadata": {},
   "outputs": [
    {
     "data": {
      "text/plain": [
       "[(0,\n",
       "  '0.128*\"producto\" + 0.029*\"tiempo\" + 0.027*\"compra\" + 0.027*\"envío\" + 0.025*\"regalo\" + 0.023*\"día\" + 0.022*\"entrega\" + 0.022*\"vendedor\" + 0.020*\"problema\" + 0.013*\"Amazon\"'),\n",
       " (1,\n",
       "  '0.026*\"luz\" + 0.025*\"año\" + 0.020*\"uso\" + 0.018*\"color\" + 0.018*\"batería\" + 0.018*\"sonido\" + 0.016*\"hora\" + 0.016*\"Genial\" + 0.015*\"compra\" + 0.014*\"día\"'),\n",
       " (2,\n",
       "  '0.168*\"calidad\" + 0.124*\"precio\" + 0.025*\"relación\" + 0.022*\"compra\" + 0.021*\"material\" + 0.021*\"producto\" + 0.011*\"Calidad\" + 0.011*\"color\" + 0.010*\"imagen\" + 0.009*\"función\"'),\n",
       " (3,\n",
       "  '0.062*\"Perfecto\" + 0.029*\"cable\" + 0.024*\"tiempo\" + 0.017*\"Perfecta\" + 0.017*\"Excelente\" + 0.013*\"descripción\" + 0.011*\"Ideal\" + 0.011*\"problema\" + 0.010*\"uso\" + 0.009*\"cometido\"'),\n",
       " (4,\n",
       "  '0.038*\"funda\" + 0.031*\"tamaño\" + 0.030*\"pantalla\" + 0.029*\"libro\" + 0.027*\"móvil\" + 0.020*\"función\" + 0.015*\"teléfono\" + 0.015*\"protector\" + 0.015*\"cámara\" + 0.014*\"reloj\"'),\n",
       " (5,\n",
       "  '0.042*\"foto\" + 0.031*\"tal\" + 0.021*\"caja\" + 0.020*\"agua\" + 0.016*\"tamaño\" + 0.015*\"juego\" + 0.015*\"niño\" + 0.012*\"q\" + 0.011*\"super\" + 0.011*\"bolsa\"')]"
      ]
     },
     "execution_count": 61,
     "metadata": {},
     "output_type": "execute_result"
    }
   ],
   "source": [
    "model_6topics = lm_list[5]\n",
    "model_6topics.print_topics()"
   ]
  },
  {
   "cell_type": "markdown",
   "id": "12d5d746",
   "metadata": {},
   "source": [
    "#### Interpretación de los seis tópicos\n",
    "Al usar monogramas probablemente sea más difícil para un humano encontrar la relación entre las palabras asociadas a un topic.\n",
    "\n",
    "Un mejor análisis sería trabajar por separado los reviews positivos y los reviews negativos y correr de nuevo el topic modeling. Esto muy seguramente nos daría temas muy distintos para cada una de las categorías.\n",
    "\n",
    "En este caso, tratando todas las reseñas por igual, podemos dar una interpretación más o menos tersa:\n",
    "1. Acerca del tiempo de entrega o envío\n",
    "2. Acerca de los componentes o versión del producto\n",
    "3. Acerca de la calidad del producto\n",
    "4. Manifestación del cliente de su gusto con el producto\n",
    "5. Acerca de teléfonos celulares y sus características\n",
    "6. ????\n",
    "\n",
    "Posibles mejoras:\n",
    "- Uso de bigramas o trigramas\n",
    "- Modelos separados de reseñas positivas y negativas\n"
   ]
  },
  {
   "cell_type": "code",
   "execution_count": null,
   "id": "9f4fdecd",
   "metadata": {},
   "outputs": [],
   "source": []
  }
 ],
 "metadata": {
  "kernelspec": {
   "display_name": "Python 3 (ipykernel)",
   "language": "python",
   "name": "python3"
  },
  "language_info": {
   "codemirror_mode": {
    "name": "ipython",
    "version": 3
   },
   "file_extension": ".py",
   "mimetype": "text/x-python",
   "name": "python",
   "nbconvert_exporter": "python",
   "pygments_lexer": "ipython3",
   "version": "3.8.10"
  }
 },
 "nbformat": 4,
 "nbformat_minor": 5
}
